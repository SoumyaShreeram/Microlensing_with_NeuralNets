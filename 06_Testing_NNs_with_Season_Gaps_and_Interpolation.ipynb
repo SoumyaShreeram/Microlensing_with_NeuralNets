{
  "nbformat": 4,
  "nbformat_minor": 0,
  "metadata": {
    "colab": {
      "name": "06_Testing_NNs_with_Season_Gaps_and_Interpolation.ipynb",
      "provenance": [],
      "collapsed_sections": [],
      "machine_shape": "hm",
      "authorship_tag": "ABX9TyP+stxXoVVVCnbkZ4tBCiBu",
      "include_colab_link": true
    },
    "kernelspec": {
      "name": "python3",
      "display_name": "Python 3"
    },
    "accelerator": "GPU"
  },
  "cells": [
    {
      "cell_type": "markdown",
      "metadata": {
        "id": "view-in-github",
        "colab_type": "text"
      },
      "source": [
        "<a href=\"https://colab.research.google.com/github/SoumyaShreeram/Microlensing_with_NeuralNets/blob/master/06_Testing_NNs_with_Season_Gaps_and_Interpolation.ipynb\" target=\"_parent\"><img src=\"https://colab.research.google.com/assets/colab-badge.svg\" alt=\"Open In Colab\"/></a>"
      ]
    },
    {
      "cell_type": "markdown",
      "metadata": {
        "id": "Iv0iBoEj6qK3",
        "colab_type": "text"
      },
      "source": [
        "## Testing Neural Network Architecture\n",
        "\n",
        "The following notebook uses NNs using the light-curves that are\n",
        "  - Linearly intrapolated\n",
        "\n",
        "The model is trained, tested, and evaluated. \n",
        "\n",
        "Author: Soumya Shreeram <br>\n",
        "Script adapted from: Millon Martin & Kevin Müller <br>\n",
        "Date: 23rd February 2020"
      ]
    },
    {
      "cell_type": "markdown",
      "metadata": {
        "id": "deDcrZnEPlzz",
        "colab_type": "text"
      },
      "source": [
        "Import all required python libraries"
      ]
    },
    {
      "cell_type": "code",
      "metadata": {
        "id": "hIOkLVF5WNgW",
        "colab_type": "code",
        "outputId": "88079135-9de1-43db-b199-403ec8facc38",
        "colab": {
          "base_uri": "https://localhost:8080/",
          "height": 34
        }
      },
      "source": [
        "from google.colab import drive\n",
        "import os\n",
        "import pickle\n",
        "import importlib\n",
        "import itertools\n",
        "\n",
        "import numpy as np\n",
        "import matplotlib.pyplot as plt\n",
        "plt.rcParams.update({'font.size': 16})\n",
        "import random\n",
        "import os\n",
        "from IPython.display import Image, SVG\n",
        "\n",
        "from sklearn.model_selection import train_test_split\n",
        "from sklearn.metrics import classification_report\n",
        "from sklearn.metrics import confusion_matrix\n",
        "from scipy.interpolate import interp1d \n",
        "\n",
        "%tensorflow_version 1.x\n",
        "import tensorflow as tf\n",
        "\n",
        "from tensorflow.keras.models import Model, Sequential\n",
        "from tensorflow.keras.layers import Input, Activation, InputSpec\n",
        "from tensorflow.python.keras.layers import Conv1D, Conv2D\n",
        "from tensorflow.python.keras.layers import MaxPooling1D, MaxPooling2D, GlobalMaxPooling2D\n",
        "from tensorflow.keras.layers import Dense, Dropout, Flatten, Add, BatchNormalization, Concatenate\n",
        "from tensorflow.keras.optimizers import SGD, Adam\n",
        "from tensorflow.keras.utils import plot_model\n",
        "from tensorflow.keras import backend as K\n",
        "from tensorflow.keras.layers import Layer"
      ],
      "execution_count": 3,
      "outputs": [
        {
          "output_type": "stream",
          "text": [
            "TensorFlow 1.x selected.\n"
          ],
          "name": "stdout"
        }
      ]
    },
    {
      "cell_type": "markdown",
      "metadata": {
        "id": "jDf-kPS_OvVQ",
        "colab_type": "text"
      },
      "source": [
        "Mount google drive"
      ]
    },
    {
      "cell_type": "code",
      "metadata": {
        "id": "V7aoHjFTP2s9",
        "colab_type": "code",
        "outputId": "d818ffd2-2f37-4ebf-b3d2-6bc79b2a6bd8",
        "colab": {
          "base_uri": "https://localhost:8080/",
          "height": 122
        }
      },
      "source": [
        "drive.mount('/content/gdrive')"
      ],
      "execution_count": 4,
      "outputs": [
        {
          "output_type": "stream",
          "text": [
            "Go to this URL in a browser: https://accounts.google.com/o/oauth2/auth?client_id=947318989803-6bn6qk8qdgf4n4g3pfee6491hc0brc4i.apps.googleusercontent.com&redirect_uri=urn%3aietf%3awg%3aoauth%3a2.0%3aoob&response_type=code&scope=email%20https%3a%2f%2fwww.googleapis.com%2fauth%2fdocs.test%20https%3a%2f%2fwww.googleapis.com%2fauth%2fdrive%20https%3a%2f%2fwww.googleapis.com%2fauth%2fdrive.photos.readonly%20https%3a%2f%2fwww.googleapis.com%2fauth%2fpeopleapi.readonly\n",
            "\n",
            "Enter your authorization code:\n",
            "··········\n",
            "Mounted at /content/gdrive\n"
          ],
          "name": "stdout"
        }
      ]
    },
    {
      "cell_type": "markdown",
      "metadata": {
        "id": "CFu89FBF3rYM",
        "colab_type": "text"
      },
      "source": [
        "Directory where the `python` files are stored on Google Drive. These imported files are also available in `.ipynb` format on the GitHub repo with same names (without the dr; <strike>`dr`</strike>`0X_sameFileName`). dr stands for drive. "
      ]
    },
    {
      "cell_type": "code",
      "metadata": {
        "id": "aQmHoYFN3sX1",
        "colab_type": "code",
        "colab": {}
      },
      "source": [
        "os.chdir('/content/gdrive/My Drive/Colab Notebooks')\n",
        "\n",
        "import nb_02i_preprocessing_data as dat\n",
        "import nb_03_neural_network_designs as nnet"
      ],
      "execution_count": 0,
      "outputs": []
    },
    {
      "cell_type": "markdown",
      "metadata": {
        "id": "DJbzcl4A8xJQ",
        "colab_type": "text"
      },
      "source": [
        "Setting up the path to the data directory"
      ]
    },
    {
      "cell_type": "code",
      "metadata": {
        "id": "gl3kJxIDwwxH",
        "colab_type": "code",
        "colab": {}
      },
      "source": [
        "current_dir = os.getcwd()\n",
        "data_dir = '/content/gdrive/My Drive/training_set_microlensing/'\n",
        "save_image_dir = r'/content/gdrive/My Drive/Colab Notebooks/Images/'\n",
        "save_model_dir = r'/content/gdrive/My Drive/Colab Notebooks/Models/'\n",
        "save_data_dir = r'/content/gdrive/My Drive/Colab Notebooks/Data/'"
      ],
      "execution_count": 0,
      "outputs": []
    },
    {
      "cell_type": "markdown",
      "metadata": {
        "id": "mF4SshagaAw2",
        "colab_type": "text"
      },
      "source": [
        "### 1. Input parameters"
      ]
    },
    {
      "cell_type": "code",
      "metadata": {
        "id": "xYQFOUe7Z-98",
        "colab_type": "code",
        "colab": {}
      },
      "source": [
        "v_t = [500, 300] # transverse velcity\n",
        "v_t_idx = 0 # choose index value for the velocity you would like (0 or 1)\n",
        "r_0 = (2,4,10,15,20,30,40,60,80,100) # scale radius\n",
        "output_class_names = [str(r) for r in r_0 ]\n",
        "\n",
        "# select type of Interpolation\n",
        "cubic, linear = False, True\n",
        "\n",
        "\"\"\"\"select the type of nnet's to use\n",
        "old_version :: borrowed from Martin & Kevins code\n",
        "modified_version :: some minor changes compared to previous version\n",
        "\"\"\"\n",
        "old_version, modified_version = True, False\n",
        "\n",
        "# data loaded with season gaps\n",
        "season_gaps = True\n",
        "\n",
        "# if using the new data set generated by Eric\n",
        "new_data_set = True\n",
        "\n",
        "# generates new interpolated light curves? OR Use previously saved light curves?\n",
        "generate_new_files, use_saved_file = False, True"
      ],
      "execution_count": 0,
      "outputs": []
    },
    {
      "cell_type": "markdown",
      "metadata": {
        "id": "E9x31ZGmsWsD",
        "colab_type": "text"
      },
      "source": [
        "### 2. Load the data"
      ]
    },
    {
      "cell_type": "markdown",
      "metadata": {
        "id": "f58qKFoTr0TS",
        "colab_type": "text"
      },
      "source": [
        "There are 10 categories into which the light-curves are classified. Each category is represented by the scale radius `r_0`. For every scale radius, there exists a light-curve whose data points are stored in the 3D array `l_curves`."
      ]
    },
    {
      "cell_type": "code",
      "metadata": {
        "id": "EwCb_eMa9AlY",
        "colab_type": "code",
        "outputId": "80bb63e5-c332-46c2-cf7a-2bcdfc39e22e",
        "colab": {
          "base_uri": "https://localhost:8080/",
          "height": 34
        }
      },
      "source": [
        "# sets the sampling parameters\n",
        "sample_params = dat.setSamplingParameters(v_t[v_t_idx], data_dir, season_gaps)\n",
        "\n",
        "# initializes data arrays\n",
        "class_cat, l_curves, out_catergories, out_radii = dat.initializer(r_0, \\\n",
        "                                                                  sample_params)\n",
        "\n",
        "for idx, rad in enumerate(r_0):\n",
        "  filename = dat.getFilename(data_dir, idx, rad, v_t[v_t_idx], sample_params, \\\n",
        "                             season_gaps, new_data_set)\n",
        "  \n",
        "  # load data from the file\n",
        "  l_curves, _, _ = dat.loadData(filename, idx, l_curves, sample_params, idx,\\\n",
        "                                  season_gaps, new_data_set)\n",
        "  out_catergories[idx*sample_params[0][idx]:(idx+1)*sample_params[0][idx]] = class_cat[1][idx]\n",
        "  out_radii[idx*sample_params[0][idx]:(idx+1)*sample_params[0][idx]] = r_0[idx]\n",
        "\n",
        "print('Shape of light curves vector:', np.shape(l_curves))"
      ],
      "execution_count": 8,
      "outputs": [
        {
          "output_type": "stream",
          "text": [
            "Shape of light curves vector: (50000, 955, 1)\n"
          ],
          "name": "stdout"
        }
      ]
    },
    {
      "cell_type": "markdown",
      "metadata": {
        "id": "SrzBq0Rz-k4E",
        "colab_type": "text"
      },
      "source": [
        "#### 2.1 Interpolation of the light curves"
      ]
    },
    {
      "cell_type": "code",
      "metadata": {
        "id": "2KU1mbCN_yhc",
        "colab_type": "code",
        "colab": {}
      },
      "source": [
        "def interpolateLCurves(l_curves, mjhd, l_curves_interpolated, type_inter='linear'):\n",
        "  \"\"\"\n",
        "  Function for interpolating the light curves 'linearly'\n",
        "  @l_curves :: non-interpolated light curves 3Darray\n",
        "  @l_curves_interpolated :: empty array with shape same as l_curves\n",
        "\n",
        "  @Returns:: linearly interpolated light curves 3Darray\n",
        "  \"\"\"\n",
        "  for i in range(len(l_curves)):\n",
        "    # x array of times\n",
        "    x = mjhd\n",
        "    y = l_curves[i, :, 0]\n",
        "    \n",
        "    # interpolation\n",
        "    f = interp1d(x,y, kind=type_inter)\n",
        "    \n",
        "    # capturing the features using y_inter\n",
        "    xnew = np.linspace(x[0], x[-1], num=len(mjhd))\n",
        "    y_inter = f(xnew)\n",
        "\n",
        "    # setting the shape same as that on l_curves array\n",
        "    y_inter.shape = (len(y_inter), 1)\n",
        "    l_curves_interpolated = np.append(l_curves_interpolated, [y_inter], axis=0)\n",
        "  return l_curves_interpolated, xnew"
      ],
      "execution_count": 0,
      "outputs": []
    },
    {
      "cell_type": "markdown",
      "metadata": {
        "id": "gOBzH-tKqJrI",
        "colab_type": "text"
      },
      "source": [
        "Linear and cubic interpolation were tested and it was found that the linear interpolation well approcimated the gaps. Cubic interpolation exaggerated the features in the gaps."
      ]
    },
    {
      "cell_type": "code",
      "metadata": {
        "id": "6C1EjlFE-iNW",
        "colab_type": "code",
        "colab": {}
      },
      "source": [
        "# initializing a light curve array to store the interpolated curves\n",
        "l_curves_interpolated = np.array([])\n",
        "l_curves_interpolated.shape = (0, len(l_curves[0,:,0]),1)\n",
        "\n",
        "# time array loaded from a file\n",
        "mjhd = np.load(data_dir+'Light_Curves/mjhd.npy')\n",
        "\n",
        "if generate_new_files:\n",
        "  # linear/cubic interpolated the light curves\n",
        "  if linear:\n",
        "    lc_inter_linear, mjhd_inter = interpolateLCurves(l_curves, mjhd, l_curves_interpolated, \\\n",
        "                                        type_inter='linear')\n",
        "    \n",
        "  if cubic:\n",
        "    lc_inter_cubic, mjhd_inter = interpolateLCurves(l_curves, mjhd, l_curves_interpolated, \\\n",
        "                                        type_inter='cubic')"
      ],
      "execution_count": 0,
      "outputs": []
    },
    {
      "cell_type": "markdown",
      "metadata": {
        "id": "BtSuikKUfFGa",
        "colab_type": "text"
      },
      "source": [
        "Saves the light curve arrays"
      ]
    },
    {
      "cell_type": "code",
      "metadata": {
        "id": "NUkVAet9qVZw",
        "colab_type": "code",
        "colab": {}
      },
      "source": [
        "if generate_new_files:  \n",
        "  dat.saveFile(data_dir, 'Light_Curves/lcurves_SeasonGaps_LinearInter_%d'%len(lc_inter_linear), lc_inter_linear)\n",
        "  dat.saveFile(data_dir, 'Light_Curves/mjhd_inter', mjhd_inter)\n",
        "\n",
        "  # prints the light curves array shape\n",
        "  dat.printLcurvesShape(lc_inter_linear)"
      ],
      "execution_count": 0,
      "outputs": []
    },
    {
      "cell_type": "markdown",
      "metadata": {
        "id": "f0ALVXUZqUH4",
        "colab_type": "text"
      },
      "source": [
        "Loads the ligths arrays (if not generated again)"
      ]
    },
    {
      "cell_type": "code",
      "metadata": {
        "id": "hOLc2Ihge47u",
        "colab_type": "code",
        "outputId": "24848a33-ef20-4794-9e25-c6633596a028",
        "colab": {
          "base_uri": "https://localhost:8080/",
          "height": 34
        }
      },
      "source": [
        "if use_saved_file:\n",
        "  lc_inter_linear = dat.loadFile(data_dir, \\\n",
        "                                 'Light_Curves/lcurves_SeasonGaps_LinearInter_%d'%len(l_curves))\n",
        "  mjhd_inter = dat.loadFile(data_dir, 'Light_Curves/mjhd_inter')\n",
        "  \n",
        "  # prints the light curves shape\n",
        "  dat.printLcurvesShape(lc_inter_linear)"
      ],
      "execution_count": 9,
      "outputs": [
        {
          "output_type": "stream",
          "text": [
            "shape of light curves arrays: (50000, 955, 1)\n"
          ],
          "name": "stdout"
        }
      ]
    },
    {
      "cell_type": "markdown",
      "metadata": {
        "id": "c4tKn20MtLo5",
        "colab_type": "text"
      },
      "source": [
        "#### 2.1 Plots of some random light-curves"
      ]
    },
    {
      "cell_type": "code",
      "metadata": {
        "id": "dbfCcU01tQAf",
        "colab_type": "code",
        "outputId": "09a7fb78-a5d4-4f95-e11a-757e17b69097",
        "colab": {
          "base_uri": "https://localhost:8080/",
          "height": 313
        }
      },
      "source": [
        "fig, ax = plt.subplots(1, 1, figsize=(6, 4))\n",
        "n = [9900, 2600]\n",
        "colors = ['#7bdbaa',  '#8b88eb', '#888894']\n",
        "\n",
        "mjhd = np.load(data_dir+'Light_Curves/mjhd.npy')\n",
        "\n",
        "for i, num in enumerate(n):\n",
        "  # light curves with cubic interpolation\n",
        "  if cubic:\n",
        "    ax.plot(mjhd_inter, lc_inter_cubic[n[i], :, 0], '.', color='r', label='Cubic interpolation', markersize=4)\n",
        "\n",
        "  # light curves with linear interpolation\n",
        "  ax.plot(mjhd_inter, lc_inter_linear[n[i], :, 0], '.', color='k', markersize=2)\n",
        "\n",
        "  # without interpolation\n",
        "  ax.plot(mjhd, l_curves[n[i], :], '.', color=colors[i], label='Radius: %i'%(out_radii[n[i]]), markersize=8)\n",
        "\n",
        "dat.setLabels(ax, 'HJD (days)', 'Magnitude', ticks=True, legend=True)\n",
        "fig.savefig(save_image_dir+'/interpolated_lcurves.png') \n",
        "\n",
        "print(out_radii[9900], out_radii[2600])"
      ],
      "execution_count": 10,
      "outputs": [
        {
          "output_type": "stream",
          "text": [
            "4.0 2.0\n"
          ],
          "name": "stdout"
        },
        {
          "output_type": "display_data",
          "data": {
            "image/png": "[encoded data removed]",
            "text/plain": [
              "<Figure size 432x288 with 1 Axes>"
            ]
          },
          "metadata": {
            "tags": [],
            "needs_background": "light"
          }
        }
      ]
    },
    {
      "cell_type": "markdown",
      "metadata": {
        "id": "n_QsEWkm-3xj",
        "colab_type": "text"
      },
      "source": [
        "### 3. Generate training and testing data sets\n",
        "\n",
        "Proceeding with linear interpolation."
      ]
    },
    {
      "cell_type": "code",
      "metadata": {
        "id": "xT004oTHEMmb",
        "colab_type": "code",
        "colab": {}
      },
      "source": [
        "train_l_curves, test_l_curves, onehot_train, onehot_test, train_radii, \\\n",
        "test_radii  = dat.generateTestTrain(lc_inter_linear, out_catergories, out_radii, r_0)\n",
        "\n",
        "trainX, trainy, testX, testy = train_l_curves, onehot_train, test_l_curves, onehot_test"
      ],
      "execution_count": 0,
      "outputs": []
    },
    {
      "cell_type": "markdown",
      "metadata": {
        "id": "6Okkl7tfzhu4",
        "colab_type": "text"
      },
      "source": [
        "### 4. Compiling the 3 networks\n",
        "\n",
        "The three networks compiled here are coded in `03_Neural_Network_Designs.ipynb` that have been saved as `nb04_Neural_Network_Designs.py`, for ease of importing it. The python files can be found in the GitHub repo folder *python files*. \n",
        "\n",
        "Note that if you are running this from colab, need to have these `.py` files in your drive folder *Colab Notebooks*. \n",
        "\n",
        "The three networks are the Convolutional Neural Network (**CNN**), Residual Neural Network with 7 layers (**ResNet7**), and the Residual Neural Network with 18 layers (**ResNet18**)."
      ]
    },
    {
      "cell_type": "code",
      "metadata": {
        "id": "VqVXaRDVC0uB",
        "colab_type": "code",
        "outputId": "f9188471-48f6-4bc7-8939-62dce590768d",
        "colab": {
          "base_uri": "https://localhost:8080/",
          "height": 34
        }
      },
      "source": [
        "# choose one of these networks to use by setting the boolean to True and rest to False\n",
        "CNN, ResNet7, ResNet18 = False, False, True\n",
        "\n",
        "model_types = [CNN, ResNet7, ResNet18]\n",
        "model_name_list = ['CNN','ResNet7', 'ResNet18']\n",
        "\n",
        "for i in range(len(model_name_list)):\n",
        "  if model_types[i]:\n",
        "    model_name = model_name_list[i]\n",
        "print('Using the Neural Network:', model_name)"
      ],
      "execution_count": 12,
      "outputs": [
        {
          "output_type": "stream",
          "text": [
            "Using the Neural Network: ResNet18\n"
          ],
          "name": "stdout"
        }
      ]
    },
    {
      "cell_type": "markdown",
      "metadata": {
        "id": "TGINq-rrVXgU",
        "colab_type": "text"
      },
      "source": [
        "The following code block uses the methods defined in the file `dr04_Neural_Network_Designs.py`: imported as **`nnet`**\n",
        "\n",
        "Model parameters are defined in the methods in **`nnet`** additionally some more details:\n",
        "* `num_hidden_nodes`: number of nodes in hidden fully connected layer\n",
        "*`dropout_ratio`: % of nodes in the hidden layer to dropout during back-propagation update of the network weights"
      ]
    },
    {
      "cell_type": "markdown",
      "metadata": {
        "id": "zg4jZomdnLWf",
        "colab_type": "text"
      },
      "source": [
        "#### 4.1 Compiling CNN"
      ]
    },
    {
      "cell_type": "code",
      "metadata": {
        "id": "KMuhDzuAziUB",
        "colab_type": "code",
        "colab": {}
      },
      "source": [
        "if CNN:\n",
        "  # reloads the file if any changes are made\n",
        "  importlib.reload(nnet)\n",
        "\n",
        "  # CNN model parameters\n",
        "  num_filter = (32, 32, 44, 44)\n",
        "  kern_size = (21,21,15,15)\n",
        "  maxpoolsize = (None, 15, None, 15)\n",
        "  shortcut_link = (0,1,2,3)\n",
        "  batch_norm = False\n",
        "  dropout_ratio = 0.4  \n",
        "  sampling = 3\n",
        "  num_pieces = 1\n",
        "  num_hidden_nodes = 1500\n",
        "  \n",
        "  # build the model\n",
        "  inputs, outputs = nnet.buildCNN(sample_params[2], num_filter, kern_size, maxpoolsize, \\\n",
        "                                  num_hidden_nodes, dropout_ratio, r_0)\n",
        "  \n",
        "  # optimization, compilation parameters\n",
        "  optimizer_type = Adam(lr=5e-4)  \n",
        "  loss = 'categorical_crossentropy'  \n",
        "  metrics = ['categorical_accuracy'] \n",
        "\n",
        "  # compiles the model\n",
        "  model = nnet.compileDisplayNetwork(inputs, outputs, optimizer_type, loss, \\\n",
        "                                    metrics, save_image_dir+'CNN', True)\n",
        "    \n",
        "  print('Network created')"
      ],
      "execution_count": 0,
      "outputs": []
    },
    {
      "cell_type": "markdown",
      "metadata": {
        "id": "e7tQbQzznRy3",
        "colab_type": "text"
      },
      "source": [
        "#### 4.2 Compiling ResNet-7"
      ]
    },
    {
      "cell_type": "code",
      "metadata": {
        "id": "-sC8EiXgzTFy",
        "colab_type": "code",
        "colab": {
          "base_uri": "https://localhost:8080/",
          "height": 224
        },
        "outputId": "4c10bbe9-5fe1-40e3-fcc6-5ccf114b72ba"
      },
      "source": [
        "if ResNet7:\n",
        "  # reloads the file if any changes are made\n",
        "  importlib.reload(nnet)\n",
        "\n",
        "  # CNN model parameters\n",
        "  num_filter = (32, 32, 44, 44)\n",
        "  kern_size = (21,21,15,15)\n",
        "  maxpoolsize = (None, 15, None, 15)\n",
        "  shortcut_link = (0,1,2,3)\n",
        "  batch_norm = False\n",
        "  dropout_ratio = 0.4  \n",
        "  sampling = 3\n",
        "  num_pieces = 1\n",
        "  num_hidden_nodes = [1500]\n",
        "  \n",
        "  # prepare data with sample cuts with the correct shape\n",
        "  testX_prep = nnet.prepareDataSampleCuts(testX, sampling, num_pieces)\n",
        "  trainX_prep = nnet.prepareDataSampleCuts(trainX, sampling, num_pieces)\n",
        "\n",
        "  # build the model\n",
        "  inputs, outputs = nnet.buildResNet7(num_filter, kern_size, \\\n",
        "                                                  maxpoolsize, num_hidden_nodes[0], \\\n",
        "                                                  dropout_ratio, shortcut_link, \\\n",
        "                                                  batch_norm, trainX_prep.shape[1], r_0)\n",
        "  \n",
        "  # optimization, compilation parameters\n",
        "  optimizer_type = Adam(lr=5e-4)  \n",
        "  loss = 'categorical_crossentropy'  \n",
        "  metrics = ['categorical_accuracy'] \n",
        "\n",
        "  # compiles the model\n",
        "  model = nnet.compileDisplayNetwork(inputs, outputs, optimizer_type, loss, \\\n",
        "                                    metrics, save_image_dir+'ResNet-7', do_print_summary = False)\n",
        "    \n",
        "  print('Network created')"
      ],
      "execution_count": 18,
      "outputs": [
        {
          "output_type": "stream",
          "text": [
            "reshaped data (319,)\n",
            "reshaped data (319,)\n",
            "WARNING:tensorflow:From /tensorflow-1.15.2/python3.6/tensorflow_core/python/ops/resource_variable_ops.py:1630: calling BaseResourceVariable.__init__ (from tensorflow.python.ops.resource_variable_ops) with constraint is deprecated and will be removed in a future version.\n",
            "Instructions for updating:\n",
            "If using Keras pass *_constraint arguments to layers.\n",
            "WARNING:tensorflow:From /tensorflow-1.15.2/python3.6/tensorflow_core/python/keras/backend.py:4277: where (from tensorflow.python.ops.array_ops) is deprecated and will be removed in a future version.\n",
            "Instructions for updating:\n",
            "Use tf.where in 2.0, which has the same broadcast rule as np.where\n",
            "WARNING:tensorflow:Entity <bound method GlobalMaxPoolingSp2D.call of <nb_03_neural_network_designs.GlobalMaxPoolingSp2D object at 0x7fe18f517be0>> could not be transformed and will be executed as-is. Please report this to the AutoGraph team. When filing the bug, set the verbosity to 10 (on Linux, `export AUTOGRAPH_VERBOSITY=10`) and attach the full output. Cause: Bad argument number for Name: 3, expecting 4\n",
            "WARNING: Entity <bound method GlobalMaxPoolingSp2D.call of <nb_03_neural_network_designs.GlobalMaxPoolingSp2D object at 0x7fe18f517be0>> could not be transformed and will be executed as-is. Please report this to the AutoGraph team. When filing the bug, set the verbosity to 10 (on Linux, `export AUTOGRAPH_VERBOSITY=10`) and attach the full output. Cause: Bad argument number for Name: 3, expecting 4\n",
            "Network created\n"
          ],
          "name": "stdout"
        }
      ]
    },
    {
      "cell_type": "markdown",
      "metadata": {
        "id": "0aszD2Huquz8",
        "colab_type": "text"
      },
      "source": [
        "### 4.3 Compiling ResNet-18"
      ]
    },
    {
      "cell_type": "code",
      "metadata": {
        "id": "e9He7fhcqtIR",
        "colab_type": "code",
        "colab": {
          "base_uri": "https://localhost:8080/",
          "height": 1000
        },
        "outputId": "a768e103-574e-4c20-ea46-495f1a83efa9"
      },
      "source": [
        "if ResNet18:\n",
        "  # reloads the file if any changes are made\n",
        "  importlib.reload(nnet)\n",
        "\n",
        "  # ResNet model parameters\n",
        "  num_filter = (32, 32, 32)\n",
        "  kern_size = (10,20,50)\n",
        "  n_block = 5\n",
        "  maxpoolsize = 3\n",
        "  num_hidden_nodes =[1000.0,]\n",
        "  dropout_ratio = 0.7 \n",
        "  batch_norm = True\n",
        "  sampling = 1\n",
        "  num_pieces = 1\n",
        "\n",
        "  # build network\n",
        "  inputs, outputs = nnet.buildResNet18(sample_params[2], num_filter, kern_size, n_block, \\\n",
        "                                 maxpoolsize, num_hidden_nodes, dropout_ratio, r_0,\\\n",
        "                                 batch_norm)\n",
        "  \n",
        "  # ResNet compilation parameters\n",
        "  learning_rate = 1e-4\n",
        "  max_epochs = 80\n",
        "  decay = learning_rate/max_epochs\n",
        "  optimizer_type = Adam(lr=learning_rate, decay=decay)  \n",
        "  loss = 'categorical_crossentropy'  \n",
        "  metrics = ['categorical_accuracy'] \n",
        "\n",
        "  # compiles network\n",
        "  model = nnet.compileDisplayNetwork(inputs, outputs, optimizer_type, loss, \\\n",
        "                                     metrics,save_image_dir+'ResNet-18', True)\n",
        "  \n",
        "  #model.load_weights('/content/gdrive/My Drive/Colab_Notebooks/Deep_learning_for_optical_IMaging/Resnet_weights.h5')\n",
        "  print('Network created')"
      ],
      "execution_count": 14,
      "outputs": [
        {
          "output_type": "stream",
          "text": [
            "WARNING:tensorflow:From /tensorflow-1.15.2/python3.6/tensorflow_core/python/ops/resource_variable_ops.py:1630: calling BaseResourceVariable.__init__ (from tensorflow.python.ops.resource_variable_ops) with constraint is deprecated and will be removed in a future version.\n",
            "Instructions for updating:\n",
            "If using Keras pass *_constraint arguments to layers.\n",
            "WARNING:tensorflow:Entity <bound method GlobalMaxPoolingSp2D.call of <nb_03_neural_network_designs.GlobalMaxPoolingSp2D object at 0x7f184f78eac8>> could not be transformed and will be executed as-is. Please report this to the AutoGraph team. When filing the bug, set the verbosity to 10 (on Linux, `export AUTOGRAPH_VERBOSITY=10`) and attach the full output. Cause: Bad argument number for Name: 3, expecting 4\n",
            "WARNING: Entity <bound method GlobalMaxPoolingSp2D.call of <nb_03_neural_network_designs.GlobalMaxPoolingSp2D object at 0x7f184f78eac8>> could not be transformed and will be executed as-is. Please report this to the AutoGraph team. When filing the bug, set the verbosity to 10 (on Linux, `export AUTOGRAPH_VERBOSITY=10`) and attach the full output. Cause: Bad argument number for Name: 3, expecting 4\n",
            "WARNING:tensorflow:Large dropout rate: 0.7 (>0.5). In TensorFlow 2.x, dropout() uses dropout rate instead of keep_prob. Please ensure that this is intended.\n",
            "Model: \"model\"\n",
            "__________________________________________________________________________________________________\n",
            "Layer (type)                    Output Shape         Param #     Connected to                     \n",
            "==================================================================================================\n",
            "input_1 (InputLayer)            [(None, 955, None, 1 0                                            \n",
            "__________________________________________________________________________________________________\n",
            "conv2d (Conv2D)                 (None, 955, None, 32 352         input_1[0][0]                    \n",
            "__________________________________________________________________________________________________\n",
            "activation (Activation)         (None, 955, None, 32 0           conv2d[0][0]                     \n",
            "__________________________________________________________________________________________________\n",
            "conv2d_1 (Conv2D)               (None, 955, None, 32 20512       activation[0][0]                 \n",
            "__________________________________________________________________________________________________\n",
            "activation_1 (Activation)       (None, 955, None, 32 0           conv2d_1[0][0]                   \n",
            "__________________________________________________________________________________________________\n",
            "conv2d_2 (Conv2D)               (None, 955, None, 32 51232       activation_1[0][0]               \n",
            "__________________________________________________________________________________________________\n",
            "activation_2 (Activation)       (None, 955, None, 32 0           conv2d_2[0][0]                   \n",
            "__________________________________________________________________________________________________\n",
            "add (Add)                       (None, 955, None, 32 0           activation_2[0][0]               \n",
            "                                                                 input_1[0][0]                    \n",
            "__________________________________________________________________________________________________\n",
            "max_pooling2d (MaxPooling2D)    (None, 477, None, 32 0           add[0][0]                        \n",
            "__________________________________________________________________________________________________\n",
            "batch_normalization (BatchNorma (None, 477, None, 32 128         max_pooling2d[0][0]              \n",
            "__________________________________________________________________________________________________\n",
            "conv2d_3 (Conv2D)               (None, 477, None, 32 10272       batch_normalization[0][0]        \n",
            "__________________________________________________________________________________________________\n",
            "activation_3 (Activation)       (None, 477, None, 32 0           conv2d_3[0][0]                   \n",
            "__________________________________________________________________________________________________\n",
            "conv2d_4 (Conv2D)               (None, 477, None, 32 20512       activation_3[0][0]               \n",
            "__________________________________________________________________________________________________\n",
            "activation_4 (Activation)       (None, 477, None, 32 0           conv2d_4[0][0]                   \n",
            "__________________________________________________________________________________________________\n",
            "conv2d_5 (Conv2D)               (None, 477, None, 32 51232       activation_4[0][0]               \n",
            "__________________________________________________________________________________________________\n",
            "activation_5 (Activation)       (None, 477, None, 32 0           conv2d_5[0][0]                   \n",
            "__________________________________________________________________________________________________\n",
            "add_1 (Add)                     (None, 477, None, 32 0           activation_5[0][0]               \n",
            "                                                                 batch_normalization[0][0]        \n",
            "__________________________________________________________________________________________________\n",
            "max_pooling2d_1 (MaxPooling2D)  (None, 238, None, 32 0           add_1[0][0]                      \n",
            "__________________________________________________________________________________________________\n",
            "batch_normalization_1 (BatchNor (None, 238, None, 32 128         max_pooling2d_1[0][0]            \n",
            "__________________________________________________________________________________________________\n",
            "conv2d_6 (Conv2D)               (None, 238, None, 32 10272       batch_normalization_1[0][0]      \n",
            "__________________________________________________________________________________________________\n",
            "activation_6 (Activation)       (None, 238, None, 32 0           conv2d_6[0][0]                   \n",
            "__________________________________________________________________________________________________\n",
            "conv2d_7 (Conv2D)               (None, 238, None, 32 20512       activation_6[0][0]               \n",
            "__________________________________________________________________________________________________\n",
            "activation_7 (Activation)       (None, 238, None, 32 0           conv2d_7[0][0]                   \n",
            "__________________________________________________________________________________________________\n",
            "conv2d_8 (Conv2D)               (None, 238, None, 32 51232       activation_7[0][0]               \n",
            "__________________________________________________________________________________________________\n",
            "activation_8 (Activation)       (None, 238, None, 32 0           conv2d_8[0][0]                   \n",
            "__________________________________________________________________________________________________\n",
            "add_2 (Add)                     (None, 238, None, 32 0           activation_8[0][0]               \n",
            "                                                                 batch_normalization_1[0][0]      \n",
            "__________________________________________________________________________________________________\n",
            "max_pooling2d_2 (MaxPooling2D)  (None, 118, None, 32 0           add_2[0][0]                      \n",
            "__________________________________________________________________________________________________\n",
            "batch_normalization_2 (BatchNor (None, 118, None, 32 128         max_pooling2d_2[0][0]            \n",
            "__________________________________________________________________________________________________\n",
            "conv2d_9 (Conv2D)               (None, 118, None, 32 10272       batch_normalization_2[0][0]      \n",
            "__________________________________________________________________________________________________\n",
            "activation_9 (Activation)       (None, 118, None, 32 0           conv2d_9[0][0]                   \n",
            "__________________________________________________________________________________________________\n",
            "conv2d_10 (Conv2D)              (None, 118, None, 32 20512       activation_9[0][0]               \n",
            "__________________________________________________________________________________________________\n",
            "activation_10 (Activation)      (None, 118, None, 32 0           conv2d_10[0][0]                  \n",
            "__________________________________________________________________________________________________\n",
            "conv2d_11 (Conv2D)              (None, 118, None, 32 51232       activation_10[0][0]              \n",
            "__________________________________________________________________________________________________\n",
            "activation_11 (Activation)      (None, 118, None, 32 0           conv2d_11[0][0]                  \n",
            "__________________________________________________________________________________________________\n",
            "add_3 (Add)                     (None, 118, None, 32 0           activation_11[0][0]              \n",
            "                                                                 batch_normalization_2[0][0]      \n",
            "__________________________________________________________________________________________________\n",
            "max_pooling2d_3 (MaxPooling2D)  (None, 58, None, 32) 0           add_3[0][0]                      \n",
            "__________________________________________________________________________________________________\n",
            "batch_normalization_3 (BatchNor (None, 58, None, 32) 128         max_pooling2d_3[0][0]            \n",
            "__________________________________________________________________________________________________\n",
            "conv2d_12 (Conv2D)              (None, 58, None, 32) 10272       batch_normalization_3[0][0]      \n",
            "__________________________________________________________________________________________________\n",
            "activation_12 (Activation)      (None, 58, None, 32) 0           conv2d_12[0][0]                  \n",
            "__________________________________________________________________________________________________\n",
            "conv2d_13 (Conv2D)              (None, 58, None, 32) 20512       activation_12[0][0]              \n",
            "__________________________________________________________________________________________________\n",
            "activation_13 (Activation)      (None, 58, None, 32) 0           conv2d_13[0][0]                  \n",
            "__________________________________________________________________________________________________\n",
            "conv2d_14 (Conv2D)              (None, 58, None, 32) 51232       activation_13[0][0]              \n",
            "__________________________________________________________________________________________________\n",
            "activation_14 (Activation)      (None, 58, None, 32) 0           conv2d_14[0][0]                  \n",
            "__________________________________________________________________________________________________\n",
            "add_4 (Add)                     (None, 58, None, 32) 0           activation_14[0][0]              \n",
            "                                                                 batch_normalization_3[0][0]      \n",
            "__________________________________________________________________________________________________\n",
            "max_pooling2d_4 (MaxPooling2D)  (None, 28, None, 32) 0           add_4[0][0]                      \n",
            "__________________________________________________________________________________________________\n",
            "batch_normalization_4 (BatchNor (None, 28, None, 32) 128         max_pooling2d_4[0][0]            \n",
            "__________________________________________________________________________________________________\n",
            "global_max_pooling_sp2d (Global (None, 28, 32)       0           batch_normalization_4[0][0]      \n",
            "__________________________________________________________________________________________________\n",
            "flatten (Flatten)               (None, 896)          0           global_max_pooling_sp2d[0][0]    \n",
            "__________________________________________________________________________________________________\n",
            "dense (Dense)                   (None, 1000)         897000      flatten[0][0]                    \n",
            "__________________________________________________________________________________________________\n",
            "activation_15 (Activation)      (None, 1000)         0           dense[0][0]                      \n",
            "__________________________________________________________________________________________________\n",
            "dropout (Dropout)               (None, 1000)         0           activation_15[0][0]              \n",
            "__________________________________________________________________________________________________\n",
            "dense_1 (Dense)                 (None, 10)           10010       dropout[0][0]                    \n",
            "__________________________________________________________________________________________________\n",
            "activation_16 (Activation)      (None, 10)           0           dense_1[0][0]                    \n",
            "==================================================================================================\n",
            "Total params: 1,307,810\n",
            "Trainable params: 1,307,490\n",
            "Non-trainable params: 320\n",
            "__________________________________________________________________________________________________\n",
            "None\n",
            "Network created\n"
          ],
          "name": "stdout"
        }
      ]
    },
    {
      "cell_type": "markdown",
      "metadata": {
        "id": "-x_2o3VOUtE2",
        "colab_type": "text"
      },
      "source": [
        "### 5. Training the network\n",
        "\n",
        "Constants used for training the network"
      ]
    },
    {
      "cell_type": "code",
      "metadata": {
        "id": "4im8AyzDU_YC",
        "colab_type": "code",
        "colab": {}
      },
      "source": [
        "validation_split_ratio = 0.2  # % of the seen dataset to be put aside for validation, rest is for training\n",
        "max_epochs = 50  # maxmimum number of epochs to be iterated\n",
        "batch_size = 60   # batch size for the training data set\n",
        "num_inputs = 1\n",
        "verbose = 1"
      ],
      "execution_count": 0,
      "outputs": []
    },
    {
      "cell_type": "code",
      "metadata": {
        "id": "gXnVZJPHksoi",
        "colab_type": "code",
        "outputId": "126ee026-a415-45b1-da5e-f022950e60e1",
        "colab": {
          "base_uri": "https://localhost:8080/",
          "height": 1000
        }
      },
      "source": [
        "if ResNet7:\n",
        "  # reshaped data is used while training\n",
        "  trainX = trainX_prep\n",
        "  testX = testX_prep\n",
        "\n",
        "# trains the model\n",
        "model, model_history = nnet.trainModel(model, trainX, trainy, batch_size, max_epochs,\\\n",
        "                                  validation_split_ratio, verbose)\n",
        "\n",
        "# evaluates and predicts the results from the trained model\n",
        "results, predictions = nnet.evaluatePredictModel(model, testX, testy, verbose = 1) \n",
        "\n",
        "print('[test loss, test acc] = ', results)"
      ],
      "execution_count": 16,
      "outputs": [
        {
          "output_type": "stream",
          "text": [
            "Train on 32000 samples, validate on 8000 samples\n",
            "Epoch 1/50\n",
            "32000/32000 [==============================] - 17s 545us/sample - loss: 2.1883 - categorical_accuracy: 0.1996 - val_loss: 1.9823 - val_categorical_accuracy: 0.2149\n",
            "Epoch 2/50\n",
            "32000/32000 [==============================] - 10s 311us/sample - loss: 1.7933 - categorical_accuracy: 0.2848 - val_loss: 1.6923 - val_categorical_accuracy: 0.3332\n",
            "Epoch 3/50\n",
            "32000/32000 [==============================] - 10s 312us/sample - loss: 1.7092 - categorical_accuracy: 0.3264 - val_loss: 1.5873 - val_categorical_accuracy: 0.4020\n",
            "Epoch 4/50\n",
            "32000/32000 [==============================] - 10s 312us/sample - loss: 1.5833 - categorical_accuracy: 0.3927 - val_loss: 1.5772 - val_categorical_accuracy: 0.3947\n",
            "Epoch 5/50\n",
            "32000/32000 [==============================] - 10s 312us/sample - loss: 1.4348 - categorical_accuracy: 0.4370 - val_loss: 1.4116 - val_categorical_accuracy: 0.4575\n",
            "Epoch 6/50\n",
            "32000/32000 [==============================] - 10s 313us/sample - loss: 1.3139 - categorical_accuracy: 0.4830 - val_loss: 1.2489 - val_categorical_accuracy: 0.5080\n",
            "Epoch 7/50\n",
            "32000/32000 [==============================] - 10s 311us/sample - loss: 1.2281 - categorical_accuracy: 0.5141 - val_loss: 1.1801 - val_categorical_accuracy: 0.5340\n",
            "Epoch 8/50\n",
            "32000/32000 [==============================] - 10s 311us/sample - loss: 1.1648 - categorical_accuracy: 0.5384 - val_loss: 1.1115 - val_categorical_accuracy: 0.5480\n",
            "Epoch 9/50\n",
            "32000/32000 [==============================] - 10s 312us/sample - loss: 1.1191 - categorical_accuracy: 0.5546 - val_loss: 1.1371 - val_categorical_accuracy: 0.5551\n",
            "Epoch 10/50\n",
            "32000/32000 [==============================] - 10s 312us/sample - loss: 1.0847 - categorical_accuracy: 0.5697 - val_loss: 1.0698 - val_categorical_accuracy: 0.5671\n",
            "Epoch 11/50\n",
            "32000/32000 [==============================] - 10s 312us/sample - loss: 1.0442 - categorical_accuracy: 0.5841 - val_loss: 1.0530 - val_categorical_accuracy: 0.5714\n",
            "Epoch 12/50\n",
            "32000/32000 [==============================] - 10s 312us/sample - loss: 1.0268 - categorical_accuracy: 0.5920 - val_loss: 1.0583 - val_categorical_accuracy: 0.5714\n",
            "Epoch 13/50\n",
            "32000/32000 [==============================] - 10s 312us/sample - loss: 1.0051 - categorical_accuracy: 0.5953 - val_loss: 1.0121 - val_categorical_accuracy: 0.5910\n",
            "Epoch 14/50\n",
            "32000/32000 [==============================] - 10s 312us/sample - loss: 0.9710 - categorical_accuracy: 0.6089 - val_loss: 1.0431 - val_categorical_accuracy: 0.5896\n",
            "Epoch 15/50\n",
            "32000/32000 [==============================] - 10s 313us/sample - loss: 0.9576 - categorical_accuracy: 0.6172 - val_loss: 0.9593 - val_categorical_accuracy: 0.6085\n",
            "Epoch 16/50\n",
            "32000/32000 [==============================] - 10s 318us/sample - loss: 0.9454 - categorical_accuracy: 0.6216 - val_loss: 0.9988 - val_categorical_accuracy: 0.5991\n",
            "Epoch 17/50\n",
            "32000/32000 [==============================] - 10s 312us/sample - loss: 0.9202 - categorical_accuracy: 0.6288 - val_loss: 0.9330 - val_categorical_accuracy: 0.6231\n",
            "Epoch 18/50\n",
            "32000/32000 [==============================] - 10s 312us/sample - loss: 0.9049 - categorical_accuracy: 0.6373 - val_loss: 0.9433 - val_categorical_accuracy: 0.6155\n",
            "Epoch 19/50\n",
            "32000/32000 [==============================] - 10s 312us/sample - loss: 0.8940 - categorical_accuracy: 0.6403 - val_loss: 0.9530 - val_categorical_accuracy: 0.6148\n",
            "Epoch 20/50\n",
            "32000/32000 [==============================] - 10s 313us/sample - loss: 0.8765 - categorical_accuracy: 0.6442 - val_loss: 0.9378 - val_categorical_accuracy: 0.6267\n",
            "Epoch 21/50\n",
            "32000/32000 [==============================] - 10s 313us/sample - loss: 0.8703 - categorical_accuracy: 0.6488 - val_loss: 0.9242 - val_categorical_accuracy: 0.6323\n",
            "Epoch 22/50\n",
            "32000/32000 [==============================] - 10s 314us/sample - loss: 0.8602 - categorical_accuracy: 0.6542 - val_loss: 0.8965 - val_categorical_accuracy: 0.6323\n",
            "Epoch 23/50\n",
            "32000/32000 [==============================] - 10s 312us/sample - loss: 0.8422 - categorical_accuracy: 0.6603 - val_loss: 0.9136 - val_categorical_accuracy: 0.6314\n",
            "Epoch 24/50\n",
            "32000/32000 [==============================] - 10s 312us/sample - loss: 0.8294 - categorical_accuracy: 0.6611 - val_loss: 0.9113 - val_categorical_accuracy: 0.6289\n",
            "Epoch 25/50\n",
            "32000/32000 [==============================] - 10s 313us/sample - loss: 0.8217 - categorical_accuracy: 0.6670 - val_loss: 0.9082 - val_categorical_accuracy: 0.6316\n",
            "Epoch 26/50\n",
            "32000/32000 [==============================] - 10s 312us/sample - loss: 0.8154 - categorical_accuracy: 0.6716 - val_loss: 0.8957 - val_categorical_accuracy: 0.6395\n",
            "Epoch 27/50\n",
            "32000/32000 [==============================] - 10s 312us/sample - loss: 0.8002 - categorical_accuracy: 0.6756 - val_loss: 0.8779 - val_categorical_accuracy: 0.6445\n",
            "Epoch 28/50\n",
            "32000/32000 [==============================] - 10s 312us/sample - loss: 0.7880 - categorical_accuracy: 0.6798 - val_loss: 0.8946 - val_categorical_accuracy: 0.6395\n",
            "Epoch 29/50\n",
            "32000/32000 [==============================] - 10s 312us/sample - loss: 0.7827 - categorical_accuracy: 0.6821 - val_loss: 0.8925 - val_categorical_accuracy: 0.6380\n",
            "Epoch 30/50\n",
            "32000/32000 [==============================] - 10s 312us/sample - loss: 0.7738 - categorical_accuracy: 0.6855 - val_loss: 0.9660 - val_categorical_accuracy: 0.6226\n",
            "Epoch 31/50\n",
            "32000/32000 [==============================] - 10s 312us/sample - loss: 0.7685 - categorical_accuracy: 0.6862 - val_loss: 0.8920 - val_categorical_accuracy: 0.6380\n",
            "Epoch 32/50\n",
            "32000/32000 [==============================] - 10s 312us/sample - loss: 0.7542 - categorical_accuracy: 0.6925 - val_loss: 0.8435 - val_categorical_accuracy: 0.6604\n",
            "Epoch 33/50\n",
            "32000/32000 [==============================] - 10s 312us/sample - loss: 0.7599 - categorical_accuracy: 0.6902 - val_loss: 0.8664 - val_categorical_accuracy: 0.6474\n",
            "Epoch 34/50\n",
            "32000/32000 [==============================] - 10s 312us/sample - loss: 0.7430 - categorical_accuracy: 0.6974 - val_loss: 0.8489 - val_categorical_accuracy: 0.6551\n",
            "Epoch 35/50\n",
            "32000/32000 [==============================] - 10s 312us/sample - loss: 0.7384 - categorical_accuracy: 0.6995 - val_loss: 0.8464 - val_categorical_accuracy: 0.6555\n",
            "Epoch 36/50\n",
            "32000/32000 [==============================] - 10s 313us/sample - loss: 0.7311 - categorical_accuracy: 0.7040 - val_loss: 0.8570 - val_categorical_accuracy: 0.6616\n",
            "Epoch 37/50\n",
            "32000/32000 [==============================] - 10s 313us/sample - loss: 0.7280 - categorical_accuracy: 0.7033 - val_loss: 0.9145 - val_categorical_accuracy: 0.6379\n",
            "Epoch 38/50\n",
            "32000/32000 [==============================] - 10s 314us/sample - loss: 0.7162 - categorical_accuracy: 0.7079 - val_loss: 0.8291 - val_categorical_accuracy: 0.6646\n",
            "Epoch 39/50\n",
            "32000/32000 [==============================] - 10s 313us/sample - loss: 0.7069 - categorical_accuracy: 0.7110 - val_loss: 0.8249 - val_categorical_accuracy: 0.6722\n",
            "Epoch 40/50\n",
            "32000/32000 [==============================] - 10s 313us/sample - loss: 0.6974 - categorical_accuracy: 0.7136 - val_loss: 0.8468 - val_categorical_accuracy: 0.6649\n",
            "Epoch 41/50\n",
            "32000/32000 [==============================] - 10s 313us/sample - loss: 0.6992 - categorical_accuracy: 0.7150 - val_loss: 0.8298 - val_categorical_accuracy: 0.6683\n",
            "Epoch 42/50\n",
            "32000/32000 [==============================] - 10s 313us/sample - loss: 0.6923 - categorical_accuracy: 0.7173 - val_loss: 0.8858 - val_categorical_accuracy: 0.6529\n",
            "Epoch 43/50\n",
            "32000/32000 [==============================] - 10s 312us/sample - loss: 0.6835 - categorical_accuracy: 0.7201 - val_loss: 0.9254 - val_categorical_accuracy: 0.6304\n",
            "Epoch 44/50\n",
            "32000/32000 [==============================] - 10s 312us/sample - loss: 0.6755 - categorical_accuracy: 0.7248 - val_loss: 0.8483 - val_categorical_accuracy: 0.6651\n",
            "Epoch 45/50\n",
            "32000/32000 [==============================] - 10s 313us/sample - loss: 0.6706 - categorical_accuracy: 0.7262 - val_loss: 0.8676 - val_categorical_accuracy: 0.6630\n",
            "Epoch 46/50\n",
            "32000/32000 [==============================] - 10s 314us/sample - loss: 0.6575 - categorical_accuracy: 0.7327 - val_loss: 0.8448 - val_categorical_accuracy: 0.6659\n",
            "Epoch 47/50\n",
            "32000/32000 [==============================] - 10s 318us/sample - loss: 0.6625 - categorical_accuracy: 0.7285 - val_loss: 0.8565 - val_categorical_accuracy: 0.6662\n",
            "Epoch 48/50\n",
            "32000/32000 [==============================] - 10s 313us/sample - loss: 0.6595 - categorical_accuracy: 0.7309 - val_loss: 0.8615 - val_categorical_accuracy: 0.6639\n",
            "Epoch 49/50\n",
            "32000/32000 [==============================] - 10s 312us/sample - loss: 0.6469 - categorical_accuracy: 0.7353 - val_loss: 0.8545 - val_categorical_accuracy: 0.6634\n",
            "Epoch 50/50\n",
            "32000/32000 [==============================] - 10s 312us/sample - loss: 0.6444 - categorical_accuracy: 0.7358 - val_loss: 0.8711 - val_categorical_accuracy: 0.6589\n",
            "10000/10000 [==============================] - 2s 158us/sample - loss: 0.8721 - categorical_accuracy: 0.6611\n",
            "10000/10000 [==============================] - 1s 118us/sample\n",
            "[test loss, test acc] =  [0.8721161796569824, 0.6611]\n"
          ],
          "name": "stdout"
        }
      ]
    },
    {
      "cell_type": "code",
      "metadata": {
        "id": "mT-IxkOe-QjL",
        "colab_type": "code",
        "outputId": "9b72c979-6e05-4140-ff22-6318f5ced453",
        "colab": {
          "base_uri": "https://localhost:8080/",
          "height": 365
        }
      },
      "source": [
        "# plots the history\n",
        "fig, ax = plt.subplots(1,2, figsize=(14,6))\n",
        "labels = ['training', 'validation']\n",
        "loss_Accuracy = ['loss', 'val_loss', 'categorical_accuracy', 'val_categorical_accuracy']\n",
        "\n",
        "model_history = model_history.history\n",
        "dat.plotLoss(ax[0], model_history, loss_Accuracy, model_name, labels)\n",
        "dat.plotAccuracy(ax[1], model_history, loss_Accuracy, model_name, labels)\n",
        " \n",
        "fig.savefig(save_image_dir+'/LandA_inter%s_epochs_%d.png'%(model_name, max_epochs))    \n",
        "fig.tight_layout()"
      ],
      "execution_count": 0,
      "outputs": [
        {
          "output_type": "display_data",
          "data": {
            "image/png": "[encoded data removed]",
            "text/plain": [
              "<Figure size 1008x432 with 2 Axes>"
            ]
          },
          "metadata": {
            "tags": [],
            "needs_background": "light"
          }
        }
      ]
    },
    {
      "cell_type": "code",
      "metadata": {
        "id": "bdMzy320eeSF",
        "colab_type": "code",
        "colab": {}
      },
      "source": [
        "data = [model_history[loss_Accuracy[0]], model_history[loss_Accuracy[1]], \\\n",
        "        model_history[loss_Accuracy[2]], model_history[loss_Accuracy[3]]]\n",
        "\n",
        "# saves the loss and accuracy curves\n",
        "filename = save_data_dir+'SeasonGaps_LI_%s.npy'%model_name\n",
        "with open(filename, 'wb') as f:\n",
        "  np.save(f, data, allow_pickle=True)"
      ],
      "execution_count": 0,
      "outputs": []
    },
    {
      "cell_type": "markdown",
      "metadata": {
        "id": "Qr-jbZX8u_bV",
        "colab_type": "text"
      },
      "source": [
        "### 6. Displaying the classification report, confusion matrix"
      ]
    },
    {
      "cell_type": "code",
      "metadata": {
        "id": "6Z-OxLmpv_KC",
        "colab_type": "code",
        "outputId": "74c8d7ab-b42e-4136-e72b-996218ed1121",
        "colab": {
          "base_uri": "https://localhost:8080/",
          "height": 340
        }
      },
      "source": [
        "y_predict = np.argmax(predictions, axis=1)\n",
        "y_test = np.argmax(testy, axis=1)\n",
        "\n",
        "print('Test set classification report:\\n')\n",
        "print(classification_report(y_test, y_predict, target_names=output_class_names))"
      ],
      "execution_count": 0,
      "outputs": [
        {
          "output_type": "stream",
          "text": [
            "Test set classification report:\n",
            "\n",
            "              precision    recall  f1-score   support\n",
            "\n",
            "           2       0.89      0.83      0.86       989\n",
            "           4       0.79      0.82      0.81       997\n",
            "          10       0.75      0.70      0.73       992\n",
            "          15       0.79      0.56      0.65       964\n",
            "          20       0.71      0.74      0.73      1027\n",
            "          30       0.56      0.60      0.58       944\n",
            "          40       0.60      0.60      0.60      1028\n",
            "          60       0.52      0.73      0.61       998\n",
            "          80       0.43      0.31      0.36      1026\n",
            "         100       0.47      0.54      0.50      1035\n",
            "\n",
            "    accuracy                           0.64     10000\n",
            "   macro avg       0.65      0.64      0.64     10000\n",
            "weighted avg       0.65      0.64      0.64     10000\n",
            "\n"
          ],
          "name": "stdout"
        }
      ]
    },
    {
      "cell_type": "code",
      "metadata": {
        "id": "tYbr9Vpsv0Zu",
        "colab_type": "code",
        "outputId": "a0e208ca-e720-4dee-f9b8-3524b71d18f1",
        "colab": {
          "base_uri": "https://localhost:8080/",
          "height": 716
        }
      },
      "source": [
        "# need this to avoid callback errors\n",
        "from sklearn.metrics import confusion_matrix\n",
        "importlib.reload(dat)\n",
        "\n",
        "# generate confusion matrix\n",
        "cfm = confusion_matrix(y_test, y_predict)  \n",
        "\n",
        "# row normalisation of confusion matrix\n",
        "cfm_probability = cfm.astype('float')/cfm.sum(axis=1)[:, np.newaxis]  \n",
        "# confusion probability matrix\n",
        "cfm_probability = cfm_probability * 100.0  \n",
        "\n",
        "fig, ax = plt.subplots(1,1, figsize=(10,10))\n",
        "dat.plotConfusionMatrix(ax, cfm_probability, output_class_names, 2)\n",
        "\n",
        "# save figure\n",
        "fig.savefig(save_image_dir+'/cfm_%s_epochs_%d_noInter.png'%(model_name, max_epochs))    \n",
        "fig.tight_layout()"
      ],
      "execution_count": 0,
      "outputs": [
        {
          "output_type": "display_data",
          "data": {
            "image/png": "[encoded data removed]",
            "text/plain": [
              "<Figure size 720x720 with 2 Axes>"
            ]
          },
          "metadata": {
            "tags": [],
            "needs_background": "light"
          }
        }
      ]
    },
    {
      "cell_type": "code",
      "metadata": {
        "id": "pqSv4EtdFq98",
        "colab_type": "code",
        "colab": {}
      },
      "source": [
        ""
      ],
      "execution_count": 0,
      "outputs": []
    }
  ]
}