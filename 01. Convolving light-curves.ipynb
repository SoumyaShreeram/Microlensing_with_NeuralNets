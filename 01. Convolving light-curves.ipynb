{
  "cells": [
    {
      "cell_type": "markdown",
      "source": [
        "## Convolving light-curves \n",
        "\n",
        "The script convolves ligth curves to get the microlensing signal.\n",
        "\n",
        "1. Setting the path for the directories and input parameters\n",
        "2. Function to calculate the difference between A, B images\n",
        "3. Functions to convolve the data\n",
        "4. Execution of convolving the maps and saving the data\n",
        "\n",
        "Rewritten by: Soumya Shreeram <br>\n",
        "Script originally written by: Eric Paic <br>\n",
        "Date: 02nd March 2020 <br>"
      ],
      "metadata": {
        "nteract": {
          "transient": {
            "deleting": false
          }
        }
      }
    },
    {
      "cell_type": "code",
      "source": [
        "import numpy as np\n",
        "from astropy.io import fits\n",
        "import os,sys\n",
        "from astropy.convolution import convolve_fft\n",
        "import scipy.signal as ss\n",
        "#from guppy import hpy"
      ],
      "outputs": [],
      "execution_count": 1,
      "metadata": {
        "collapsed": false,
        "jupyter": {
          "source_hidden": false,
          "outputs_hidden": false
        },
        "nteract": {
          "transient": {
            "deleting": false
          }
        },
        "execution": {
          "iopub.status.busy": "2020-03-08T18:25:27.956Z",
          "iopub.execute_input": "2020-03-08T18:25:27.960Z",
          "iopub.status.idle": "2020-03-08T18:25:29.494Z",
          "shell.execute_reply": "2020-03-08T18:25:29.503Z"
        }
      }
    },
    {
      "cell_type": "markdown",
      "source": [
        "### 1. Setting the path for the directories and input parameters"
      ],
      "metadata": {
        "nteract": {
          "transient": {
            "deleting": false
          }
        }
      }
    },
    {
      "cell_type": "code",
      "source": [
        "current_dir = os.getcwd()\n",
        "root_dir = os.path.abspath(os.path.join(current_dir, os.pardir))\n",
        "data_dir = os.path.join(root_dir, \"TP4b\")\n",
        "print(\"Does the directory exist? \\n>\",os.path.isdir(data_dir))\n",
        "\n",
        "# setting the paths\n",
        "datadir = os.path.join(data_dir,  'Data')\n",
        "resultdir = os.path.join(datadir,  'results')\n",
        "mapdir = os.path.join(datadir,  'maps', 'unconvolved')\n",
        "storagedir = os.path.join(datadir,  'maps', 'storage')"
      ],
      "outputs": [
        {
          "output_type": "stream",
          "name": "stdout",
          "text": [
            "Does the directory exist? \n",
            "> True\n"
          ]
        }
      ],
      "execution_count": 34,
      "metadata": {
        "collapsed": false,
        "jupyter": {
          "source_hidden": false,
          "outputs_hidden": false
        },
        "nteract": {
          "transient": {
            "deleting": false
          }
        },
        "execution": {
          "iopub.status.busy": "2020-03-08T19:54:08.390Z",
          "iopub.execute_input": "2020-03-08T19:54:08.394Z",
          "iopub.status.idle": "2020-03-08T19:54:08.401Z",
          "shell.execute_reply": "2020-03-08T19:54:08.403Z"
        }
      }
    },
    {
      "cell_type": "markdown",
      "source": [
        "All input parameters:"
      ],
      "metadata": {
        "nteract": {
          "transient": {
            "deleting": false
          }
        }
      }
    },
    {
      "cell_type": "code",
      "source": [
        "list_r0 = [2,4,10,15,20,30,40,60,80,100]\n",
        "\n",
        "list_img = ['A1','B1','A2','B2','A3','B3','A4','B4']\n",
        "\n",
        "list_comb = [('A1', 'B2'),('A2','B1'),('A3','B3'),('A4','B3'),('A2','B4'),('A1','B3'),('A6','B2'),('A6','B3'),('A7','B3'),('A8','B2'),('A8','B3')]\n",
        "\n",
        "einstein_r = 3.414e16\n",
        "cm_per_pxl = (20*einstein_r)/8192\n",
        "ld_per_pxl = 30000000000*3600*24/cm_per_pxl\n",
        "\n",
        "dim = 512"
      ],
      "outputs": [],
      "execution_count": 9,
      "metadata": {
        "collapsed": false,
        "jupyter": {
          "source_hidden": false,
          "outputs_hidden": false
        },
        "nteract": {
          "transient": {
            "deleting": false
          }
        },
        "execution": {
          "iopub.status.busy": "2020-03-08T19:46:11.633Z",
          "iopub.execute_input": "2020-03-08T19:46:11.637Z",
          "shell.execute_reply": "2020-03-08T19:46:11.642Z",
          "iopub.status.idle": "2020-03-08T19:46:11.640Z"
        }
      }
    },
    {
      "cell_type": "markdown",
      "source": [
        "### 2. Function to calculated the difference between the A, B images"
      ],
      "metadata": {
        "nteract": {
          "transient": {
            "deleting": false
          }
        }
      }
    },
    {
      "cell_type": "code",
      "source": [
        "def mapDiff(mapA,mapB,r0,comb):\n",
        "    \"\"\"\n",
        "    Function takes the logarithmic difference between the two maps A and B\n",
        "    Input:\n",
        "    @mapA, mapB :: two randomly chosen maps\n",
        "    @r0 :: scale radius\n",
        "    @comb :: combination of the two maps eg. A1, B2 or A3, B2, etc.\n",
        "    \"\"\"\n",
        "    img = fits.open(mapA)[0]\n",
        "    map_A = img.data[:, :]\n",
        "\n",
        "    img = fits.open(mapB)[0]\n",
        "    map_B = img.data[:, :]\n",
        "\n",
        "    final_map = map_A/map_B\n",
        "\n",
        "    hdu = fits.PrimaryHDU(final_map)\n",
        "    os.chdir(data_dir)\n",
        "    hdu.writeto(resultdir+'/map%s-%s_fml09_R%s_thin_disk.fits'%(comb[0],comb[1],r0))\n",
        "    return final_map"
      ],
      "outputs": [],
      "execution_count": 10,
      "metadata": {
        "collapsed": false,
        "jupyter": {
          "source_hidden": false,
          "outputs_hidden": false
        },
        "nteract": {
          "transient": {
            "deleting": false
          }
        },
        "execution": {
          "iopub.status.busy": "2020-03-08T19:46:13.319Z",
          "iopub.execute_input": "2020-03-08T19:46:13.322Z",
          "iopub.status.idle": "2020-03-08T19:46:13.326Z",
          "shell.execute_reply": "2020-03-08T19:46:13.328Z"
        }
      }
    },
    {
      "cell_type": "markdown",
      "source": [
        "### 3. Functions to convolve the data\n",
        "\n",
        "The models of the light source used to convolve the mgnification maps are:\n",
        "* `thin_disk` (default option) more information available [here](https://arxiv.org/pdf/1707.01908.pdf).\n",
        "* `sersic`\n",
        "* `thin_disk&node`\n",
        "* `wavy_hole`\n",
        "* `wavy`\n",
        "* `sersic`"
      ],
      "metadata": {
        "nteract": {
          "transient": {
            "deleting": false
          }
        }
      }
    },
    {
      "cell_type": "code",
      "source": [
        "def calR(x, xc, y, yc):\n",
        "    return np.sqrt((x-xc)**2 + (y-yc)**2)\n",
        "\n",
        "def calXi(r, Rin, R0):\n",
        "    \"\"\"\n",
        "    Function checks the value of r and calculates xi accordingly\n",
        "    \"\"\"\n",
        "    if r<Rin:\n",
        "        return 0\n",
        "    else:\n",
        "        if Rin == 0:\n",
        "            xi = (r / R0) ** (3/4) * (1) ** (-1/4)\n",
        "        else:\n",
        "            xi = (r/R0)**(3/4)*(1-np.sqrt(Rin/r))**(-1/4)\n",
        "    return xi\n",
        "\n",
        "def getprofilevalue(x, y, xc, yc, xn, yn, I0, R0, model, Rin):\n",
        "    \"\"\"\n",
        "    Function to get the profile values for each particular choice of model \n",
        "    \"\"\"\n",
        "    n, reff_pix, sersic_index =3, 0.2, 4.0\n",
        "    beta = n*np.pi/(2*R0)\n",
        "    \n",
        "    if model == \"thin_disk\":\n",
        "      r = calR(x, xc, y, yc)\n",
        "      xi = calXi(r, Rin, R0)\n",
        "      profile_val = I0/(np.exp(xi)-1)\n",
        "        \n",
        "    if model == \"thin_disk&node\":\n",
        "      r = calR(x, xn, y, yn)\n",
        "      xi = calXi(r, Rin, R0)\n",
        "      profile_val = I0/(np.exp(xi)-1) + I0/(np.exp((r/(R0*0.4106))**(3/4))-1)\n",
        "\n",
        "    if model ==\"wavy_hole\":\n",
        "      r = calR(x, xc, y, yc)\n",
        "      # calculates the profile value based on conditions on beta*r\n",
        "      if beta*r < 2*np.pi:\n",
        "          profile_val = I0*beta/(n*np.pi**2)*np.power(np.sin(beta*r),2)/r\n",
        "      else:\n",
        "          profile_val = 0\n",
        "\n",
        "    if model ==\"wavy\":\n",
        "      r = calR(x, xc, y, yc)\n",
        "      if beta*r < np.pi/2:\n",
        "          profile_val = I0*beta/(n*np.pi**2)\n",
        "      elif beta * r < 2 * np.pi and beta * r > np.pi/2:\n",
        "          profile_val = I0*beta/(n*np.pi**2)*np.square(np.sin(beta*r))\n",
        "          \n",
        "    if model == \"sersic\":\n",
        "      r = calR(x, xc, y, yc)\n",
        "      profile_val = I0 * np.exp(-(r / reff_pix) ** (1.0 / sersic_index))\n",
        "    return profile_val\n",
        "\n",
        "def generate2DDataArrays(dims=128):\n",
        "    \"\"\"\n",
        "    Function to generate the 2D data arrays as per required dims\n",
        "    @dims :: sets the size of the 2D data arrays\n",
        "    \"\"\"    \n",
        "    data = np.zeros((128,128))\n",
        "    pdata = np.zeros((128,128))\n",
        "    gdata = np.zeros((128,128))\n",
        "    return data, pdata, gdata\n",
        "\n",
        "def get2ddiracvalue(x,y,xc,yc):\n",
        "    \"\"\"\n",
        "    Function to get the 2D dirac values to fill the gaussian ???\n",
        "    \"\"\"\n",
        "    if x == xc and y ==yc:\n",
        "        return 1\n",
        "    else:\n",
        "        return 0\n",
        "    \n",
        "def outputMapParams(img):\n",
        "    map_d = img.data[:, :]\n",
        "    macro_mag = np.mean(map_d)\n",
        "    map_d = map_d / macro_mag\n",
        "    return map_d, macro_mag\n",
        "\n",
        "def convolve(R0, map_name, model=\"thin_disk\", Rin=0, I0=1):\n",
        "    \"\"\"\n",
        "    Input:\n",
        "    @map_name :: fits file of the magnification map\n",
        "    @model :: the model of the light source that the magnification map will be convoluted with.\n",
        "    @R0 :: float; scale radius, for thin_disk, R0 is R0 (~10^14 cm for 1131 & 0435), for sersic R0 is fwhm. (Units: pixels)\n",
        "    @Rin :: float. Useful only for thin_disk\n",
        "    @I0 :: float. Useful for both models\n",
        "    #create source profile\n",
        "\n",
        "    \"\"\"\n",
        "    img_name = map_name.split('map')[2].split('.')[0]\n",
        "    img = fits.open(map_name)[0]\n",
        "    map_d, macro_mag  = outputMapParams(img)\n",
        "\n",
        "    xc, yc, xn, yn = 256, 256, 128, 128\n",
        "\n",
        "    # generates the profile, gaussian, and toconv fits files from new_canvas.fits\n",
        "    data, pdata, gdata = generate2DDataArrays(dims=128)\n",
        "\n",
        "    # fills the data arrays based of the choice of the model\n",
        "    for lind, line in enumerate(gdata):\n",
        "        for cind, elt in enumerate(line):\n",
        "            gdata[lind][cind] = get2ddiracvalue(cind+1, lind+1, xn, yn)\n",
        "            pdata[lind][cind] = getprofilevalue(cind+1, lind+1, xc, yc, xn, yn, I0, R0, model, Rin)\n",
        "            \n",
        "    # convolves the data\n",
        "    output = convolve_fft(gdata, pdata)\n",
        "\n",
        "    for lind, line in enumerate(data):\n",
        "        for cind, elt in enumerate(line):\n",
        "            data[lind][cind] = out[lind][cind]\n",
        "            \n",
        "    # ???\n",
        "    out2 = ss.fftconvolve(map_d, data, mode=\"valid\")\n",
        "    hdu = fits.PrimaryHDU(out2)\n",
        "\n",
        "    hdu.writeto(storagedir+'/convolved_map_%s_fft_%s_%i_fml09.fits'%(img_name,model,R0))\n",
        "    return\n",
        "\n",
        "def getFilename(rootdir, string_name, params, param_arr=True):\n",
        "    if param_arr:\n",
        "        filename1 = os.path.join(rootdir, string_name%(params[0], params[2]))\n",
        "        filename2 = os.path.join(rootdir, string_name%(params[1], params[2]))\n",
        "        return filename1, filename2\n",
        "    else:\n",
        "        return os.path.join(rootdir, string_name%(params))"
      ],
      "outputs": [],
      "execution_count": 49,
      "metadata": {
        "collapsed": false,
        "jupyter": {
          "source_hidden": false,
          "outputs_hidden": false
        },
        "nteract": {
          "transient": {
            "deleting": false
          }
        },
        "execution": {
          "iopub.status.busy": "2020-03-08T20:43:07.127Z",
          "iopub.execute_input": "2020-03-08T20:43:07.132Z",
          "iopub.status.idle": "2020-03-08T20:43:07.166Z",
          "shell.execute_reply": "2020-03-08T20:43:07.157Z"
        }
      }
    },
    {
      "cell_type": "markdown",
      "source": [
        "### 4. Execution of convolving the maps and save the data"
      ],
      "metadata": {
        "nteract": {
          "transient": {
            "deleting": false
          }
        }
      }
    },
    {
      "cell_type": "code",
      "source": [
        "for img_AB in list_img:\n",
        "    for r0 in list_r0:\n",
        "        print(r0)\n",
        "        filename = getFilename(mapdir, 'map%s.fits', img_AB, param_arr=False)\n",
        "        convolve(r0, filename,\"thin_disk\")\n",
        "\n",
        "string_name = \"/convolved_map_%s_fft_thin_disk_%s.fits\"\n",
        "for comb in list_comb:\n",
        "    for r0 in list_r0:\n",
        "        print(elem)\n",
        "        params = [comb[0], comb[1], elem]\n",
        "        filename1, filename2 = getFilename(storagedir, string_name, params, param_arr=True)\n",
        "        final_map = mapDiff(filename1, filename2, elem, comb)"
      ],
      "outputs": [
        {
          "output_type": "stream",
          "name": "stdout",
          "text": [
            "2\n"
          ]
        },
        {
          "output_type": "error",
          "ename": "Exception",
          "evalue": "The kernel can't be normalized, because its sum is close to zero. The sum of the given kernel is < 0.01",
          "traceback": [
            "\u001b[1;31m---------------------------------------------------------------------------\u001b[0m",
            "\u001b[1;31mException\u001b[0m                                 Traceback (most recent call last)",
            "\u001b[1;32m<ipython-input-50-ffa14515c594>\u001b[0m in \u001b[0;36m<module>\u001b[1;34m\u001b[0m\n\u001b[0;32m      3\u001b[0m         \u001b[0mprint\u001b[0m\u001b[1;33m(\u001b[0m\u001b[0mr0\u001b[0m\u001b[1;33m)\u001b[0m\u001b[1;33m\u001b[0m\u001b[1;33m\u001b[0m\u001b[0m\n\u001b[0;32m      4\u001b[0m         \u001b[0mfilename\u001b[0m \u001b[1;33m=\u001b[0m \u001b[0mgetFilename\u001b[0m\u001b[1;33m(\u001b[0m\u001b[0mmapdir\u001b[0m\u001b[1;33m,\u001b[0m \u001b[1;34m'map%s.fits'\u001b[0m\u001b[1;33m,\u001b[0m \u001b[0mimg_AB\u001b[0m\u001b[1;33m,\u001b[0m \u001b[0mparam_arr\u001b[0m\u001b[1;33m=\u001b[0m\u001b[1;32mFalse\u001b[0m\u001b[1;33m)\u001b[0m\u001b[1;33m\u001b[0m\u001b[1;33m\u001b[0m\u001b[0m\n\u001b[1;32m----> 5\u001b[1;33m         \u001b[0mconvolve\u001b[0m\u001b[1;33m(\u001b[0m\u001b[0mr0\u001b[0m\u001b[1;33m,\u001b[0m \u001b[0mfilename\u001b[0m\u001b[1;33m,\u001b[0m\u001b[1;34m\"thin_disk\"\u001b[0m\u001b[1;33m)\u001b[0m\u001b[1;33m\u001b[0m\u001b[1;33m\u001b[0m\u001b[0m\n\u001b[0m\u001b[0;32m      6\u001b[0m \u001b[1;33m\u001b[0m\u001b[0m\n\u001b[0;32m      7\u001b[0m \u001b[0mstring_name\u001b[0m \u001b[1;33m=\u001b[0m \u001b[1;34m\"/convolved_map_%s_fft_thin_disk_%s.fits\"\u001b[0m\u001b[1;33m\u001b[0m\u001b[1;33m\u001b[0m\u001b[0m\n",
            "\u001b[1;32m<ipython-input-49-0fabd32d9834>\u001b[0m in \u001b[0;36mconvolve\u001b[1;34m(R0, map_name, model, Rin, I0)\u001b[0m\n\u001b[0;32m    104\u001b[0m \u001b[1;33m\u001b[0m\u001b[0m\n\u001b[0;32m    105\u001b[0m     \u001b[1;31m# convolves the data\u001b[0m\u001b[1;33m\u001b[0m\u001b[1;33m\u001b[0m\u001b[1;33m\u001b[0m\u001b[0m\n\u001b[1;32m--> 106\u001b[1;33m     \u001b[0moutput\u001b[0m \u001b[1;33m=\u001b[0m \u001b[0mconvolve_fft\u001b[0m\u001b[1;33m(\u001b[0m\u001b[0mgdata\u001b[0m\u001b[1;33m,\u001b[0m \u001b[0mpdata\u001b[0m\u001b[1;33m)\u001b[0m\u001b[1;33m\u001b[0m\u001b[1;33m\u001b[0m\u001b[0m\n\u001b[0m\u001b[0;32m    107\u001b[0m \u001b[1;33m\u001b[0m\u001b[0m\n\u001b[0;32m    108\u001b[0m     \u001b[1;32mfor\u001b[0m \u001b[0mlind\u001b[0m\u001b[1;33m,\u001b[0m \u001b[0mline\u001b[0m \u001b[1;32min\u001b[0m \u001b[0menumerate\u001b[0m\u001b[1;33m(\u001b[0m\u001b[0mdata\u001b[0m\u001b[1;33m)\u001b[0m\u001b[1;33m:\u001b[0m\u001b[1;33m\u001b[0m\u001b[1;33m\u001b[0m\u001b[0m\n",
            "\u001b[1;32mD:\\Anaconda2\\envs\\qutip-env\\lib\\site-packages\\astropy\\nddata\\decorators.py\u001b[0m in \u001b[0;36mwrapper\u001b[1;34m(data, *args, **kwargs)\u001b[0m\n\u001b[0;32m    244\u001b[0m                                   AstropyUserWarning)\n\u001b[0;32m    245\u001b[0m \u001b[1;33m\u001b[0m\u001b[0m\n\u001b[1;32m--> 246\u001b[1;33m             \u001b[0mresult\u001b[0m \u001b[1;33m=\u001b[0m \u001b[0mfunc\u001b[0m\u001b[1;33m(\u001b[0m\u001b[0mdata\u001b[0m\u001b[1;33m,\u001b[0m \u001b[1;33m*\u001b[0m\u001b[0margs\u001b[0m\u001b[1;33m,\u001b[0m \u001b[1;33m**\u001b[0m\u001b[0mkwargs\u001b[0m\u001b[1;33m)\u001b[0m\u001b[1;33m\u001b[0m\u001b[1;33m\u001b[0m\u001b[0m\n\u001b[0m\u001b[0;32m    247\u001b[0m \u001b[1;33m\u001b[0m\u001b[0m\n\u001b[0;32m    248\u001b[0m             \u001b[1;32mif\u001b[0m \u001b[0munpack\u001b[0m \u001b[1;32mand\u001b[0m \u001b[0mrepack\u001b[0m\u001b[1;33m:\u001b[0m\u001b[1;33m\u001b[0m\u001b[1;33m\u001b[0m\u001b[0m\n",
            "\u001b[1;32mD:\\Anaconda2\\envs\\qutip-env\\lib\\site-packages\\astropy\\convolution\\convolve.py\u001b[0m in \u001b[0;36mconvolve_fft\u001b[1;34m(array, kernel, boundary, fill_value, nan_treatment, normalize_kernel, normalization_zero_tol, preserve_nan, mask, crop, return_fft, fft_pad, psf_pad, min_wt, allow_huge, fftn, ifftn, complex_dtype)\u001b[0m\n\u001b[0;32m    605\u001b[0m             raise Exception(\"The kernel can't be normalized, because its sum is \"\n\u001b[0;32m    606\u001b[0m                             \u001b[1;34m\"close to zero. The sum of the given kernel is < {}\"\u001b[0m\u001b[1;33m\u001b[0m\u001b[1;33m\u001b[0m\u001b[0m\n\u001b[1;32m--> 607\u001b[1;33m                             .format(1. / MAX_NORMALIZATION))\n\u001b[0m\u001b[0;32m    608\u001b[0m         \u001b[0mkernel_scale\u001b[0m \u001b[1;33m=\u001b[0m \u001b[0mkernel\u001b[0m\u001b[1;33m.\u001b[0m\u001b[0msum\u001b[0m\u001b[1;33m(\u001b[0m\u001b[1;33m)\u001b[0m\u001b[1;33m\u001b[0m\u001b[1;33m\u001b[0m\u001b[0m\n\u001b[0;32m    609\u001b[0m         \u001b[0mnormalized_kernel\u001b[0m \u001b[1;33m=\u001b[0m \u001b[0mkernel\u001b[0m \u001b[1;33m/\u001b[0m \u001b[0mkernel_scale\u001b[0m\u001b[1;33m\u001b[0m\u001b[1;33m\u001b[0m\u001b[0m\n",
            "\u001b[1;31mException\u001b[0m: The kernel can't be normalized, because its sum is close to zero. The sum of the given kernel is < 0.01"
          ]
        }
      ],
      "execution_count": 50,
      "metadata": {
        "collapsed": false,
        "jupyter": {
          "source_hidden": false,
          "outputs_hidden": false
        },
        "nteract": {
          "transient": {
            "deleting": false
          }
        },
        "execution": {
          "iopub.status.busy": "2020-03-08T20:43:09.314Z",
          "iopub.execute_input": "2020-03-08T20:43:09.318Z",
          "iopub.status.idle": "2020-03-08T20:43:12.942Z",
          "shell.execute_reply": "2020-03-08T20:43:12.956Z"
        }
      }
    },
    {
      "cell_type": "code",
      "source": [],
      "outputs": [],
      "execution_count": null,
      "metadata": {
        "collapsed": false,
        "jupyter": {
          "source_hidden": false,
          "outputs_hidden": false
        },
        "nteract": {
          "transient": {
            "deleting": false
          }
        }
      }
    }
  ],
  "metadata": {
    "kernel_info": {
      "name": "qutip-env"
    },
    "language_info": {
      "name": "python",
      "version": "3.6.7",
      "mimetype": "text/x-python",
      "codemirror_mode": {
        "name": "ipython",
        "version": 3
      },
      "pygments_lexer": "ipython3",
      "nbconvert_exporter": "python",
      "file_extension": ".py"
    },
    "kernelspec": {
      "argv": [
        "D:\\Anaconda2\\envs\\qutip-env\\python.exe",
        "-m",
        "ipykernel_launcher",
        "-f",
        "{connection_file}"
      ],
      "display_name": "Python (qutip-env)",
      "language": "python",
      "name": "qutip-env"
    },
    "nteract": {
      "version": "0.22.0"
    }
  },
  "nbformat": 4,
  "nbformat_minor": 0
}