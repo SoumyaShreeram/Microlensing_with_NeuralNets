{
  "nbformat": 4,
  "nbformat_minor": 0,
  "metadata": {
    "colab": {
      "name": "01_Tests.ipynb",
      "provenance": [],
      "machine_shape": "hm",
      "authorship_tag": "ABX9TyOoNtBhFBX8bBE5dlNNY53Z",
      "include_colab_link": true
    },
    "kernelspec": {
      "name": "python3",
      "display_name": "Python 3"
    }
  },
  "cells": [
    {
      "cell_type": "markdown",
      "metadata": {
        "id": "view-in-github",
        "colab_type": "text"
      },
      "source": [
        "<a href=\"https://colab.research.google.com/github/SoumyaShreeram/Microlensing_with_NeuralNets/blob/master/03.%20Optimizing%20and%20testing%20NNs.ipynb\" target=\"_parent\"><img src=\"https://colab.research.google.com/assets/colab-badge.svg\" alt=\"Open In Colab\"/></a>"
      ]
    },
    {
      "cell_type": "markdown",
      "metadata": {
        "id": "Iv0iBoEj6qK3",
        "colab_type": "text"
      },
      "source": [
        "## Testing Neural Network Architecture\n",
        "\n",
        "Author: Soumya Shreeram <br>\n",
        "Script adapted from: Millon Martin & Kevin Müller <br>\n",
        "Date: 23rd February 2020"
      ]
    },
    {
      "cell_type": "markdown",
      "metadata": {
        "id": "deDcrZnEPlzz",
        "colab_type": "text"
      },
      "source": [
        "Import all required python libraries"
      ]
    },
    {
      "cell_type": "code",
      "metadata": {
        "id": "hIOkLVF5WNgW",
        "colab_type": "code",
        "outputId": "205a87a8-5c11-4cf0-ea13-921fb29af277",
        "colab": {
          "base_uri": "https://localhost:8080/",
          "height": 63
        }
      },
      "source": [
        "from google.colab import drive\n",
        "import os\n",
        "import pickle\n",
        "\n",
        "import numpy as np\n",
        "import matplotlib.pyplot as plt\n",
        "plt.rcParams.update({'font.size': 16})\n",
        "import random\n",
        "import os\n",
        "from IPython.display import Image\n",
        "\n",
        "from sklearn.model_selection import train_test_split\n",
        "from sklearn.metrics import classification_report\n",
        "\n",
        "import tensorflow as tf\n",
        "\n",
        "from tensorflow.keras.models import Model\n",
        "from tensorflow.keras.layers import Input, Activation, InputSpec\n",
        "from tensorflow.python.keras.layers import Conv1D, Conv2D\n",
        "from tensorflow.python.keras.layers import MaxPooling1D, MaxPooling2D, GlobalMaxPooling2D\n",
        "from tensorflow.keras.layers import Dense, Dropout, Flatten, Add, BatchNormalization, Concatenate\n",
        "from tensorflow.keras.optimizers import SGD, Adam\n",
        "from tensorflow.keras.utils import plot_model\n",
        "from tensorflow.keras import backend as K\n",
        "from tensorflow.keras.layers import Layer"
      ],
      "execution_count": 0,
      "outputs": [
        {
          "output_type": "display_data",
          "data": {
            "text/html": [
              "<p style=\"color: red;\">\n",
              "The default version of TensorFlow in Colab will soon switch to TensorFlow 2.x.<br>\n",
              "We recommend you <a href=\"https://www.tensorflow.org/guide/migrate\" target=\"_blank\">upgrade</a> now \n",
              "or ensure your notebook will continue to use TensorFlow 1.x via the <code>%tensorflow_version 1.x</code> magic:\n",
              "<a href=\"https://colab.research.google.com/notebooks/tensorflow_version.ipynb\" target=\"_blank\">more info</a>.</p>\n"
            ],
            "text/plain": [
              "<IPython.core.display.HTML object>"
            ]
          },
          "metadata": {
            "tags": []
          }
        }
      ]
    },
    {
      "cell_type": "markdown",
      "metadata": {
        "id": "jDf-kPS_OvVQ",
        "colab_type": "text"
      },
      "source": [
        "Mount google drive"
      ]
    },
    {
      "cell_type": "code",
      "metadata": {
        "id": "V7aoHjFTP2s9",
        "colab_type": "code",
        "outputId": "0a3f788a-a639-427c-e0d5-87415d3e72bd",
        "colab": {
          "base_uri": "https://localhost:8080/",
          "height": 122
        }
      },
      "source": [
        "drive.mount('/content/gdrive', force_remount=True)"
      ],
      "execution_count": 0,
      "outputs": [
        {
          "output_type": "stream",
          "text": [
            "Go to this URL in a browser: https://accounts.google.com/o/oauth2/auth?client_id=947318989803-6bn6qk8qdgf4n4g3pfee6491hc0brc4i.apps.googleusercontent.com&redirect_uri=urn%3aietf%3awg%3aoauth%3a2.0%3aoob&response_type=code&scope=email%20https%3a%2f%2fwww.googleapis.com%2fauth%2fdocs.test%20https%3a%2f%2fwww.googleapis.com%2fauth%2fdrive%20https%3a%2f%2fwww.googleapis.com%2fauth%2fdrive.photos.readonly%20https%3a%2f%2fwww.googleapis.com%2fauth%2fpeopleapi.readonly\n",
            "\n",
            "Enter your authorization code:\n",
            "··········\n",
            "Mounted at /content/gdrive\n"
          ],
          "name": "stdout"
        }
      ]
    },
    {
      "cell_type": "markdown",
      "metadata": {
        "id": "DJbzcl4A8xJQ",
        "colab_type": "text"
      },
      "source": [
        "Setting up the path to the data directory"
      ]
    },
    {
      "cell_type": "code",
      "metadata": {
        "id": "gl3kJxIDwwxH",
        "colab_type": "code",
        "colab": {}
      },
      "source": [
        "current_dir = os.getcwd()\n",
        "data_dir = r'/content/gdrive/My Drive/training_set_microlensing/'"
      ],
      "execution_count": 0,
      "outputs": []
    },
    {
      "cell_type": "markdown",
      "metadata": {
        "id": "mF4SshagaAw2",
        "colab_type": "text"
      },
      "source": [
        "### 1. Input parameters"
      ]
    },
    {
      "cell_type": "code",
      "metadata": {
        "id": "xYQFOUe7Z-98",
        "colab_type": "code",
        "colab": {}
      },
      "source": [
        "v_t = [500, 300] # transverse velcity\n",
        "v_t_idx = 1 # choose index value for the velocity you would like (0 or 1)\n",
        "r_0 = [2,4,10,15,20,30,40,60,80,100] # scale radius"
      ],
      "execution_count": 0,
      "outputs": []
    },
    {
      "cell_type": "markdown",
      "metadata": {
        "id": "E9x31ZGmsWsD",
        "colab_type": "text"
      },
      "source": [
        "### 2. Load the data"
      ]
    },
    {
      "cell_type": "code",
      "metadata": {
        "id": "UFkVx1DI8dE8",
        "colab_type": "code",
        "colab": {}
      },
      "source": [
        "def setSamplingParameters(v_t, data_dir, euler_sampling):\n",
        "  \"\"\"\n",
        "  Function defines the values for sampling parameters and no. of pixels \n",
        "\n",
        "  Inputs:\n",
        "  @v_t :: transverse velocity\n",
        "  @euler_sampling :: data samples taken by the Euler telescope\n",
        "  @data_dir :: directory with the model light-curves for inputted v_t\n",
        "\n",
        "  Retutns:\n",
        "  @n_sample :: no. of samples in the training set\n",
        "  @n_sample_max :: option to reduce no. of samples in training set\n",
        "  @n_pix :: no. of pixels, i.e. no. of data-points in the light-curve\n",
        "  \"\"\"\n",
        "  if v_t == 500:\n",
        "    if euler_sampling: \n",
        "      n_sample, n_sample_max, n_pix = 5000, 5000, 4546\n",
        "    else:\n",
        "      n_sample, n_sample_max, n_pix = 5000, 5000, 486\n",
        "\n",
        "  else:\n",
        "    n_sample, n_sample_max, n_pix = 20000, 3000, 1137\n",
        "    sample_params = [n_sample, n_sample_max, n_pix]\n",
        "  return sample_params\n",
        "\n",
        "def initializer(r_0, sample_params):\n",
        "  \"\"\"\n",
        "  Function defines the class names, categories, and initializes the data arrays\n",
        "  Input:\n",
        "  @r_0 :: arr with all the scale radii of the background quasar\n",
        "  @sample_params :: arr containing defined values for the sampled data \n",
        "  \"\"\"\n",
        "  # generate categories and class names \n",
        "  classes = [str(radius) for radius in r_0]\n",
        "  categories = np.arange(len(r_0))\n",
        "\n",
        "  # initialize data arrays to be classified\n",
        "  in_data = np.zeros((sample_params[0]*len(r_0), sample_params[2], 1))\n",
        "  out_catergories = np.zeros(sample_params[0]*len(r_0))\n",
        "  out_radii = np.zeros(sample_params[0]*len(r_0))\n",
        "\n",
        "  class_cat = [classes, categories]\n",
        "  return class_cat, in_data, out_catergories, out_radii\n",
        "\n",
        "def getFilename(data_dir, r, v_t):\n",
        "  \"\"\"\n",
        "  Fuctions defines the file name based on the inputted transverse velocity\n",
        "  @data_dir :: path to the directory containing the data\n",
        "  @r :: arr containing the scale radii\n",
        "  @v_t :: input value for the transverse velocity\n",
        "  \"\"\"\n",
        "  if v_t == 300:\n",
        "    filename = data_dir + 'v300/simLC_A-B_n20000_v300_R' + str(r)  + '_M0,3.pkl'\n",
        "  else:\n",
        "    filename = data_dir + 'v500/simLC_A-B_n50000_v500_R' + str(r)  + '_M0,3.pkl'\n",
        "  return filename\n",
        "\n",
        "def loadData(filename, in_data, sample_params, r):\n",
        "  \"\"\"\n",
        "  Function loads the data from the data files \n",
        "  Input:\n",
        "  @in_data :: empty and initialized arr to hold light-curve info\n",
        "  @sample_params :: arr containing defined values for the sampled data \n",
        "  @r :: iterating variable over all the scale radii\n",
        "\n",
        "  Returns @in_data :: fills the data array with required no. of light curves\n",
        "  \"\"\"\n",
        "  l_curve_file = open(filename, 'rb')\n",
        "  l_curve_data = pickle.load(l_curve_file, encoding='latin1')\n",
        "  l_curve_file.close()\n",
        "\n",
        "  # counter makes sure background is eliminated\n",
        "  count = 0\n",
        "\n",
        "  # iterating over the number of maximum sample points\n",
        "  for i in range(sample_params[1]):\n",
        "    \n",
        "    # gets rid of corrupted data points (None and Nan entries)\n",
        "    if np.any(l_curve_data[i]) is None:\n",
        "      continue\n",
        "    if np.any(np.isnan(np.asarray(l_curve_data[i]))):\n",
        "      continue\n",
        "\n",
        "    # fills in_data with non-corrupted data points\n",
        "    if np.max(np.abs(l_curve_data[i])) > 0.5:\n",
        "      in_data[r*sample_params[0]+count, :, 0] = np.asarray(l_curve_data[i])\n",
        "      count += 1\n",
        "    \n",
        "    # checks if there are enough light-curves to exit the loop\n",
        "    if count == sample_params[0]:\n",
        "      break      \n",
        "  return in_data"
      ],
      "execution_count": 0,
      "outputs": []
    },
    {
      "cell_type": "markdown",
      "metadata": {
        "id": "f58qKFoTr0TS",
        "colab_type": "text"
      },
      "source": [
        "There are 10 categories into which the light-curves are classified. Each category is represented by the scale radius `r_0`. For every scale radius, there exists a light-curve whose data points are stored in the 3D array `in_data`."
      ]
    },
    {
      "cell_type": "code",
      "metadata": {
        "id": "EwCb_eMa9AlY",
        "colab_type": "code",
        "colab": {}
      },
      "source": [
        "# sets the sampling parameters\n",
        "sample_params = setSamplingParameters(v_t[v_t_idx], data_dir, euler_sampling=False)\n",
        "\n",
        "# initializes data arrays\n",
        "class_cat, in_data, out_catergories, out_radii = initializer(r_0, sample_params)\n",
        "\n",
        "for i, rad in enumerate(r_0):\n",
        "  filename = getFilename(data_dir, rad, v_t[v_t_idx])\n",
        "  \n",
        "  # load data from the file\n",
        "  in_data = loadData(filename, in_data, sample_params, i)\n",
        "  out_catergories[i*sample_params[0]:(i+1)*sample_params[0]] = class_cat[1][i]\n",
        "  out_radii[i*sample_params[0]:(i+1)*sample_params[0]] = r_0[i]"
      ],
      "execution_count": 0,
      "outputs": []
    },
    {
      "cell_type": "markdown",
      "metadata": {
        "id": "c4tKn20MtLo5",
        "colab_type": "text"
      },
      "source": [
        "#### 2.1 Plots of some random light-curves"
      ]
    },
    {
      "cell_type": "code",
      "metadata": {
        "id": "UVfRYJoduSH1",
        "colab_type": "code",
        "colab": {}
      },
      "source": [
        "def setLabels(ax, xlabel, ylabel, title):\n",
        "    \"\"\"\n",
        "    Function sets the labels of the x-y axis in the plot below\n",
        "    \"\"\"\n",
        "    ax.set_ylabel(xlabel, fontsize=16)\n",
        "    ax.set_xlabel(ylabel)\n",
        "    ax.set_title(title)\n",
        "    ax.legend()\n",
        "    return "
      ],
      "execution_count": 0,
      "outputs": []
    },
    {
      "cell_type": "code",
      "metadata": {
        "id": "dbfCcU01tQAf",
        "colab_type": "code",
        "outputId": "d60f3dc4-1141-457c-add6-630e89f810d2",
        "colab": {
          "base_uri": "https://localhost:8080/",
          "height": 289
        }
      },
      "source": [
        "fig, ax = plt.subplots(1, 1, figsize=(8,4))\n",
        "n = [5, 1000]\n",
        "ax.plot(in_data[n[0], :], 'r.', label='Curve %i'%(n[0]))\n",
        "ax.plot(in_data[n[1], :], 'b.', label='Curve %i'%(n[1]))\n",
        "setLabels(ax, 'Magnitude', 'HJD (days)','')"
      ],
      "execution_count": 0,
      "outputs": [
        {
          "output_type": "display_data",
          "data": {
            "image/png": "[encoded data removed]",
            "text/plain": [
              "<Figure size 576x288 with 1 Axes>"
            ]
          },
          "metadata": {
            "tags": []
          }
        }
      ]
    },
    {
      "cell_type": "code",
      "metadata": {
        "id": "Sh_h39yttlDr",
        "colab_type": "code",
        "colab": {}
      },
      "source": [
        ""
      ],
      "execution_count": 0,
      "outputs": []
    }
  ]
}