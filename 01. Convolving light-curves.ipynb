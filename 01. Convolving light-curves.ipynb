{
  "cells": [
    {
      "cell_type": "markdown",
      "source": [
        "## Convolving light-curves \n",
        "\n",
        "The script convolves ligth curves to get the microlensing signal.\n",
        "\n",
        "Rewritten by: Soumya Shreeram <br>\n",
        "Script originally written by: Eric Paic <br>\n",
        "Date: 02nd March 2020 <br>"
      ],
      "metadata": {
        "nteract": {
          "transient": {
            "deleting": false
          }
        }
      }
    },
    {
      "cell_type": "code",
      "source": [
        "import numpy as np\n",
        "from astropy.io import fits\n",
        "import os,sys\n",
        "from astropy.convolution import convolve_fft\n",
        "import scipy.signal as ss\n",
        "#from guppy import hpy"
      ],
      "outputs": [],
      "execution_count": 7,
      "metadata": {
        "collapsed": false,
        "jupyter": {
          "source_hidden": false,
          "outputs_hidden": false
        },
        "nteract": {
          "transient": {
            "deleting": false
          }
        },
        "execution": {
          "iopub.status.busy": "2020-03-02T15:18:09.070Z",
          "iopub.execute_input": "2020-03-02T15:18:09.073Z",
          "iopub.status.idle": "2020-03-02T15:18:20.330Z",
          "shell.execute_reply": "2020-03-02T15:18:20.322Z"
        }
      }
    },
    {
      "cell_type": "code",
      "source": [
        "current_dir = os.getcwd()\n",
        "root_dir = os.path.abspath(os.path.join(current_dir, os.pardir))\n",
        "data_dir = os.path.join(root_dir)\n",
        "print(\"Does the directory exist? \\n>\",os.path.isdir(data_dir))\n",
        "\n",
        "# setting the paths\n",
        "datadir = data_dir + '/Data/'\n",
        "scriptdir = data_dir + '/Data/scripts'\n",
        "resultdir = data_dir + '/Data/results'\n",
        "mapdir = data_dir + '/Data/maps/unconvolved/'\n",
        "storagedir = data_dir + '/Data/maps/storage/'"
      ],
      "outputs": [
        {
          "output_type": "stream",
          "name": "stdout",
          "text": [
            "Does the directory exist? \n",
            "> True\n"
          ]
        }
      ],
      "execution_count": 8,
      "metadata": {
        "collapsed": false,
        "jupyter": {
          "source_hidden": false,
          "outputs_hidden": false
        },
        "nteract": {
          "transient": {
            "deleting": false
          }
        },
        "execution": {
          "iopub.status.busy": "2020-03-02T15:18:20.336Z",
          "iopub.execute_input": "2020-03-02T15:18:20.339Z",
          "iopub.status.idle": "2020-03-02T15:18:20.348Z",
          "shell.execute_reply": "2020-03-02T15:18:20.372Z"
        }
      }
    },
    {
      "cell_type": "code",
      "source": [
        "def mapDiff(mapA,mapB,r0,comb):\n",
        "    \"\"\"\n",
        "    Function takes the logarithmic difference between the two maps A and B\n",
        "    \"\"\"\n",
        "    img = fits.open(mapA)[0]\n",
        "    map_A = img.data[:, :]\n",
        "\n",
        "    img = fits.open(mapB)[0]\n",
        "    map_B = img.data[:, :]\n",
        "\n",
        "    final_map = map_A/map_B\n",
        "\n",
        "    hdu = fits.PrimaryHDU(final_map)\n",
        "    os.chdir(datadir)\n",
        "    hdu.writeto(storagedir+'Q0158/FML1.0/M0,3/map%s-%s_fml09_R%s_thin_disk.fits'%(comb[0],comb[1],r0))\n",
        "\n",
        "    return final_map\n",
        "\n",
        "def halfLightRadius(map):\n",
        "    \"\"\"\n",
        "    Function \n",
        "    \"\"\"\n",
        "    img = fits.open(map)[0]\n",
        "    map_d = img.data[:, :]\n",
        "    tot_lum = np.sum(map_d)\n",
        "    list_r_half = np.arange(0,200,2)\n",
        "    map_r = np.zeros(np.shape(map_d))\n",
        "    xc = len(map_d)/2\n",
        "    yc = len(map_d)/2\n",
        "    \n",
        "    for lind, line in enumerate(map_d):\n",
        "        for cind, elt in enumerate(line):\n",
        "            map_r[cind,lind] = np.sqrt((cind - xc) ** 2 + (lind - yc) ** 2)\n",
        "            \n",
        "    l_vsr = []\n",
        "    for r_half in list_r_half:\n",
        "        l_vsr.append(np.sum(map_d[np.where(map_r<r_half)]))\n",
        "        print(np.where(map_r<r_half))\n",
        "        print(len(np.where(map_r < r_half)[0]))\n",
        "        print(len(np.where(map_r < r_half)[1]))\n",
        "    quantities = [map_r[246:266,246:266], l_vsr, list_r_half, l_vsr[10], l_vsr[20], l_vsr[40], tot_lum]\n",
        "    return quantities"
      ],
      "outputs": [],
      "execution_count": 19,
      "metadata": {
        "collapsed": false,
        "jupyter": {
          "source_hidden": false,
          "outputs_hidden": false
        },
        "nteract": {
          "transient": {
            "deleting": false
          }
        },
        "execution": {
          "iopub.status.busy": "2020-03-02T15:22:05.067Z",
          "iopub.execute_input": "2020-03-02T15:22:05.071Z",
          "iopub.status.idle": "2020-03-02T15:22:05.076Z",
          "shell.execute_reply": "2020-03-02T15:22:05.079Z"
        }
      }
    },
    {
      "cell_type": "markdown",
      "source": [
        "The models of the light source used to convolve the mgnification maps are:\n",
        "* `thin_disk` (default option) more information available [here](https://arxiv.org/pdf/1707.01908.pdf).\n",
        "* `sersic`\n",
        "* `thin_disk&node`\n",
        "* `wavy_hole`\n",
        "* `wavy`\n",
        "* `sersic`"
      ],
      "metadata": {
        "nteract": {
          "transient": {
            "deleting": false
          }
        }
      }
    },
    {
      "cell_type": "code",
      "source": [
        "def convolve( R0, map, model=\"thin_disk\", Rin =0, I0=1):\n",
        "    \"\"\"\n",
        "    Input:\n",
        "    @map :: fits file of the magnification map\n",
        "    @model :: the model of the light source that the magnification map will be convoluted with.\n",
        "    @R0 :: float; scale radius, for thin_disk, R0 is R0 (~10^14 cm for 1131 & 0435), for sersic R0 is fwhm. (Units: pixels)\n",
        "    @Rin :: float. Useful only for thin_disk\n",
        "    @I0 :: float. Useful for both models\n",
        "    #create source profile\n",
        "\n",
        "    \"\"\"\n",
        "    img_name = map.split('map')[2].split('.')[0]\n",
        "\timg = fits.open(map)[0]\n",
        "\t\n",
        "    map_d = img.data[:, :]\n",
        "\tmacro_mag = np.mean(map_d)\n",
        "\tprint(macro_mag)\n",
        "\tmap_d = map_d / macro_mag\n",
        "\tprint np.mean(map_d)\n",
        "\th=hpy()\n",
        "\tprint(h.heap())\n",
        "\n",
        "\txc, yc, xn, yn = 256, 256, 128, 128\n",
        "\t\n",
        "\tif model == \"thin_disk\":\n",
        "\t\tdef getprofilevalue(x, y, xc, yc, I0):\n",
        "\t\t\tr = np.sqrt((x-xc)**2 + (y-yc)**2)\n",
        "\t\t\tif r<Rin:\n",
        "\t\t\t\treturn 0\n",
        "\t\t\telse:\n",
        "\t\t\t\tif Rin == 0:\n",
        "\t\t\t\t\txi = (r / R0) ** (3. / 4.) * (1) ** (-1. / 4.)\n",
        "\t\t\t\telse :\n",
        "\t\t\t\t\txi = (r/R0)**(3./4.)*(1-np.sqrt(Rin/r))**(-1./4.)\n",
        "\t\t\t\treturn I0/(np.exp(xi)-1)\n",
        "\n",
        "\tif model == \"thin_disk&node\":\n",
        "\t\tdef getprofilevalue(x, y, xc, yc,xn,yn, I0):\n",
        "\t\t\tr = np.sqrt((x-xc)**2 + (y-yc)**2)\n",
        "\t\t\tr2 = np.sqrt((x-xn)**2 + (y-yn)**2)\n",
        "\t\t\tif r<Rin:\n",
        "\t\t\t\treturn 0\n",
        "\t\t\telse:\n",
        "\t\t\t\tif Rin ==0:\n",
        "\t\t\t\t\txi = (r / R0) ** (3. / 4.) * (1) ** (-1. / 4.)\n",
        "\t\t\t\telse :\n",
        "\t\t\t\t\txi = (r/R0)**(3./4.)*(1-np.sqrt(Rin/r))**(-1./4.)\n",
        "\t\t\t\treturn I0/(np.exp(xi)-1) + I0/(np.exp((r2/(R0*0.4106))**(3/4))-1)\n",
        "\n",
        "\tif model ==\"wavy_hole\":\n",
        "\t\tdef getprofilevalue(x,y,xc,yc,I0):\n",
        "\t\t\tr = np.sqrt((x - xc) ** 2 + (y - yc) ** 2)\n",
        "\t\t\tn = 3\n",
        "\t\t\tbeta = n*np.pi/(2*R0)\n",
        "\t\t\t#if beta*r < np.pi:\n",
        "\t\t\t#\treturn I0*beta/(R0*n*np.pi**2)\n",
        "\t\t\tif beta*r < 2*np.pi:\n",
        "\t\t\t\treturn I0*beta/(n*np.pi**2)*np.power(np.sin(beta*r),2)/r\n",
        "\t\t\telse :\n",
        "\t\t\t\treturn 0\n",
        "\n",
        "\tif model ==\"wavy\":\n",
        "\t\tdef getprofilevalue(x,y,xc,yc,I0):\n",
        "\t\t\tr = np.sqrt((x - xc) ** 2 + (y - yc) ** 2)\n",
        "\t\t\tn = 3\n",
        "\t\t\tbeta = n*np.pi/(2*R0)\n",
        "\t\t\tif beta*r < np.pi/2:\n",
        "\t\t\t\treturn I0*beta/(n*np.pi**2)\n",
        "\t\t\telif beta * r < 2 * np.pi and beta * r > np.pi/2:\n",
        "\t\t\t\treturn I0*beta/(n*np.pi**2)*np.power(np.sin(beta*r),2)\n",
        "            \n",
        "    if model == \"sersic\":\n",
        "\t\tdef getprofilevalue(x, y, xc, yc, I0, reff_pix=0.2, sersic_index=4.0):\n",
        "\t\t\tr = np.sqrt((x - xc) ** 2 + (y - yc) ** 2)\n",
        "\t\t\treturn I0 * np.exp(-(r / reff_pix) ** (1.0 / sersic_index))\n",
        "\n"
      ],
      "outputs": [],
      "execution_count": null,
      "metadata": {
        "collapsed": false,
        "jupyter": {
          "source_hidden": false,
          "outputs_hidden": false
        },
        "nteract": {
          "transient": {
            "deleting": false
          }
        }
      }
    },
    {
      "cell_type": "markdown",
      "source": [
        "Canvas is a black 128x128 pixels fits file"
      ],
      "metadata": {
        "nteract": {
          "transient": {
            "deleting": false
          }
        }
      }
    },
    {
      "cell_type": "code",
      "source": [
        "os.system('cp new_canvas.fits toconv.fits')\n",
        "os.system('cp new_canvas.fits source_profile.fits')  # non-convolved profile, 128*128\n",
        "os.system('cp new_canvas.fits gaussian.fits')  # gaussian, 128*128\n",
        "\n",
        "profile = fits.open('source_profile.fits', mode='update')[0]\n",
        "gaussian = fits.open('gaussian.fits', mode='update')[0]\n",
        "toconv = fits.open('toconv.fits', mode='update')[0]\n",
        "\n",
        "\n",
        "data = toconv.data[:,:]\n",
        "pdata = profile.data[:,:]\n",
        "gdata = gaussian.data[:,:]"
      ],
      "outputs": [],
      "execution_count": null,
      "metadata": {
        "collapsed": false,
        "jupyter": {
          "source_hidden": false,
          "outputs_hidden": false
        },
        "nteract": {
          "transient": {
            "deleting": false
          }
        }
      }
    },
    {
      "cell_type": "markdown",
      "source": [
        "Read data value"
      ],
      "metadata": {
        "nteract": {
          "transient": {
            "deleting": false
          }
        }
      }
    },
    {
      "cell_type": "code",
      "source": [
        "def getfitsvalue(data, x, y):\n",
        "\t\treturn data[x][y]\n",
        "\n",
        "\t# 2D gaussian profile\n",
        "\tfwhm = R0  # pixels\n",
        "\tsigma = fwhm / 2.355\n",
        "\tdef get2dgaussianvalue(x, y, xc, yc):\n",
        "\t\treturn 1.0 / (2 * np.pi * sigma ** 2) * np.exp(-((x - xc) ** 2 + (y - yc) ** 2) / (2 * sigma ** 2))\n",
        "\n",
        "\tdef get2ddiracvalue(x,y,xc,yc):\n",
        "\t\tif x == xc and y ==yc:\n",
        "\t\t\treturn 1\n",
        "\t\telse:\n",
        "\t\t\treturn 0"
      ],
      "outputs": [],
      "execution_count": null,
      "metadata": {
        "collapsed": false,
        "jupyter": {
          "source_hidden": false,
          "outputs_hidden": false
        },
        "nteract": {
          "transient": {
            "deleting": false
          }
        }
      }
    },
    {
      "cell_type": "code",
      "source": [
        "\tfor lind, line in enumerate(gdata):\n",
        "\t\tfor cind, elt in enumerate(line):\n",
        "\t\t\tgdata[lind][cind] = get2ddiracvalue(cind+1, lind+1, 256, 256)\n",
        "\t\t\tif model == \"thin_disk\":\n",
        "\t\t\t\tpdata[lind][cind] = getprofilevalue(cind + 1, lind + 1, xc, yc, I0)\n",
        "\t\t\tif model == \"sersic\":\n",
        "\t\t\t\tpdata[lind][cind] = getprofilevalue(cind+1, lind+1, xc, yc, I0, reff_pix)\n",
        "\t\t\tif model == \"wavy\":\n",
        "\t\t\t\tpdata[lind][cind] = getprofilevalue(cind+1, lind+1, xc, yc, I0)\n",
        "\t\t\tif model == \"wavy_hole\":\n",
        "\t\t\t\tpdata[lind][cind] = getprofilevalue(cind+1, lind+1, xc, yc, I0)\n",
        "\t\t\tif model == \"thin_disk&node\":\n",
        "\t\t\t\tpdata[lind][cind] = getprofilevalue(cind+1, lind+1, xc, yc,xn,yn, I0)\n"
      ],
      "outputs": [],
      "execution_count": null,
      "metadata": {
        "collapsed": false,
        "jupyter": {
          "source_hidden": false,
          "outputs_hidden": false
        },
        "nteract": {
          "transient": {
            "deleting": false
          }
        }
      }
    },
    {
      "cell_type": "code",
      "source": [
        "\tprint pdata\n",
        "\tprint map_d\n",
        "\t#out = scipy.ndimage.filters.convolve(gdata, pdata)\n",
        "\tout = convolve_fft(gdata, pdata)\n",
        "\t#pdata[256][256] = pdata[256][257]\n",
        "\tfor lind, line in enumerate(data):\n",
        "\t\tfor cind, elt in enumerate(line):\n",
        "\t\t\tdata[lind][cind] = out[lind][cind]\n",
        "\tsys.exit()\n"
      ],
      "outputs": [],
      "execution_count": null,
      "metadata": {
        "collapsed": false,
        "jupyter": {
          "source_hidden": false,
          "outputs_hidden": false
        },
        "nteract": {
          "transient": {
            "deleting": false
          }
        }
      }
    },
    {
      "cell_type": "code",
      "source": [
        "\tout2 = ss.fftconvolve(map_d, data, mode=\"valid\")\n",
        "\thdu = fits.PrimaryHDU(out2)\n",
        "\n",
        "\t#os.chdir(\"\")\n",
        "\thdu.writeto(storagedir+'Q0158/FML1.0/M0,3/convolved_map_%s_fft_%s_%i_fml09.fits'%(img_name,model,R0))\n",
        "\n",
        "einstein_r = 3.414e16\n",
        "cm_per_pxl = (20*einstein_r)/8192\n",
        "ld_per_pxl = 30000000000*3600*24/cm_per_pxl\n",
        "\n",
        "\n",
        "dim = 512\n",
        "\n",
        "x = 0*np.ones(dim)\n",
        "n = []\n",
        "for i in range(dim):\n",
        "\tn.append(x)\n",
        "\n",
        "hdu = fits.PrimaryHDU(n)\n",
        "\n",
        "\n",
        "#half_light_radius(\"../toconv.fits\")\n",
        "#sys.exit()\n",
        "\n",
        "#list_r0 = [2,4,10,15,20,30,40,60,80,100]\n",
        "list_r0 = [49]\n",
        "#list_img = ['A','B','A2','B2','A3','B3','A4','A6','A5','A7','A8']\n",
        "list_img = ['A','B']\n",
        "\n",
        "#list_comb = [('A3', 'B2'),('A3','B3'),('A4','B2'),('A4','B3'),('A5','B2'),('A5','B3'),('A6','B2'),('A6','B3'),('A7','B3'),('A8','B2'),('A8','B3')]\n",
        "list_comb = [('A','B')]\n",
        "#list_comb=[('A2_Re5', 'B2_Re5')]\n",
        "\n",
        "os.chdir(\"../\")\n",
        "for img_n in list_img:\n",
        "\tprint img_n\n",
        "\tfor r0 in list_r0:\n",
        "\t\tprint r0\n",
        "\t\tconvolve(r0, storagedir+\"Q0158/FML1.0/M0.3/map%s.fits\"%(img_n),\"thin_disk\")\n",
        "\n",
        "\n",
        "for comb in list_comb:\n",
        "\tprint comb\n",
        "\tfor elem in list_r0:\n",
        "\t\tprint elem\n",
        "\t\tfinal_map = mapdiff(storagedir+\"Q0158/FML1.0/M0,3/convolved_map_%s_fft_thin_disk_%s_fml09.fits\"%(comb[0], elem),storagedir+\"Q0158/FML1.0/M0,3/convolved_map_%s_fft_thin_disk_%s_fml09.fits\"%(comb[1],elem), elem, comb)\n",
        "\n",
        "\n",
        "#hdu.writeto(\"new_canvas.fits\")"
      ],
      "outputs": [],
      "execution_count": null,
      "metadata": {
        "collapsed": false,
        "jupyter": {
          "source_hidden": false,
          "outputs_hidden": false
        },
        "nteract": {
          "transient": {
            "deleting": false
          }
        }
      }
    }
  ],
  "metadata": {
    "kernel_info": {
      "name": "qutip-env"
    },
    "language_info": {
      "name": "python",
      "version": "3.6.7",
      "mimetype": "text/x-python",
      "codemirror_mode": {
        "name": "ipython",
        "version": 3
      },
      "pygments_lexer": "ipython3",
      "nbconvert_exporter": "python",
      "file_extension": ".py"
    },
    "kernelspec": {
      "argv": [
        "D:\\Anaconda2\\envs\\qutip-env\\python.exe",
        "-m",
        "ipykernel_launcher",
        "-f",
        "{connection_file}"
      ],
      "display_name": "Python (qutip-env)",
      "language": "python",
      "name": "qutip-env"
    },
    "nteract": {
      "version": "0.22.0"
    }
  },
  "nbformat": 4,
  "nbformat_minor": 0
}