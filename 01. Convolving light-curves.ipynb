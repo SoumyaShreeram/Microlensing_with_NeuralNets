{
  "cells": [
    {
      "cell_type": "markdown",
      "source": [
        "## Convolving light-curves \n",
        "\n",
        "The script convolves ligth curves to get the microlensing signal.\n",
        "\n",
        "1. Setting the path for the directories and input parameters\n",
        "2. Function to calculate the difference between A, B images\n",
        "3. Functions to convolve the data\n",
        "4. Execution of convolving the maps and saving the data\n",
        "\n",
        "Rewritten by: Soumya Shreeram <br>\n",
        "Script originally written by: Eric Paic <br>\n",
        "Date: 02nd March 2020 <br>"
      ],
      "metadata": {
        "nteract": {
          "transient": {
            "deleting": false
          }
        }
      }
    },
    {
      "cell_type": "code",
      "source": [
        "import numpy as np\n",
        "from astropy.io import fits\n",
        "import os,sys\n",
        "from astropy.convolution import convolve_fft\n",
        "import scipy.signal as ss\n",
        "#from guppy import hpy"
      ],
      "outputs": [],
      "execution_count": 1,
      "metadata": {
        "collapsed": false,
        "jupyter": {
          "source_hidden": false,
          "outputs_hidden": false
        },
        "nteract": {
          "transient": {
            "deleting": false
          }
        },
        "execution": {
          "iopub.status.busy": "2020-03-08T18:25:27.956Z",
          "iopub.execute_input": "2020-03-08T18:25:27.960Z",
          "iopub.status.idle": "2020-03-08T18:25:29.494Z",
          "shell.execute_reply": "2020-03-08T18:25:29.503Z"
        }
      }
    },
    {
      "cell_type": "markdown",
      "source": [
        "### 1. Setting the path for the directories and input parameters"
      ],
      "metadata": {
        "nteract": {
          "transient": {
            "deleting": false
          }
        }
      }
    },
    {
      "cell_type": "code",
      "source": [
        "current_dir = os.getcwd()\n",
        "root_dir = os.path.abspath(os.path.join(current_dir, os.pardir))\n",
        "data_dir = os.path.join(root_dir)\n",
        "print(\"Does the directory exist? \\n>\",os.path.isdir(data_dir))\n",
        "\n",
        "# setting the paths\n",
        "datadir = data_dir + '/Data/'\n",
        "scriptdir = data_dir + '/Data/scripts/'\n",
        "resultdir = data_dir + '/Data/results/'\n",
        "mapdir = data_dir + '/Data/maps/convolved/'\n",
        "storagedir = data_dir + '/Data/maps/storage/'"
      ],
      "outputs": [
        {
          "output_type": "stream",
          "name": "stdout",
          "text": [
            "Does the directory exist? \n",
            "> True\n"
          ]
        }
      ],
      "execution_count": 2,
      "metadata": {
        "collapsed": false,
        "jupyter": {
          "source_hidden": false,
          "outputs_hidden": false
        },
        "nteract": {
          "transient": {
            "deleting": false
          }
        },
        "execution": {
          "iopub.status.busy": "2020-03-08T18:25:31.526Z",
          "iopub.execute_input": "2020-03-08T18:25:31.531Z",
          "iopub.status.idle": "2020-03-08T18:25:31.537Z",
          "shell.execute_reply": "2020-03-08T18:25:31.541Z"
        }
      }
    },
    {
      "cell_type": "markdown",
      "source": [
        "All input parameters:"
      ],
      "metadata": {
        "nteract": {
          "transient": {
            "deleting": false
          }
        }
      }
    },
    {
      "cell_type": "code",
      "source": [
        "list_r0 = [2,4,10,15,20,30,40,60,80,100]\n",
        "\n",
        "list_img = ['A1','B1','A2','B2','A3','B3','A4','B4']\n",
        "\n",
        "list_comb = [('A1', 'B2'),('A2','B1'),('A3','B3'),('A4','B3'),('A2','B4'),('A1','B3'),('A6','B2'),('A6','B3'),('A7','B3'),('A8','B2'),('A8','B3')]\n",
        "\n",
        "einstein_r = 3.414e16\n",
        "cm_per_pxl = (20*einstein_r)/8192\n",
        "ld_per_pxl = 30000000000*3600*24/cm_per_pxl\n",
        "\n",
        "dim = 512"
      ],
      "outputs": [],
      "execution_count": 3,
      "metadata": {
        "collapsed": false,
        "jupyter": {
          "source_hidden": false,
          "outputs_hidden": false
        },
        "nteract": {
          "transient": {
            "deleting": false
          }
        },
        "execution": {
          "iopub.status.busy": "2020-03-08T18:25:34.418Z",
          "iopub.execute_input": "2020-03-08T18:25:34.423Z",
          "shell.execute_reply": "2020-03-08T18:25:34.435Z",
          "iopub.status.idle": "2020-03-08T18:25:34.429Z"
        }
      }
    },
    {
      "cell_type": "markdown",
      "source": [
        "### 2. Function to calculated the difference between the A, B images"
      ],
      "metadata": {
        "nteract": {
          "transient": {
            "deleting": false
          }
        }
      }
    },
    {
      "cell_type": "code",
      "source": [
        "def mapDiff(mapA,mapB,r0,comb):\n",
        "    \"\"\"\n",
        "    Function takes the logarithmic difference between the two maps A and B\n",
        "    Input:\n",
        "    @mapA, mapB :: two randomly chosen maps\n",
        "    @r0 :: scale radius\n",
        "    @comb :: combination of the two maps eg. A1, B2 or A3, B2, etc.\n",
        "    \"\"\"\n",
        "    img = fits.open(mapA)[0]\n",
        "    map_A = img.data[:, :]\n",
        "\n",
        "    img = fits.open(mapB)[0]\n",
        "    map_B = img.data[:, :]\n",
        "\n",
        "    final_map = map_A/map_B\n",
        "\n",
        "    hdu = fits.PrimaryHDU(final_map)\n",
        "    os.chdir(data_dir)\n",
        "    hdu.writeto(resultdir+'/map%s-%s_fml09_R%s_thin_disk.fits'%(comb[0],comb[1],r0))\n",
        "    return final_map"
      ],
      "outputs": [],
      "execution_count": 4,
      "metadata": {
        "collapsed": false,
        "jupyter": {
          "source_hidden": false,
          "outputs_hidden": false
        },
        "nteract": {
          "transient": {
            "deleting": false
          }
        },
        "execution": {
          "iopub.status.busy": "2020-03-08T18:25:35.928Z",
          "iopub.execute_input": "2020-03-08T18:25:35.931Z",
          "iopub.status.idle": "2020-03-08T18:25:35.939Z",
          "shell.execute_reply": "2020-03-08T18:25:35.943Z"
        }
      }
    },
    {
      "cell_type": "markdown",
      "source": [
        "### 3. Functions to convolve the data\n",
        "\n",
        "The models of the light source used to convolve the mgnification maps are:\n",
        "* `thin_disk` (default option) more information available [here](https://arxiv.org/pdf/1707.01908.pdf).\n",
        "* `sersic`\n",
        "* `thin_disk&node`\n",
        "* `wavy_hole`\n",
        "* `wavy`\n",
        "* `sersic`"
      ],
      "metadata": {
        "nteract": {
          "transient": {
            "deleting": false
          }
        }
      }
    },
    {
      "cell_type": "code",
      "source": [
        "def calR(x, xc, y, yc):\n",
        "    return np.sqrt((x-xc)**2 + (y-yc)**2)\n",
        "\n",
        "def calXi(r, Rin, R0):\n",
        "    \"\"\"\n",
        "    Function checks the value of r and calculates xi accordingly\n",
        "    \"\"\"\n",
        "    if r<Rin:\n",
        "        return 0\n",
        "    else:\n",
        "        if Rin == 0:\n",
        "            xi = (r / R0) ** (3/4) * (1) ** (-1/4)\n",
        "        else:\n",
        "            xi = (r/R0)**(3/4)*(1-np.sqrt(Rin/r))**(-1/4)\n",
        "    return xi\n",
        "\n",
        "def getprofilevalue(x, y, xc, yc, xn, yn, I0, reff_pix=0.2, sersic_index=4.0):\n",
        "    \"\"\"\n",
        "    Function to get the profile values for each particular choice of model \n",
        "    \"\"\"\n",
        "    beta = n*np.pi/(2*R0)\n",
        "    n = 3\n",
        "    \n",
        "    if model == \"thin_disk\":\n",
        "        r = calR(x, xc, y, yc)\n",
        "        xi = calXi(r, Rin, R0)\n",
        "        profile_val = I0/(np.exp(xi)-1)\n",
        "        \n",
        "    if model == \"thin_disk&node\":\n",
        "\t\tr = calR(x, xn, y, yn)\n",
        "        xi = calXi(r, Rin, R0)\n",
        "        profile_val = I0/(np.exp(xi)-1) + I0/(np.exp((r/(R0*0.4106))**(3/4))-1)\n",
        "\n",
        "\tif model ==\"wavy_hole\":\n",
        "\t\tr = calR(x, xc, y, yc)\n",
        "        # calculates the profile value based on conditions on beta*r\n",
        "        if beta*r < 2*np.pi:\n",
        "            profile_val = I0*beta/(n*np.pi**2)*np.power(np.sin(beta*r),2)/r\n",
        "        else:\n",
        "            profile_val = 0\n",
        "\n",
        "\tif model ==\"wavy\":\n",
        "\t\tr = calR(x, xc, y, yc)\n",
        "        if beta*r < np.pi/2:\n",
        "            profile_val = I0*beta/(n*np.pi**2)\n",
        "        elif beta * r < 2 * np.pi and beta * r > np.pi/2:\n",
        "            profile_val = I0*beta/(n*np.pi**2)*np.square(np.sin(beta*r))\n",
        "            \n",
        "    if model == \"sersic\":\n",
        "\t\tr = calR(x, xc, y, yc)\n",
        "        profile_val = I0 * np.exp(-(r / reff_pix) ** (1.0 / sersic_index))\n",
        "    return profile_val\n",
        "\n",
        "def generate2DDataArrays(dims=128):\n",
        "    \"\"\"\n",
        "    Function to generate the 2D data arrays as per required dims\n",
        "    @dims :: sets the size of the 2D data arrays\n",
        "    \"\"\"    \n",
        "    data = np.zeros((128,128))\n",
        "    pdata = np.zeros((128,128))\n",
        "    gdata = np.zeros((128,128))\n",
        "    return data, pdata, gdata\n",
        "\n",
        "def get2ddiracvalue(x,y,xc,yc):\n",
        "    \"\"\"\n",
        "    Function to get the 2D dirac values to fill the gaussian ???\n",
        "    \"\"\"\n",
        "    if x == xc and y ==yc:\n",
        "        return 1\n",
        "    else:\n",
        "        return 0\n",
        "    \n",
        "def outputMapParams(img):\n",
        "    map_d = img.data[:, :]\n",
        "\tmacro_mag = np.mean(map_d)\n",
        "\tmap_d = map_d / macro_mag\n",
        "\treturn map_d, macro_mag\n",
        "\n",
        "def convolve(R0, map_name, model=\"thin_disk\", Rin =0, I0=1):\n",
        "    \"\"\"\n",
        "    Input:\n",
        "    @map_name :: fits file of the magnification map\n",
        "    @model :: the model of the light source that the magnification map will be convoluted with.\n",
        "    @R0 :: float; scale radius, for thin_disk, R0 is R0 (~10^14 cm for 1131 & 0435), for sersic R0 is fwhm. (Units: pixels)\n",
        "    @Rin :: float. Useful only for thin_disk\n",
        "    @I0 :: float. Useful for both models\n",
        "    #create source profile\n",
        "\n",
        "    \"\"\"\n",
        "    img_name = map_name.split('map')[2].split('.')[0]\n",
        "\timg = fits.open(map_name)[0]\n",
        "\tmap_d, macro_mag  = outputMapParams(img)\n",
        "    \n",
        "\txc, yc, xn, yn = 256, 256, 128, 128\n",
        "\t\n",
        "\t# generates the profile, gaussian, and toconv fits files from new_canvas.fits\n",
        "    data, pdata, gdata = generate2DDataArrays(dims=128)\n",
        "    \n",
        "    # fills the data arrays based of the choice of the model\n",
        "    for lind, line in enumerate(gdata):\n",
        "        for cind, elt in enumerate(line):\n",
        "            gdata[lind][cind] = get2ddiracvalue(cind+1, lind+1, xn, yn)\n",
        "            pdata[lind][cind] = getprofilevalue(x, y, xc, yc, xn, yn, I0, reff_pix=0.2, sersic_index=4.0)\n",
        "            \n",
        "    # convolves the data\n",
        "    output = convolve_fft(gdata, pdata)\n",
        "\n",
        "    for lind, line in enumerate(data):\n",
        "        for cind, elt in enumerate(line):\n",
        "            data[lind][cind] = out[lind][cind]\n",
        "            \n",
        "    # ???\n",
        "    out2 = ss.fftconvolve(map_d, data, mode=\"valid\")\n",
        "    hdu = fits.PrimaryHDU(out2)\n",
        "\n",
        "    hdu.writeto(storagedir+'/convolved_map_%s_fft_%s_%i_fml09.fits'%(img_name,model,R0))\n",
        "    return"
      ],
      "outputs": [],
      "execution_count": null,
      "metadata": {
        "collapsed": false,
        "jupyter": {
          "source_hidden": false,
          "outputs_hidden": false
        },
        "nteract": {
          "transient": {
            "deleting": false
          }
        },
        "execution": {
          "iopub.status.busy": "2020-03-08T18:25:49.827Z",
          "iopub.execute_input": "2020-03-08T18:25:49.831Z",
          "iopub.status.idle": "2020-03-08T18:25:49.842Z",
          "shell.execute_reply": "2020-03-08T18:25:49.854Z"
        }
      }
    },
    {
      "cell_type": "markdown",
      "source": [
        "### 4. Execution of convolving the maps and save the data"
      ],
      "metadata": {
        "nteract": {
          "transient": {
            "deleting": false
          }
        }
      }
    },
    {
      "cell_type": "code",
      "source": [
        "string_name = \"/convolved_map_%s_fft_thin_disk_%s.fits\"\n",
        "for img_AB in list_img:\n",
        "    for r0 in list_r0:\n",
        "        print(r0)\n",
        "        convolve(r0, mapdir+\"/map%s.fits\"%(img_n),\"thin_disk\")\n",
        "\n",
        "for comb in list_comb:\n",
        "    for r0 in list_r0:\n",
        "        print(elem)\n",
        "        final_map = mapDiff(storagedir+string_name%(comb[0], lem),storagedir+string_name%(comb[1],elem), elem, comb)"
      ],
      "outputs": [],
      "execution_count": null,
      "metadata": {
        "collapsed": false,
        "jupyter": {
          "source_hidden": false,
          "outputs_hidden": false
        },
        "nteract": {
          "transient": {
            "deleting": false
          }
        },
        "execution": {
          "iopub.status.busy": "2020-03-08T18:20:56.934Z",
          "iopub.execute_input": "2020-03-08T18:20:56.947Z",
          "iopub.status.idle": "2020-03-08T18:20:56.972Z",
          "shell.execute_reply": "2020-03-08T18:20:56.994Z"
        }
      }
    },
    {
      "cell_type": "code",
      "source": [],
      "outputs": [],
      "execution_count": null,
      "metadata": {
        "collapsed": false,
        "jupyter": {
          "source_hidden": false,
          "outputs_hidden": false
        },
        "nteract": {
          "transient": {
            "deleting": false
          }
        }
      }
    }
  ],
  "metadata": {
    "kernel_info": {
      "name": "qutip-env"
    },
    "language_info": {
      "name": "python",
      "version": "3.6.7",
      "mimetype": "text/x-python",
      "codemirror_mode": {
        "name": "ipython",
        "version": 3
      },
      "pygments_lexer": "ipython3",
      "nbconvert_exporter": "python",
      "file_extension": ".py"
    },
    "kernelspec": {
      "argv": [
        "D:\\Anaconda2\\envs\\qutip-env\\python.exe",
        "-m",
        "ipykernel_launcher",
        "-f",
        "{connection_file}"
      ],
      "display_name": "Python (qutip-env)",
      "language": "python",
      "name": "qutip-env"
    },
    "nteract": {
      "version": "0.22.0"
    }
  },
  "nbformat": 4,
  "nbformat_minor": 0
}