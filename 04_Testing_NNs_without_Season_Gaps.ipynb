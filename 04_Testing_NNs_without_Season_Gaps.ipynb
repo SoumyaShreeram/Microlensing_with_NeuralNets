{
  "nbformat": 4,
  "nbformat_minor": 0,
  "metadata": {
    "colab": {
      "name": "04_Testing_NNs_without_Season_Gaps.ipynb",
      "provenance": [],
      "collapsed_sections": [],
      "machine_shape": "hm",
      "authorship_tag": "ABX9TyOjmwyCmdce0mKV4KYUoHKH",
      "include_colab_link": true
    },
    "kernelspec": {
      "name": "python3",
      "display_name": "Python 3"
    }
  },
  "cells": [
    {
      "cell_type": "markdown",
      "metadata": {
        "id": "view-in-github",
        "colab_type": "text"
      },
      "source": [
        "<a href=\"https://colab.research.google.com/github/SoumyaShreeram/Microlensing_with_NeuralNets/blob/master/04_Testing_NNs_without_Season_Gaps.ipynb\" target=\"_parent\"><img src=\"https://colab.research.google.com/assets/colab-badge.svg\" alt=\"Open In Colab\"/></a>"
      ]
    },
    {
      "cell_type": "markdown",
      "metadata": {
        "id": "Iv0iBoEj6qK3",
        "colab_type": "text"
      },
      "source": [
        "## Testing Neural Networks with microlensing curves <mark/>without Season Gaps</mark>\n",
        "\n",
        "The following notebook tests NNs on microlensed light curves that do not contain season gaps.\n",
        "\n",
        "Author: Soumya Shreeram <br>\n",
        "Script adapted from: Millon Martin & Kevin Müller <br>\n",
        "Date: 23rd February 2020"
      ]
    },
    {
      "cell_type": "markdown",
      "metadata": {
        "id": "deDcrZnEPlzz",
        "colab_type": "text"
      },
      "source": [
        "Import all required python libraries"
      ]
    },
    {
      "cell_type": "code",
      "metadata": {
        "id": "hIOkLVF5WNgW",
        "colab_type": "code",
        "outputId": "aeaeea8e-0e23-4787-a743-327b33c2afee",
        "colab": {
          "base_uri": "https://localhost:8080/",
          "height": 35
        }
      },
      "source": [
        "from google.colab import drive\n",
        "import os\n",
        "import pickle\n",
        "import importlib\n",
        "import itertools\n",
        "\n",
        "import numpy as np\n",
        "import math\n",
        "import matplotlib.pyplot as plt\n",
        "plt.rcParams.update({'font.size': 16})\n",
        "import random\n",
        "import os\n",
        "from IPython.display import Image, SVG\n",
        "\n",
        "from sklearn.model_selection import train_test_split\n",
        "from sklearn.metrics import classification_report\n",
        "from sklearn.metrics import confusion_matrix\n",
        "\n",
        "%tensorflow_version 1.x\n",
        "import tensorflow as tf\n",
        "\n",
        "from tensorflow.keras.models import Model, model_from_json\n",
        "from tensorflow.keras.layers import Input, Activation, InputSpec\n",
        "from tensorflow.python.keras.layers import Conv1D, Conv2D\n",
        "from tensorflow.python.keras.layers import MaxPooling1D, MaxPooling2D, GlobalMaxPooling2D\n",
        "from tensorflow.keras.layers import Dense, Dropout, Flatten, Add, BatchNormalization, Concatenate\n",
        "from tensorflow.keras.optimizers import SGD, Adam\n",
        "from tensorflow.keras.utils import plot_model\n",
        "from tensorflow.keras import backend as K\n",
        "from tensorflow.keras.layers import Layer"
      ],
      "execution_count": 0,
      "outputs": [
        {
          "output_type": "stream",
          "text": [
            "TensorFlow 1.x selected.\n"
          ],
          "name": "stdout"
        }
      ]
    },
    {
      "cell_type": "markdown",
      "metadata": {
        "id": "jDf-kPS_OvVQ",
        "colab_type": "text"
      },
      "source": [
        "Mount google drive"
      ]
    },
    {
      "cell_type": "code",
      "metadata": {
        "id": "V7aoHjFTP2s9",
        "colab_type": "code",
        "outputId": "03bd7676-07ae-45d6-9e83-a5a1e05998a5",
        "colab": {
          "base_uri": "https://localhost:8080/",
          "height": 128
        }
      },
      "source": [
        "drive.mount('/content/gdrive')"
      ],
      "execution_count": 0,
      "outputs": [
        {
          "output_type": "stream",
          "text": [
            "Go to this URL in a browser: https://accounts.google.com/o/oauth2/auth?client_id=947318989803-6bn6qk8qdgf4n4g3pfee6491hc0brc4i.apps.googleusercontent.com&redirect_uri=urn%3aietf%3awg%3aoauth%3a2.0%3aoob&response_type=code&scope=email%20https%3a%2f%2fwww.googleapis.com%2fauth%2fdocs.test%20https%3a%2f%2fwww.googleapis.com%2fauth%2fdrive%20https%3a%2f%2fwww.googleapis.com%2fauth%2fdrive.photos.readonly%20https%3a%2f%2fwww.googleapis.com%2fauth%2fpeopleapi.readonly\n",
            "\n",
            "Enter your authorization code:\n",
            "··········\n",
            "Mounted at /content/gdrive\n"
          ],
          "name": "stdout"
        }
      ]
    },
    {
      "cell_type": "markdown",
      "metadata": {
        "id": "CFu89FBF3rYM",
        "colab_type": "text"
      },
      "source": [
        "Directory where the `python` files are stored on Google Drive. These imported files are also available in `.ipynb` format on the GitHub repo with same names (without the nb; <strike>`dr`</strike>`0X_sameFileName`). nb stands for notebook. "
      ]
    },
    {
      "cell_type": "code",
      "metadata": {
        "id": "aQmHoYFN3sX1",
        "colab_type": "code",
        "colab": {}
      },
      "source": [
        "os.chdir('/content/gdrive/My Drive/Colab Notebooks')\n",
        "\n",
        "import nb_02i_preprocessing_data as dat\n",
        "import nb_03_neural_network_designs as nnet"
      ],
      "execution_count": 0,
      "outputs": []
    },
    {
      "cell_type": "markdown",
      "metadata": {
        "id": "DJbzcl4A8xJQ",
        "colab_type": "text"
      },
      "source": [
        "Setting up the path to the data directory"
      ]
    },
    {
      "cell_type": "code",
      "metadata": {
        "id": "gl3kJxIDwwxH",
        "colab_type": "code",
        "colab": {}
      },
      "source": [
        "current_dir = os.getcwd()\n",
        "data_dir = r'/content/gdrive/My Drive/training_set_microlensing/'\n",
        "save_image_dir = r'/content/gdrive/My Drive/Colab Notebooks/Images/'\n",
        "save_model_dir = r'/content/gdrive/My Drive/Colab Notebooks/Models/'"
      ],
      "execution_count": 0,
      "outputs": []
    },
    {
      "cell_type": "markdown",
      "metadata": {
        "id": "mF4SshagaAw2",
        "colab_type": "text"
      },
      "source": [
        "### 1. Input parameters"
      ]
    },
    {
      "cell_type": "code",
      "metadata": {
        "id": "xYQFOUe7Z-98",
        "colab_type": "code",
        "outputId": "66795846-ff73-4e3c-f2e9-917369ff44df",
        "colab": {
          "base_uri": "https://localhost:8080/",
          "height": 35
        }
      },
      "source": [
        "v_t = [500, 300] # transverse velcity\n",
        "v_t_idx = 0 # choose index value for the velocity you would like (0 or 1)\n",
        "r_0 = (2,4,10,15,20,30,40,60,80,100) # scale radius\n",
        "output_class_names = [str(r) for r in r_0 ]\n",
        "\n",
        "# if with season gaps == True; else False\n",
        "season_gaps = False\n",
        "\n",
        "# reloads the file if any changes are made in the methods\n",
        "importlib.reload(dat)"
      ],
      "execution_count": 15,
      "outputs": [
        {
          "output_type": "execute_result",
          "data": {
            "text/plain": [
              "<module 'nb_02i_preprocessing_data' from '/content/gdrive/My Drive/Colab Notebooks/nb_02i_preprocessing_data.py'>"
            ]
          },
          "metadata": {
            "tags": []
          },
          "execution_count": 15
        }
      ]
    },
    {
      "cell_type": "markdown",
      "metadata": {
        "id": "E9x31ZGmsWsD",
        "colab_type": "text"
      },
      "source": [
        "### 2. Load the data"
      ]
    },
    {
      "cell_type": "markdown",
      "metadata": {
        "id": "f58qKFoTr0TS",
        "colab_type": "text"
      },
      "source": [
        "There are 10 categories into which the light-curves are classified. Each category is represented by the scale radius `r_0`. For every scale radius, there exists a light-curve whose data points are stored in the 3D array `l_curves`."
      ]
    },
    {
      "cell_type": "code",
      "metadata": {
        "id": "EwCb_eMa9AlY",
        "colab_type": "code",
        "colab": {}
      },
      "source": [
        "# sets the sampling parameters\n",
        "importlib.reload(dat)\n",
        "sample_params = dat.setSamplingParameters(v_t[v_t_idx], data_dir, season_gaps)\n",
        "\n",
        "# initializes data arrays\n",
        "class_cat, l_curves, out_catergories, out_radii = dat.initializer(r_0, \\\n",
        "                                                                  sample_params)\n",
        "\n",
        "for idx, rad in enumerate(r_0):\n",
        "  filename = dat.getFilename(data_dir, rad, v_t[v_t_idx], sample_params, season_gaps)\n",
        "  \n",
        "  # load data from the file\n",
        "  l_curves, mjhd,_ = dat.loadData(filename, l_curves, sample_params, idx, season_gaps)\n",
        "  out_catergories[idx*sample_params[0]:(idx+1)*sample_params[0]] = class_cat[1][idx]\n",
        "  out_radii[idx*sample_params[0]:(idx+1)*sample_params[0]] = r_0[idx]"
      ],
      "execution_count": 0,
      "outputs": []
    },
    {
      "cell_type": "code",
      "metadata": {
        "id": "7NMbiX1jAZUQ",
        "colab_type": "code",
        "outputId": "b17bd709-81a0-49b3-e42a-e91726bdc9a6",
        "colab": {
          "base_uri": "https://localhost:8080/",
          "height": 35
        }
      },
      "source": [
        "np.shape(l_curves)"
      ],
      "execution_count": 0,
      "outputs": [
        {
          "output_type": "execute_result",
          "data": {
            "text/plain": [
              "(50000, 4546, 1)"
            ]
          },
          "metadata": {
            "tags": []
          },
          "execution_count": 14
        }
      ]
    },
    {
      "cell_type": "markdown",
      "metadata": {
        "id": "c4tKn20MtLo5",
        "colab_type": "text"
      },
      "source": [
        "#### 2.1 Plots of some random light-curves"
      ]
    },
    {
      "cell_type": "code",
      "metadata": {
        "id": "dbfCcU01tQAf",
        "colab_type": "code",
        "outputId": "82b617c4-9f76-4f77-9728-044dd8618c13",
        "colab": {
          "base_uri": "https://localhost:8080/",
          "height": 296
        }
      },
      "source": [
        "fig, ax = plt.subplots(1, 1, figsize=(8,4))\n",
        "n = [95, 10]\n",
        "# light cureves without interpolation\n",
        "ax.plot(mjhd, l_curves[n[0], :, 0], 'r.', label='Curve %i'%(n[0]))\n",
        "ax.plot(mjhd,l_curves[n[1], :, 0], 'b.', label='Curve %i'%(n[1]))\n",
        "\n",
        "dat.setLabels(ax, 'HJD (days)', 'Magnitude', ticks=True, legend=True)"
      ],
      "execution_count": 17,
      "outputs": [
        {
          "output_type": "display_data",
          "data": {
            "image/png": "[encoded data removed]",
            "text/plain": [
              "<Figure size 576x288 with 1 Axes>"
            ]
          },
          "metadata": {
            "tags": [],
            "needs_background": "light"
          }
        }
      ]
    },
    {
      "cell_type": "markdown",
      "metadata": {
        "id": "n_QsEWkm-3xj",
        "colab_type": "text"
      },
      "source": [
        "### 3. Generate training and testing data sets"
      ]
    },
    {
      "cell_type": "code",
      "metadata": {
        "id": "xT004oTHEMmb",
        "colab_type": "code",
        "colab": {}
      },
      "source": [
        "train_l_curves, test_l_curves, data_sets, onehot_train, \\\n",
        "onehot_test = dat.generateTestTrain(l_curves, out_catergories, out_radii, r_0)"
      ],
      "execution_count": 0,
      "outputs": []
    },
    {
      "cell_type": "markdown",
      "metadata": {
        "id": "6Okkl7tfzhu4",
        "colab_type": "text"
      },
      "source": [
        "### 4. Compiling the 3 networks\n",
        "\n",
        "The three networks compiled here are coded in `04_Neural_Network_Designs.ipynb` that have been saved as `dr04_Neural_Network_Designs.py`, for ease of importing it. The python files can be found in the GitHub repo folder *python files*. \n",
        "\n",
        "Note that if you are running this from colab, need to have these `.py` files in your drive folder *Colab Notebooks*. "
      ]
    },
    {
      "cell_type": "markdown",
      "metadata": {
        "id": "nHoEfwH5C3eE",
        "colab_type": "text"
      },
      "source": [
        "Default constants that can be modified."
      ]
    },
    {
      "cell_type": "code",
      "metadata": {
        "id": "VqVXaRDVC0uB",
        "colab_type": "code",
        "outputId": "e4eedd32-8366-41b1-c793-3c46e605407b",
        "colab": {
          "base_uri": "https://localhost:8080/",
          "height": 35
        }
      },
      "source": [
        "# choose which network to use (default CNN2)\n",
        "CNN1, CNN2, ResNet = False, True, False\n",
        "\n",
        "model_types = [CNN1, CNN2, ResNet]\n",
        "model_name_list = ['CNN1','CNN2','ResNet']\n",
        "\n",
        "for i in range(len(model_name_list)):\n",
        "  if model_types[i]:\n",
        "    model_name = model_name_list[i]\n",
        "print('Using the Neural Network:', model_name)"
      ],
      "execution_count": 20,
      "outputs": [
        {
          "output_type": "stream",
          "text": [
            "Using the Neural Network: CNN2\n"
          ],
          "name": "stdout"
        }
      ]
    },
    {
      "cell_type": "markdown",
      "metadata": {
        "id": "TGINq-rrVXgU",
        "colab_type": "text"
      },
      "source": [
        "The following code block uses the methods defined in the file `dr04_Neural_Network_Designs.py`: imported as **`nnet`**\n",
        "\n",
        "Model parameters are defined in the methods in **`nnet`** additionally some more details:\n",
        "* `num_hidden_nodes`: number of nodes in hidden fully connected layer\n",
        "*`dropout_ratio`: % of nodes in the hidden layer to dropout during back-propagation update of the network weights"
      ]
    },
    {
      "cell_type": "markdown",
      "metadata": {
        "id": "zg4jZomdnLWf",
        "colab_type": "text"
      },
      "source": [
        "#### 4.1 Compiling CNN2"
      ]
    },
    {
      "cell_type": "code",
      "metadata": {
        "id": "KMuhDzuAziUB",
        "colab_type": "code",
        "colab": {
          "base_uri": "https://localhost:8080/",
          "height": 837
        },
        "outputId": "fc3d5c41-f075-41d4-cd61-1cb2ed015909"
      },
      "source": [
        "if CNN2:\n",
        "  # reloads the file if any changes are made\n",
        "  importlib.reload(nnet)\n",
        "\n",
        "  \"\"\"--- CNN2 Model Parameters ---\"\"\"\n",
        "  num_filter = (32, 32, 44, 44)\n",
        "  kern_size = (21,21,15,15)\n",
        "  maxpoolsize = (None, 15, None, 15)\n",
        "  shortcut_link = (0,1,2,3)\n",
        "  batch_norm = False\n",
        "  num_hidden_nodes = [1500]\n",
        "  dropout_ratio = 0.4  \n",
        "  sampling = 3\n",
        "  num_pieces = 1\n",
        "  \n",
        "  # prepare the data\n",
        "  data_prep = nnet.prepareDataSampleCuts(test_l_curves, sampling, num_pieces)\n",
        "\n",
        "  # build the model\n",
        "  inputs, outputs = nnet.buildModelCNN2(sample_params[2], num_filter, kern_size, \\\n",
        "                                        maxpoolsize, num_hidden_nodes,\\\n",
        "                                        dropout_ratio, shortcut_link, batch_norm, \\\n",
        "                                        data_prep.shape[1], r_0)\n",
        "\n",
        "  # compile the model\n",
        "  # optimisation algorithm, loss (cost) function\n",
        "  optimizer_type = Adam(lr=5e-4)  \n",
        "  loss = 'categorical_crossentropy'  \n",
        "  #accuracy metric to be determined after each epoch \n",
        "  metrics = ['categorical_accuracy'] \n",
        "\n",
        "  model = nnet.compileDisplayNetwork(inputs, outputs, optimizer_type, loss, \\\n",
        "                                    metrics, save_image_dir+'CNN2', True)\n",
        "\n",
        "  print('Network created')"
      ],
      "execution_count": 22,
      "outputs": [
        {
          "output_type": "stream",
          "text": [
            "(1516,)\n",
            "WARNING:tensorflow:From /tensorflow-1.15.2/python3.6/tensorflow_core/python/ops/resource_variable_ops.py:1630: calling BaseResourceVariable.__init__ (from tensorflow.python.ops.resource_variable_ops) with constraint is deprecated and will be removed in a future version.\n",
            "Instructions for updating:\n",
            "If using Keras pass *_constraint arguments to layers.\n",
            "WARNING:tensorflow:From /tensorflow-1.15.2/python3.6/tensorflow_core/python/keras/backend.py:4277: where (from tensorflow.python.ops.array_ops) is deprecated and will be removed in a future version.\n",
            "Instructions for updating:\n",
            "Use tf.where in 2.0, which has the same broadcast rule as np.where\n",
            "WARNING:tensorflow:Entity <bound method GlobalMaxPoolingSp2D.call of <nb_03_neural_network_designs.GlobalMaxPoolingSp2D object at 0x7f3a44eef4e0>> could not be transformed and will be executed as-is. Please report this to the AutoGraph team. When filing the bug, set the verbosity to 10 (on Linux, `export AUTOGRAPH_VERBOSITY=10`) and attach the full output. Cause: Bad argument number for Name: 3, expecting 4\n",
            "WARNING: Entity <bound method GlobalMaxPoolingSp2D.call of <nb_03_neural_network_designs.GlobalMaxPoolingSp2D object at 0x7f3a44eef4e0>> could not be transformed and will be executed as-is. Please report this to the AutoGraph team. When filing the bug, set the verbosity to 10 (on Linux, `export AUTOGRAPH_VERBOSITY=10`) and attach the full output. Cause: Bad argument number for Name: 3, expecting 4\n",
            "Model: \"model\"\n",
            "__________________________________________________________________________________________________\n",
            "Layer (type)                    Output Shape         Param #     Connected to                     \n",
            "==================================================================================================\n",
            "input_1 (InputLayer)            [(None, 1515, None,  0                                            \n",
            "__________________________________________________________________________________________________\n",
            "conv2d_3 (Conv2D)               (None, 1515, None, 4 704         input_1[0][0]                    \n",
            "__________________________________________________________________________________________________\n",
            "activation_6 (Activation)       (None, 1515, None, 4 0           conv2d_3[0][0]                   \n",
            "__________________________________________________________________________________________________\n",
            "activation_7 (Activation)       (None, 1515, None, 4 0           activation_6[0][0]               \n",
            "__________________________________________________________________________________________________\n",
            "concatenate_1 (Concatenate)     (None, 1515, None, 4 0           activation_7[0][0]               \n",
            "                                                                 input_1[0][0]                    \n",
            "__________________________________________________________________________________________________\n",
            "max_pooling2d_1 (MaxPooling2D)  (None, 101, None, 45 0           concatenate_1[0][0]              \n",
            "__________________________________________________________________________________________________\n",
            "global_max_pooling_sp2d (Global (None, 101, 45)      0           max_pooling2d_1[0][0]            \n",
            "__________________________________________________________________________________________________\n",
            "flatten (Flatten)               (None, 4545)         0           global_max_pooling_sp2d[0][0]    \n",
            "__________________________________________________________________________________________________\n",
            "dense (Dense)                   (None, 1500)         6819000     flatten[0][0]                    \n",
            "__________________________________________________________________________________________________\n",
            "dropout (Dropout)               (None, 1500)         0           dense[0][0]                      \n",
            "__________________________________________________________________________________________________\n",
            "dense_1 (Dense)                 (None, 10)           15010       dropout[0][0]                    \n",
            "__________________________________________________________________________________________________\n",
            "activation_9 (Activation)       (None, 10)           0           dense_1[0][0]                    \n",
            "==================================================================================================\n",
            "Total params: 6,834,714\n",
            "Trainable params: 6,834,714\n",
            "Non-trainable params: 0\n",
            "__________________________________________________________________________________________________\n",
            "None\n",
            "Network created\n"
          ],
          "name": "stdout"
        }
      ]
    },
    {
      "cell_type": "markdown",
      "metadata": {
        "id": "e7tQbQzznRy3",
        "colab_type": "text"
      },
      "source": [
        "#### 4.2 Compiling ResNet"
      ]
    },
    {
      "cell_type": "code",
      "metadata": {
        "id": "-sC8EiXgzTFy",
        "colab_type": "code",
        "colab": {}
      },
      "source": [
        "if ResNet:\n",
        "  # reloads the file if any changes are made\n",
        "  importlib.reload(nnet)\n",
        "\n",
        "  \"\"\"--- ResNet Model Parameters ---\"\"\"\n",
        "  num_filter = (32, 32, 32)\n",
        "  kern_size = (10,20,50)\n",
        "  n_block = 5\n",
        "  maxpoolsize = 3\n",
        "  num_hidden_nodes =[1000.0,]\n",
        "  dropout_ratio = 0.4 \n",
        "  batch_norm = True\n",
        "  #If they are not 1, this network is not correctly defined.\n",
        "  sampling = 1\n",
        "  num_pieces = 1\n",
        "\n",
        "  # build network\n",
        "  inputs, outputs = nnet.defineResnet(sample_params[2], num_filter, \\\n",
        "                                           kern_size, n_block,maxpoolsize,\\\n",
        "                                           num_hidden_nodes, dropout_ratio, r_0,\\\n",
        "                                           batch_norm = batch_norm)\n",
        "  \n",
        "  learning_rate = 1e-4\n",
        "  decay_rate = 0.0\n",
        "  optimizer_type = Adam(lr=learning_rate, decay = decay_rate)  \n",
        "  loss = 'categorical_crossentropy'  \n",
        "  metrics = ['categorical_accuracy'] \n",
        "\n",
        "  model = nnet.compileDisplayNetwork(inputs, outputs, optimizer_type, loss, \\\n",
        "                                     metrics,save_image_dir+'ResNet', True)\n",
        "  \n",
        "  #model.load_weights('/content/gdrive/My Drive/Colab_Notebooks/Deep_learning_for_optical_IMaging/Resnet_weights.h5')\n",
        "\n",
        "  print('Network created')"
      ],
      "execution_count": 0,
      "outputs": []
    },
    {
      "cell_type": "markdown",
      "metadata": {
        "id": "-x_2o3VOUtE2",
        "colab_type": "text"
      },
      "source": [
        "### 5. Training the network\n",
        "\n",
        "Constants used for training the network"
      ]
    },
    {
      "cell_type": "code",
      "metadata": {
        "id": "4im8AyzDU_YC",
        "colab_type": "code",
        "colab": {}
      },
      "source": [
        "validtrain_split_ratio = 0.2  # % of the seen dataset to be put aside for validation, rest is for training\n",
        "max_epochs = 30  # maxmimum number of epochs to be iterated\n",
        "batch_size = 60   # batch size for the training data set\n",
        "num_inputs = 1"
      ],
      "execution_count": 0,
      "outputs": []
    },
    {
      "cell_type": "code",
      "metadata": {
        "id": "gXnVZJPHksoi",
        "colab_type": "code",
        "outputId": "3d48313f-df3d-4657-8079-6cb4fefd3a07",
        "colab": {
          "base_uri": "https://localhost:8080/",
          "height": 599
        }
      },
      "source": [
        "if sampling == 1 and num_pieces == 1:\n",
        "  model, history = nnet.fit_model_generator(model, train_l_curves, onehot_train, \\\n",
        "                    num_inputs = num_inputs, batch_size = batch_size, \\\n",
        "                    epochs = max_epochs, validation_split = validtrain_split_ratio, \\\n",
        "                    verbose = 1)\n",
        "else:\n",
        "  data_prep = nnet.prepareDataSampleCuts(train_l_curves, sampling, num_pieces)\n",
        "\n",
        "  model, history = nnet.fit_model_generator(model, data_prep, onehot_train, \\\n",
        "                    num_inputs = num_inputs, batch_size = batch_size, \\\n",
        "                    epochs = max_epochs, validation_split = validtrain_split_ratio, \\\n",
        "                    verbose = 1)\n",
        "  \n",
        "print('Training completed')"
      ],
      "execution_count": 0,
      "outputs": [
        {
          "output_type": "stream",
          "text": [
            "(1516,)\n",
            "Train on 32000 samples, validate on 8000 samples\n",
            "Epoch 1/30\n",
            "32000/32000 [==============================] - 65s 2ms/sample - loss: 2.4610 - categorical_accuracy: 0.0990 - val_loss: 2.3287 - val_categorical_accuracy: 0.1051\n",
            "Epoch 2/30\n",
            "32000/32000 [==============================] - 64s 2ms/sample - loss: 2.3384 - categorical_accuracy: 0.1075 - val_loss: 2.3020 - val_categorical_accuracy: 0.1054\n",
            "Epoch 3/30\n",
            "32000/32000 [==============================] - 64s 2ms/sample - loss: 2.3031 - categorical_accuracy: 0.1076 - val_loss: 2.2968 - val_categorical_accuracy: 0.1082\n",
            "Epoch 4/30\n",
            "32000/32000 [==============================] - 65s 2ms/sample - loss: 2.2975 - categorical_accuracy: 0.1080 - val_loss: 2.2940 - val_categorical_accuracy: 0.1067\n",
            "Epoch 5/30\n",
            "32000/32000 [==============================] - 64s 2ms/sample - loss: 2.2929 - categorical_accuracy: 0.1137 - val_loss: 2.2909 - val_categorical_accuracy: 0.1103\n",
            "Epoch 6/30\n",
            "32000/32000 [==============================] - 64s 2ms/sample - loss: 2.2884 - categorical_accuracy: 0.1152 - val_loss: 2.2861 - val_categorical_accuracy: 0.1157\n",
            "Epoch 7/30\n",
            "32000/32000 [==============================] - 67s 2ms/sample - loss: 2.2848 - categorical_accuracy: 0.1169 - val_loss: 2.2844 - val_categorical_accuracy: 0.1126\n",
            "Epoch 8/30\n",
            "32000/32000 [==============================] - 65s 2ms/sample - loss: 2.2809 - categorical_accuracy: 0.1177 - val_loss: 2.2780 - val_categorical_accuracy: 0.1173\n",
            "Epoch 9/30\n",
            "32000/32000 [==============================] - 65s 2ms/sample - loss: 2.2765 - categorical_accuracy: 0.1198 - val_loss: 2.2712 - val_categorical_accuracy: 0.1184\n",
            "Epoch 10/30\n",
            "32000/32000 [==============================] - 65s 2ms/sample - loss: 2.2727 - categorical_accuracy: 0.1209 - val_loss: 2.2688 - val_categorical_accuracy: 0.1215\n",
            "Epoch 11/30\n",
            "32000/32000 [==============================] - 64s 2ms/sample - loss: 2.2686 - categorical_accuracy: 0.1239 - val_loss: 2.2650 - val_categorical_accuracy: 0.1226\n",
            "Epoch 12/30\n",
            "32000/32000 [==============================] - 64s 2ms/sample - loss: 2.2637 - categorical_accuracy: 0.1277 - val_loss: 2.2642 - val_categorical_accuracy: 0.1224\n",
            "Epoch 13/30\n",
            "32000/32000 [==============================] - 64s 2ms/sample - loss: 2.2621 - categorical_accuracy: 0.1260 - val_loss: 2.2651 - val_categorical_accuracy: 0.1209\n",
            "Epoch 14/30\n",
            "32000/32000 [==============================] - 64s 2ms/sample - loss: 2.2611 - categorical_accuracy: 0.1247 - val_loss: 2.2626 - val_categorical_accuracy: 0.1235\n",
            "Epoch 15/30\n",
            " 2520/32000 [=>............................] - ETA: 54s - loss: 2.2653 - categorical_accuracy: 0.1302"
          ],
          "name": "stdout"
        }
      ]
    },
    {
      "cell_type": "code",
      "metadata": {
        "id": "mT-IxkOe-QjL",
        "colab_type": "code",
        "colab": {}
      },
      "source": [
        "# plots the history\n",
        "fig, ax = plt.subplots(1,2, figsize=(14,6))\n",
        "labels = ['training', 'validation']\n",
        "loss_Accuracy = ['loss', 'val_loss', 'categorical_accuracy', 'val_categorical_accuracy']\n",
        "\n",
        "model_history = history.history\n",
        "dat.plotLoss(ax[0], model_history, loss_Accuracy, model_name, labels)\n",
        "dat.plotAccuracy(ax[1], model_history, loss_Accuracy, model_name, labels)\n",
        " \n",
        "fig.savefig(save_image_dir+'/LandA_%s_epochs_%d.png'%(model_name, max_epochs))    \n",
        "fig.tight_layout()"
      ],
      "execution_count": 0,
      "outputs": []
    },
    {
      "cell_type": "markdown",
      "metadata": {
        "id": "Qr-jbZX8u_bV",
        "colab_type": "text"
      },
      "source": [
        "### 6. Displaying the classification report, confusion matrix"
      ]
    },
    {
      "cell_type": "code",
      "metadata": {
        "id": "6Z-OxLmpv_KC",
        "colab_type": "code",
        "colab": {}
      },
      "source": [
        "num_inputs = 1\n",
        "importlib.reload(nnet)\n",
        "\n",
        "# prepare data with sample cuts and evaluate residuals\n",
        "data_prep = nnet.prepareDataSampleCuts(test_l_curves, sampling, num_pieces)\n",
        "evaluate_res = nnet.evaluate_model(model, test_l_curves, onehot_test, \\\n",
        "                                num_inputs = num_inputs, verbose = 1)\n",
        "print(evaluate_res[1])\n",
        "\n",
        "output_predict_onehot, output_ref_onehot = nnet.predict_model(model, test_l_curves, \\\n",
        "                                                              onehot_test, \\\n",
        "                                                              num_inputs = num_inputs, \\\n",
        "                                                              verbose = 1)\n",
        "output_predict_c = np.argmax(output_predict_onehot, axis=1)\n",
        "output_ref_c = np.argmax(output_ref_onehot, axis=1)\n",
        "\n",
        "print('Test set classification report:\\n')\n",
        "print(classification_report(output_ref_c, output_predict_c,  \\\n",
        "                            target_names=output_class_names))"
      ],
      "execution_count": 0,
      "outputs": []
    },
    {
      "cell_type": "code",
      "metadata": {
        "id": "tYbr9Vpsv0Zu",
        "colab_type": "code",
        "colab": {}
      },
      "source": [
        "# need this to avoid callback errors\n",
        "from sklearn.metrics import confusion_matrix\n",
        "importlib.reload(dat)\n",
        "\n",
        "# generate confusion matrix\n",
        "cfm = confusion_matrix(output_ref_c, output_predict_c)  \n",
        "\n",
        "# row normalisation of confusion matrix\n",
        "cfm_probability = cfm.astype('float')/cfm.sum(axis=1)[:, np.newaxis]  \n",
        "# confusion probability matrix\n",
        "cfm_probability = cfm_probability * 100.0  \n",
        "\n",
        "fig, ax = plt.subplots(1,1, figsize=(10,10))\n",
        "dat.plotConfusionMatrix(ax, cfm_probability, output_class_names)\n",
        "\n",
        "# save figure\n",
        "fig.savefig(save_image_dir+'/cfm_%s_epochs_%d.png'%(model_name, max_epochs))    \n",
        "fig.tight_layout()"
      ],
      "execution_count": 0,
      "outputs": []
    }
  ]
}