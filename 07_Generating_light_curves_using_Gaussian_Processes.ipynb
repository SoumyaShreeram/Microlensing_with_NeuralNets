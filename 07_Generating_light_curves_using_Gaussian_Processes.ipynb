{
  "nbformat": 4,
  "nbformat_minor": 0,
  "metadata": {
    "colab": {
      "name": "07_Generating_light_curves_using_Gaussian_Processes.ipynb",
      "provenance": [],
      "collapsed_sections": [],
      "machine_shape": "hm",
      "authorship_tag": "ABX9TyM6S9ho6Mh4Z+Zsvx2m0yzR",
      "include_colab_link": true
    },
    "kernelspec": {
      "name": "python3",
      "display_name": "Python 3"
    }
  },
  "cells": [
    {
      "cell_type": "markdown",
      "metadata": {
        "id": "view-in-github",
        "colab_type": "text"
      },
      "source": [
        "<a href=\"https://colab.research.google.com/github/SoumyaShreeram/Microlensing_with_NeuralNets/blob/master/07_Generating_light_curves_using_Gaussian_Processes.ipynb\" target=\"_parent\"><img src=\"https://colab.research.google.com/assets/colab-badge.svg\" alt=\"Open In Colab\"/></a>"
      ]
    },
    {
      "cell_type": "markdown",
      "metadata": {
        "id": "Iv0iBoEj6qK3",
        "colab_type": "text"
      },
      "source": [
        "# Testing Neural Networks using Gaussian Processes\n",
        "\n",
        "Author: Soumya Shreeram <br>\n",
        "Date: 15th May 2020"
      ]
    },
    {
      "cell_type": "markdown",
      "metadata": {
        "id": "deDcrZnEPlzz",
        "colab_type": "text"
      },
      "source": [
        "Import all required python libraries"
      ]
    },
    {
      "cell_type": "code",
      "metadata": {
        "id": "hIOkLVF5WNgW",
        "colab_type": "code",
        "outputId": "af242190-d82b-4ac5-c931-1c21712c96d8",
        "colab": {
          "base_uri": "https://localhost:8080/",
          "height": 34
        }
      },
      "source": [
        "from google.colab import drive\n",
        "import os, sys\n",
        "from time import sleep\n",
        "import pickle\n",
        "import importlib\n",
        "import itertools\n",
        "\n",
        "import numpy as np\n",
        "import matplotlib.pyplot as plt\n",
        "plt.rcParams.update({'font.size': 16})\n",
        "import random\n",
        "import os\n",
        "from IPython.display import Image, SVG\n",
        "from scipy.interpolate import interp1d \n",
        "\n",
        "from sklearn.model_selection import train_test_split\n",
        "from sklearn.metrics import classification_report\n",
        "from sklearn.metrics import confusion_matrix\n",
        "import sklearn.gaussian_process as gp\n",
        "from sklearn.gaussian_process.kernels import RBF, Matern, WhiteKernel, RationalQuadratic\n",
        "from sklearn.gaussian_process.kernels import ConstantKernel\n",
        "\n",
        "%tensorflow_version 1.x\n",
        "import tensorflow as tf\n",
        "\n",
        "from tensorflow.keras.models import Model, Sequential\n",
        "from tensorflow.keras.layers import Input, Activation, InputSpec\n",
        "from tensorflow.python.keras.layers import Conv1D, Conv2D\n",
        "from tensorflow.python.keras.layers import MaxPooling1D, MaxPooling2D, GlobalMaxPooling2D\n",
        "from tensorflow.keras.layers import Dense, Dropout, Flatten, Add, BatchNormalization, Concatenate\n",
        "from tensorflow.keras.optimizers import SGD, Adam\n",
        "from tensorflow.keras.utils import plot_model\n",
        "from tensorflow.keras import backend as K\n",
        "from tensorflow.keras.layers import Layer"
      ],
      "execution_count": 2,
      "outputs": [
        {
          "output_type": "stream",
          "text": [
            "TensorFlow 1.x selected.\n"
          ],
          "name": "stdout"
        }
      ]
    },
    {
      "cell_type": "markdown",
      "metadata": {
        "id": "jDf-kPS_OvVQ",
        "colab_type": "text"
      },
      "source": [
        "Mount google drive"
      ]
    },
    {
      "cell_type": "code",
      "metadata": {
        "id": "V7aoHjFTP2s9",
        "colab_type": "code",
        "outputId": "b1a67d19-34a8-47b8-b740-aafc16bbdd88",
        "colab": {
          "base_uri": "https://localhost:8080/",
          "height": 122
        }
      },
      "source": [
        "drive.mount('/content/gdrive')"
      ],
      "execution_count": 3,
      "outputs": [
        {
          "output_type": "stream",
          "text": [
            "Go to this URL in a browser: https://accounts.google.com/o/oauth2/auth?client_id=947318989803-6bn6qk8qdgf4n4g3pfee6491hc0brc4i.apps.googleusercontent.com&redirect_uri=urn%3aietf%3awg%3aoauth%3a2.0%3aoob&response_type=code&scope=email%20https%3a%2f%2fwww.googleapis.com%2fauth%2fdocs.test%20https%3a%2f%2fwww.googleapis.com%2fauth%2fdrive%20https%3a%2f%2fwww.googleapis.com%2fauth%2fdrive.photos.readonly%20https%3a%2f%2fwww.googleapis.com%2fauth%2fpeopleapi.readonly\n",
            "\n",
            "Enter your authorization code:\n",
            "··········\n",
            "Mounted at /content/gdrive\n"
          ],
          "name": "stdout"
        }
      ]
    },
    {
      "cell_type": "markdown",
      "metadata": {
        "id": "CFu89FBF3rYM",
        "colab_type": "text"
      },
      "source": [
        "Directory where the `python` files are stored on Google Drive. These imported files are also available in `.ipynb` format on the GitHub repo with same names (without the dr; <strike>`dr`</strike>`0X_sameFileName`). dr stands for drive. "
      ]
    },
    {
      "cell_type": "code",
      "metadata": {
        "id": "aQmHoYFN3sX1",
        "colab_type": "code",
        "colab": {}
      },
      "source": [
        "os.chdir('/content/gdrive/My Drive/Colab Notebooks')\n",
        "\n",
        "import nb_02i_preprocessing_data as dat\n",
        "import nb_03_neural_network_designs as nnet"
      ],
      "execution_count": 0,
      "outputs": []
    },
    {
      "cell_type": "markdown",
      "metadata": {
        "id": "DJbzcl4A8xJQ",
        "colab_type": "text"
      },
      "source": [
        "Setting up the path to the data directory"
      ]
    },
    {
      "cell_type": "code",
      "metadata": {
        "id": "gl3kJxIDwwxH",
        "colab_type": "code",
        "colab": {}
      },
      "source": [
        "current_dir = os.getcwd()\n",
        "data_dir = r'/content/gdrive/My Drive/training_set_microlensing/'\n",
        "save_image_dir = r'/content/gdrive/My Drive/Colab Notebooks/Images/'\n",
        "save_model_dir = r'/content/gdrive/My Drive/Colab Notebooks/Models/'\n",
        "save_data_dir = r'/content/gdrive/My Drive/Colab Notebooks/Data/'"
      ],
      "execution_count": 0,
      "outputs": []
    },
    {
      "cell_type": "markdown",
      "metadata": {
        "id": "mF4SshagaAw2",
        "colab_type": "text"
      },
      "source": [
        "## 1. Input parameters"
      ]
    },
    {
      "cell_type": "code",
      "metadata": {
        "id": "xYQFOUe7Z-98",
        "colab_type": "code",
        "colab": {}
      },
      "source": [
        "v_t = [500, 300] # transverse velcity\n",
        "v_t_idx = 0 # choose index value for the velocity you would like (0 or 1)\n",
        "r_0 = (2,4,10,15,20,30,40,60,80,100) # scale radius\n",
        "output_class_names = [str(r) for r in r_0 ]\n",
        "\n",
        "# select type of Interpolation\n",
        "cubic, linear = False, True\n",
        "\n",
        "# data loaded with season gaps\n",
        "season_gaps = True\n",
        "\n",
        "# if using the new data set generated by Eric (v_500_new, v_500_gaps_new)\n",
        "new_data_set = True\n",
        "\n",
        "# generates new interpolated light curves? OR Use previously saved light curves?\n",
        "generate_new_files, use_saved_file = True, False"
      ],
      "execution_count": 0,
      "outputs": []
    },
    {
      "cell_type": "markdown",
      "metadata": {
        "id": "E9x31ZGmsWsD",
        "colab_type": "text"
      },
      "source": [
        "## 2. Load the data"
      ]
    },
    {
      "cell_type": "markdown",
      "metadata": {
        "id": "f58qKFoTr0TS",
        "colab_type": "text"
      },
      "source": [
        "There are 10 categories into which the light-curves are classified. Each category is represented by the scale radius `r_0`. For every scale radius, there exists a light-curve whose data points are stored in the 3D array `l_curves`."
      ]
    },
    {
      "cell_type": "code",
      "metadata": {
        "id": "EwCb_eMa9AlY",
        "colab_type": "code",
        "outputId": "6d738659-a3f6-4900-ff5e-faf0c6b48a87",
        "colab": {
          "base_uri": "https://localhost:8080/",
          "height": 34
        }
      },
      "source": [
        "# sets the sampling parameters\n",
        "sample_params = dat.setSamplingParameters(v_t[v_t_idx], data_dir, season_gaps)\n",
        "\n",
        "# initializes data arrays\n",
        "class_cat, l_curves, out_catergories, out_radii = dat.initializer(r_0, \\\n",
        "                                                                  sample_params)\n",
        "\n",
        "for idx, rad in enumerate(r_0):\n",
        "  filename = dat.getFilename(data_dir, idx, rad, v_t[v_t_idx], sample_params, \\\n",
        "                             season_gaps, new_data_set)\n",
        "  \n",
        "  # load data from the file\n",
        "  l_curves, _, _ = dat.loadData(filename, idx, l_curves, sample_params, idx,\\\n",
        "                                  season_gaps, new_data_set)\n",
        "  out_catergories[idx*sample_params[0][idx]:(idx+1)*sample_params[0][idx]] = class_cat[1][idx]\n",
        "  out_radii[idx*sample_params[0][idx]:(idx+1)*sample_params[0][idx]] = r_0[idx]\n",
        "\n",
        "print('Shape of light curves vector:', np.shape(l_curves))"
      ],
      "execution_count": 7,
      "outputs": [
        {
          "output_type": "stream",
          "text": [
            "Shape of light curves vector: (50000, 955, 1)\n"
          ],
          "name": "stdout"
        }
      ]
    },
    {
      "cell_type": "code",
      "metadata": {
        "id": "JPX2BPsI_fAC",
        "colab_type": "code",
        "colab": {}
      },
      "source": [
        "# load time array, and error of light curves array from 1 sample file for J0158\n",
        "mjhd = np.load(data_dir+'Light_Curves/mjhd.npy')\n",
        "l_curves_err = np.load(data_dir+'Light_Curves/lcurves_error.npy')"
      ],
      "execution_count": 0,
      "outputs": []
    },
    {
      "cell_type": "markdown",
      "metadata": {
        "id": "SGSowb2c0jXT",
        "colab_type": "text"
      },
      "source": [
        "Loads the ligths arrays (if not generated again)"
      ]
    },
    {
      "cell_type": "markdown",
      "metadata": {
        "id": "RktEbVudjmRi",
        "colab_type": "text"
      },
      "source": [
        "## 3. Implementing Gaussian Processes\n",
        "### 3.1 Setting up the Kernel for Gaussian Processor \n",
        "\n",
        "The *prior function*, $y$, is specified by the mean, $m(x_i)$, and corvariance function, $k(x_i, x_j)$. Additionally, idependent and identically distributed (iid) Gaussian noise can be added to the prior function; this is specified by the signal variance,  $\\sigma^2$. Overall, the labels for the gaussian processor are defined as:\n",
        "\n",
        "$$y \\sim GP(m(x_i), k(x_i, x_j) + \\delta_{ij} \\sigma^2)$$\n",
        "\n",
        "The form of $m(x_i)$ and $k(x_i, x_j)$ is chosen during model selection. There are different types of kernels (or covariance functions) that are used here:\n",
        "\n",
        "1. [**Constant kernel**](https://scikit-learn.org/stable/modules/generated/sklearn.gaussian_process.kernels.ConstantKernel.html): It is used as part of a product-kernel where it scales the magnitude of the other factor (kernel) or as part of a sum-kernel, where it modifies the mean of the Gaussian process.\n",
        "2. [**Radial-basis function kernel**](https://scikit-learn.org/stable/modules/generated/sklearn.gaussian_process.kernels.RBF.html#sklearn.gaussian_process.kernels.RBF) (**RBF**; aka squared-exponential kernel): It is parameterized by a length scale parameter, $l>0$, and is given as:\n",
        "$$k(x_i, x_j) = exp\\Big(- \\frac{d(x_i, x_j)^2}{2l^2}\\Big),$$\n",
        "where $d(x_i, x_j)$ is the Euclidean distance.\n",
        "3. [**Matérn kernel**](https://scikit-learn.org/stable/modules/generated/sklearn.gaussian_process.kernels.Matern.html#sklearn.gaussian_process.kernels.Matern): It is a generalization of the RBF kernel and it has an additional parameter, $\\nu$,  which controls the smoothness of the resulting function. As $\\nu \\rightarrow \\inf$, this kernel becomes RBF. \n",
        "4. [**Rational Quadratic kernel**](https://scikit-learn.org/stable/modules/generated/sklearn.gaussian_process.kernels.RationalQuadratic.html#sklearn.gaussian_process.kernels.RationalQuadratic): The RationalQuadratic kernel can be seen as a scale mixture (an infinite sum) of RBF kernels with different characteristic length scales. It is parameterized by a length scale parameter $l>0$  and a scale mixture parameter $\\alpha > 0$. The kernel is given by:\n",
        "$$k(x_i, x_j) = \\Bigg[1+ exp\\Big(- \\frac{d(x_i, x_j)^2}{2\\alpha l^2}\\Big)\\Bigg]^{-\\alpha}.$$\n",
        "5. [**White kernel**](https://scikit-learn.org/stable/modules/generated/sklearn.gaussian_process.kernels.WhiteKernel.html): The main use-case of this kernel is as part of a sum-kernel where it explains the noise of the signal as independently and identically normally-distributed. The parameter noise_level equals the variance of this noise.\n",
        "\n",
        "\n",
        "\n",
        "The three different types of kernels tested here are with the corresponding keywords are the following:\n",
        "1. '*matern*': Constant kernel + Matérn kernel + White Kernel\n",
        "2. '*RBF*': Constant kernel + RBF kernel + White Kernel\n",
        "3. '*RationalQuadratic*': Constant kernel + Rational Quadratic kernel + White Kernel\n"
      ]
    },
    {
      "cell_type": "code",
      "metadata": {
        "id": "oKGPH9DBye4I",
        "colab_type": "code",
        "colab": {}
      },
      "source": [
        "# smoothness parameter of the matérn kernel\n",
        "nu = 1.5\n",
        "amplitude = 2.0\n",
        "\n",
        "# scale mixture parameter\n",
        "alpha = 1.5\n",
        "\n",
        "# length-scale parameter\n",
        "length_scale = 200.0\n",
        "\n",
        "# white noise level parameter\n",
        "noise_level = 5.0\n",
        "\n",
        "kernel_types = [\"matern\", \"RBF\", \"rational_quadratic\"]\n",
        "# choose a kernel from kernel_types\n",
        "covkernel = kernel_types[0]"
      ],
      "execution_count": 0,
      "outputs": []
    },
    {
      "cell_type": "code",
      "metadata": {
        "id": "NMRsoUTwjNsB",
        "colab_type": "code",
        "colab": {}
      },
      "source": [
        "def defineKernel(length_scale, nu, alpha, amplitude, covkernel):\n",
        "  \"\"\"\n",
        "  Function to define the kernel\n",
        "  @length_scale:: length-scale parameter in the kernel\n",
        "  @nu:: smoothness parameter for the matérn kernel\n",
        "  @alpha:: the scale mixture parameter\n",
        "  @amplitude:: multiplicative factor for the kernels\n",
        "  @covkernel :: keyword specifying the choise of kernel\n",
        "\n",
        "  Returns\n",
        "  @kernel\n",
        "  \"\"\"\n",
        "  background_kernel = ConstantKernel() + WhiteKernel(noise_level=noise_level)\n",
        "\n",
        "  if covkernel == \"matern\":\n",
        "    kernel =  amplitude*Matern(length_scale=length_scale, nu=nu)\n",
        "  elif covkernel ==\"RBF\": \n",
        "    kernel =  amplitude*RBF(length_scale=length_scale)\n",
        "  elif covkernel == \"rational_quadratic\":\n",
        "    kernel = amplitude*RationalQuadratic(length_scale=length_scale, alpha=alpha)\n",
        "  return kernel+background_kernel\n",
        "\n",
        "def gprOnSingleLCurve(idx, l_curves, mjhd, l_curves_err, kernel, noise_level):\n",
        "  \"\"\"\n",
        "  Function interpolates the season gaps for a single light curves using Gaussian Processes\n",
        "  Input parameters:\n",
        "  @idx :: iterating index\n",
        "  @l_curves :: y-array corresponding to the magnitude of the light curve (a single spectrum)\n",
        "  @mjhd :: x-time array\n",
        "  @l_curves_err :: y-error array corresponding to the error on the magnitude of the y-points\n",
        "  @kernel :: defines the types of kernel (covariance function) used for model fitting\n",
        "  @noise_level :: rescaling the error with a factor\n",
        "\n",
        "  Returns:\n",
        "  @y_gpr :: the new y-array generated using Gaussian processes regressor\n",
        "  @y_std :: values representing the standard deviation for the new y-array points\n",
        "  \"\"\"  \n",
        "  y, x, yerr = l_curves[idx,:,0], mjhd.reshape(-1, 1), l_curves_err\n",
        "  # rescaling yerr with the added noise; x *= y is equivalent to x = x*y\n",
        "  yerr *= noise_level \n",
        "\n",
        "  # builds and fits the regression model used for interpolation\n",
        "  model = gp.GaussianProcessRegressor(kernel, alpha=yerr).fit(x, y)\n",
        "\n",
        "  # defines the new reshuffled x-array \n",
        "  x_new = np.linspace(x[0], x[-1], num=len(x))\n",
        "\n",
        "  # predicting the new 'y-array' and 1-sigma 'y_std' array using Gaussian process regressor\n",
        "  y_gpr, y_std = model.predict(x_new, return_std=True) \n",
        "  \n",
        "  return y_gpr, y_std"
      ],
      "execution_count": 0,
      "outputs": []
    },
    {
      "cell_type": "markdown",
      "metadata": {
        "id": "X3FuRsWDMByk",
        "colab_type": "text"
      },
      "source": [
        "Interpolates all the light curves using Gaussian processes regressor\n",
        "\n",
        "*Todo Note*: The `l_curves_err` array gets changed after every iteration, which is why it is reloaded again after every iteration. Need to sort out where the bug is coming from. "
      ]
    },
    {
      "cell_type": "code",
      "metadata": {
        "id": "RKtjitw33-xQ",
        "colab_type": "code",
        "colab": {
          "base_uri": "https://localhost:8080/",
          "height": 34
        },
        "outputId": "f48cfcb3-ef72-4b52-debc-371c485d64a4"
      },
      "source": [
        "# initializing a light curve array to store the gaussian proccesses regressed curves\n",
        "l_curves_gpr = np.array([]),  np.array([])\n",
        "l_curves_gpr.shape = (0, len(l_curves[0,:,0]),1)\n",
        "\n",
        "# defines the kernel\n",
        "kernel = defineKernel(length_scale, nu, alpha, amplitude, covkernel)\n",
        "\n",
        "# performs gpr on all the light curves\n",
        "if generate_new_files:\n",
        "  for num in range(len(r_0)):\n",
        "    # generate separate idx array for the interpolated light curves as per radius\n",
        "    idx_array = np.arange(num*sample_params[0][num],(num+1)*sample_params[0][num])\n",
        "    print('Processing radius: %d, No. of light curves: %d'%(out_radii[num*sample_params[0][num]], len(idx_array)))    \n",
        "    \n",
        "    for i, idx in enumerate(idx_array):\n",
        "      # reloads the array to make sure no inf errors pop up *[arr gets changed after every loop]\n",
        "      l_curves_err = np.load(data_dir+'Light_Curves/lcurves_error.npy')\n",
        "\n",
        "      y_gpr, _ = gprOnSingleLCurve(idx, l_curves, mjhd, l_curves_err, kernel, noise_level)\n",
        "\n",
        "      # setting the shape same as that on l_curves array\n",
        "      y_gpr.shape = (len(y_gpr), 1)\n",
        "      \n",
        "      # appending the y-gpr and y-std arrays\n",
        "      l_curves_gpr = np.append(l_curves_gpr, [y_gpr], axis=0)\n",
        "      \n",
        "      # shows the progress\n",
        "      dat.showProgress(i, 5000)\n",
        "      \n",
        "    # save file\n",
        "    dat.saveFile(data_dir, 'Light_Curves/v500_GP/lcurves_SeasonGaps_GPR_radii_%d'%out_radii[num*sample_params[0][num]], l_curves_gpr)\n",
        "  \n",
        "  # prints the light curves array shape\n",
        "  dat.printLcurvesShape(l_curves_gpr)\n",
        "    \n",
        "# the new reshuffled time-array \n",
        "mjhd_gpr = np.linspace(mjhd[0], mjhd[-1], num=len(mjhd))"
      ],
      "execution_count": 11,
      "outputs": [
        {
          "output_type": "stream",
          "text": [
            "[====================] 100%"
          ],
          "name": "stdout"
        }
      ]
    },
    {
      "cell_type": "markdown",
      "metadata": {
        "id": "1xxqs6VCK2Oi",
        "colab_type": "text"
      },
      "source": [
        "### 3.2 Reloads and save the light curves as one file"
      ]
    },
    {
      "cell_type": "code",
      "metadata": {
        "id": "I48jf-4jkKZj",
        "colab_type": "code",
        "colab": {
          "base_uri": "https://localhost:8080/",
          "height": 204
        },
        "outputId": "0f6d75be-e5c0-46c8-a7f1-c73de3dd3cad"
      },
      "source": [
        "# initializing a light curve array to store the gaussian proccesses regressed curves\n",
        "l_curves_gpr = np.array([])\n",
        "l_curves_gpr.shape = (0, len(l_curves[0,:,0]),1)\n",
        "for i in range(len(r_0)):\n",
        "  # loads the file\n",
        "  filename = 'Light_Curves/v500_GP/lcurves_SeasonGaps_GPR_radii_%d'%r_0[i]\n",
        "  y_gpr = dat.loadFile(data_dir,filename)\n",
        "  \n",
        "  print(np.shape(y_gpr), ' : ', r_0[i])\n",
        "  # appends the light curves\n",
        "  l_curves_gpr = np.row_stack((l_curves_gpr, y_gpr))\n",
        "\n",
        "# prints the light curves shape\n",
        "dat.printLcurvesShape(l_curves_gpr) \n",
        "\n",
        "# save file\n",
        "dat.saveFile(data_dir, 'Light_Curves/lcurves_SeasonGaps_GPR_%d'%len(l_curves_gpr), l_curves_gpr)"
      ],
      "execution_count": 46,
      "outputs": [
        {
          "output_type": "stream",
          "text": [
            "(5000, 955, 1)  :  2\n",
            "(5000, 955, 1)  :  4\n",
            "(5000, 955, 1)  :  10\n",
            "(5000, 955, 1)  :  15\n",
            "(5000, 955, 1)  :  20\n",
            "(5000, 955, 1)  :  30\n",
            "(5000, 955, 1)  :  40\n",
            "(5000, 955, 1)  :  60\n",
            "(5000, 955, 1)  :  80\n",
            "(4999, 955, 1)  :  100\n",
            "shape of light curves arrays: (49999, 955, 1)\n"
          ],
          "name": "stdout"
        }
      ]
    },
    {
      "cell_type": "markdown",
      "metadata": {
        "id": "HEfpAxfEMHwK",
        "colab_type": "text"
      },
      "source": [
        "### 3.2 Plots some random light curves"
      ]
    },
    {
      "cell_type": "code",
      "metadata": {
        "id": "ZPm4VZ2bLb-c",
        "colab_type": "code",
        "colab": {
          "base_uri": "https://localhost:8080/",
          "height": 402
        },
        "outputId": "d3627c00-50c3-4515-e756-fc8395677688"
      },
      "source": [
        "fig, ax = plt.subplots(1, 1, figsize=(10,5))\n",
        "\n",
        "# choosen light curves\n",
        "n = [2990, 9900]\n",
        "y_gpr, y_std = [], []\n",
        "colors = ['#f70008',  '#f70008']\n",
        "\n",
        "importlib.reload(dat)\n",
        "\n",
        "for i in range(len(n)):\n",
        "  l_curves_err = np.load(data_dir+'Light_Curves/lcurves_error.npy')\n",
        "  y_gpr, y_std = gprOnSingleLCurve(n[i], l_curves, mjhd, l_curves_err, kernel, noise_level) \n",
        "\n",
        "  # plots the data for chosen indicies in n\n",
        "  dat.plotGaussianProcessesRegressor(ax, n[i], l_curves, y_gpr, y_std, mjhd_gpr,\\\n",
        "                                     mjhd, l_curves_err, out_radii)\n",
        "\n",
        "# axis labels\n",
        "dat.setLabels(ax, 'HJD (days)', 'Magnitude', ticks=True, legend=True)\n",
        "\n",
        "# saves figures\n",
        "fig.savefig(save_image_dir+'/GP_interpolated_lcurves.png') \n",
        "  \n",
        "[print(out_radii[number]) for number in n]"
      ],
      "execution_count": 48,
      "outputs": [
        {
          "output_type": "stream",
          "text": [
            "2.0\n",
            "4.0\n"
          ],
          "name": "stdout"
        },
        {
          "output_type": "execute_result",
          "data": {
            "text/plain": [
              "[None, None]"
            ]
          },
          "metadata": {
            "tags": []
          },
          "execution_count": 48
        },
        {
          "output_type": "display_data",
          "data": {
            "image/png": "[encoded data removed]",
            "text/plain": [
              "<Figure size 720x360 with 1 Axes>"
            ]
          },
          "metadata": {
            "tags": [],
            "needs_background": "light"
          }
        }
      ]
    }
  ]
}