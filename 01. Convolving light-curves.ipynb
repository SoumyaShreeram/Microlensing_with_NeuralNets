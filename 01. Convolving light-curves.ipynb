{
  "cells": [
    {
      "cell_type": "markdown",
      "source": [
        "## Convolving light-curves \n",
        "\n",
        "The script convolves the magnification maps to getting the microlensed signal.\n",
        "\n",
        "1. Setting the path for the directories and input parameters\n",
        "2. Function to calculate the difference between A, B images\n",
        "3. Functions to convolve the data\n",
        "4. Execution of convolving the maps and saving the data\n",
        "\n",
        "Rewritten by: Soumya Shreeram <br>\n",
        "Script originally written by: Eric Paic <br>\n",
        "Date: 02nd March 2020 <br>"
      ],
      "metadata": {
        "nteract": {
          "transient": {
            "deleting": false
          }
        }
      }
    },
    {
      "cell_type": "code",
      "source": [
        "import numpy as np\n",
        "from astropy.io import fits\n",
        "from astropy.convolution import convolve_fft\n",
        "import scipy.signal as ss\n",
        "\n",
        "from time import sleep\n",
        "import os,sys"
      ],
      "outputs": [],
      "execution_count": 1,
      "metadata": {
        "collapsed": false,
        "jupyter": {
          "source_hidden": false,
          "outputs_hidden": false
        },
        "nteract": {
          "transient": {
            "deleting": false
          }
        },
        "execution": {
          "iopub.status.busy": "2020-03-30T09:40:33.719Z",
          "iopub.execute_input": "2020-03-30T09:40:33.727Z",
          "iopub.status.idle": "2020-03-30T09:40:48.565Z",
          "shell.execute_reply": "2020-03-30T09:40:48.608Z"
        }
      }
    },
    {
      "cell_type": "markdown",
      "source": [
        "### 1. Setting the path for the directories and input parameters"
      ],
      "metadata": {
        "nteract": {
          "transient": {
            "deleting": false
          }
        }
      }
    },
    {
      "cell_type": "code",
      "source": [
        "current_dir = os.getcwd()\n",
        "root_dir = os.path.abspath(os.path.join(current_dir, os.pardir))\n",
        "data_dir = os.path.join(root_dir, \"TP4b\")\n",
        "print(\"Does the directory exist? \\n>\",os.path.isdir(data_dir))\n",
        "\n",
        "# setting the paths\n",
        "datadir = os.path.join(data_dir,  'Data')\n",
        "resultdir = os.path.join(datadir,  'results')\n",
        "mapdir = os.path.join(datadir,  'maps', 'unconvolved')\n",
        "storagedir = os.path.join(datadir,  'maps', 'storage')"
      ],
      "outputs": [
        {
          "output_type": "stream",
          "name": "stdout",
          "text": [
            "Does the directory exist? \n",
            "> True\n"
          ]
        }
      ],
      "execution_count": 2,
      "metadata": {
        "collapsed": false,
        "jupyter": {
          "source_hidden": false,
          "outputs_hidden": false
        },
        "nteract": {
          "transient": {
            "deleting": false
          }
        },
        "execution": {
          "iopub.status.busy": "2020-03-30T09:40:48.575Z",
          "iopub.execute_input": "2020-03-30T09:40:48.580Z",
          "iopub.status.idle": "2020-03-30T09:40:48.598Z",
          "shell.execute_reply": "2020-03-30T09:40:48.611Z"
        }
      }
    },
    {
      "cell_type": "markdown",
      "source": [
        "All input parameters:"
      ],
      "metadata": {
        "nteract": {
          "transient": {
            "deleting": false
          }
        }
      }
    },
    {
      "cell_type": "code",
      "source": [
        "list_r0 = [2,4,10,15,20,30,40,60,80,100]\n",
        "\n",
        "list_img = ['A1','B1','A2','B2','A3','B3','A4','B4']\n",
        "\n",
        "list_comb = [('A1', 'B4'),('A2','B3'),('A3','B2'),('A4','B1'),('A2','B4'),('A1','B3')]\n",
        "\n",
        "einstein_r = 3.414e16\n",
        "cm_per_pxl = (20*einstein_r)/8192\n",
        "ld_per_pxl = 30000000000*3600*24/cm_per_pxl\n",
        "\n",
        "dim = 512"
      ],
      "outputs": [],
      "execution_count": 4,
      "metadata": {
        "collapsed": false,
        "jupyter": {
          "source_hidden": false,
          "outputs_hidden": false
        },
        "nteract": {
          "transient": {
            "deleting": false
          }
        },
        "execution": {
          "iopub.status.busy": "2020-03-30T09:40:59.036Z",
          "iopub.execute_input": "2020-03-30T09:40:59.041Z",
          "shell.execute_reply": "2020-03-30T09:40:59.053Z",
          "iopub.status.idle": "2020-03-30T09:40:59.048Z"
        }
      }
    },
    {
      "cell_type": "markdown",
      "source": [
        "### 2. Function to calculated the difference between the A, B images"
      ],
      "metadata": {
        "nteract": {
          "transient": {
            "deleting": false
          }
        }
      }
    },
    {
      "cell_type": "code",
      "source": [
        "def mapDiff(mapA,mapB,r0,comb):\n",
        "    \"\"\"\n",
        "    Function takes the logarithmic difference between the two maps A and B\n",
        "    Input:\n",
        "    @mapA, mapB :: two randomly chosen maps\n",
        "    @r0 :: scale radius\n",
        "    @comb :: combination of the two maps eg. A1, B2 or A3, B2, etc.\n",
        "    \"\"\"\n",
        "    img = fits.open(mapA)[0]\n",
        "    map_A = img.data[:, :]\n",
        "\n",
        "    img = fits.open(mapB)[0]\n",
        "    map_B = img.data[:, :]\n",
        "\n",
        "    final_map = map_A/map_B\n",
        "\n",
        "    hdu = fits.PrimaryHDU(final_map)\n",
        "    os.chdir(data_dir)\n",
        "    hdu.writeto(resultdir+'/map%s-%s_fml09_R%s_thin_disk.fits'%(comb[0],comb[1],r0))\n",
        "    return final_map"
      ],
      "outputs": [],
      "execution_count": 5,
      "metadata": {
        "collapsed": false,
        "jupyter": {
          "source_hidden": false,
          "outputs_hidden": false
        },
        "nteract": {
          "transient": {
            "deleting": false
          }
        },
        "execution": {
          "iopub.status.busy": "2020-03-30T09:41:04.626Z",
          "iopub.execute_input": "2020-03-30T09:41:04.631Z",
          "iopub.status.idle": "2020-03-30T09:41:04.640Z",
          "shell.execute_reply": "2020-03-30T09:41:04.646Z"
        }
      }
    },
    {
      "cell_type": "markdown",
      "source": [
        "### 3. Functions to convolve the data\n",
        "\n",
        "The models of the light source used to convolve the mgnification maps are:\n",
        "* `thin_disk` (default option) more information available [here](https://arxiv.org/pdf/1707.01908.pdf).\n",
        "* `sersic`\n",
        "* `thin_disk&node`\n",
        "* `wavy_hole`\n",
        "* `wavy`\n",
        "* `sersic`"
      ],
      "metadata": {
        "nteract": {
          "transient": {
            "deleting": false
          }
        }
      }
    },
    {
      "cell_type": "code",
      "source": [
        "def calR(x, xc, y, yc):\n",
        "    \"Function calculates the radius: (xc, yc) are the centre of the disk\"\n",
        "    return np.sqrt((x-xc)**2 + (y-yc)**2)\n",
        "\n",
        "def calXi(r, Rin, R0):\n",
        "    \"Function checks the value of r and calculates the light profile \\Xi accordingly\"\n",
        "    if r<Rin:\n",
        "        return 0\n",
        "    else:\n",
        "        if Rin == 0: # for J0158 since event horizon not resolvable\n",
        "            xi = (r / R0) ** (3/4) * (1) ** (-1/4)\n",
        "        else: # Shakura Sunyavev light distribution for a thin disk\n",
        "            xi = (r/R0)**(3/4)*(1-np.sqrt(Rin/r))**(-1/4)\n",
        "    return xi\n",
        "\n",
        "def getprofilevalue(x, y, xc, yc, xn, yn, I0, R0, model, Rin):\n",
        "    \"\"\"\n",
        "    Function to get the profile values for each particular choice of model \n",
        "    @(x,y) :: position on the map\n",
        "    @(xc, yc) :: position of the centre of the quasar disk\n",
        "    @(xn, yn) :: position of the arbitary node\n",
        "    @I0, R0 :: intensity, I0, at scale radius, R0\n",
        "    @model :: choice among 'thin_disk', 'thin_disk&node', 'wavy', etc.\n",
        "    @Rin :: inner radius of the accreting disk\n",
        "    \"\"\"\n",
        "    # parameters for 'wavy' type models\n",
        "    n, reff_pix, sersic_index =3, 0.2, 4.0\n",
        "    beta = n*np.pi/(2*R0)\n",
        "    \n",
        "    if model == \"thin_disk\":\n",
        "      r = calR(x, xc, y, yc)\n",
        "      xi = calXi(r, Rin, R0)\n",
        "      profile_val = I0/(np.exp(xi)-1)\n",
        "        \n",
        "    if model == \"thin_disk&node\":\n",
        "      r = calR(x, xn, y, yn)\n",
        "      xi = calXi(r, Rin, R0)\n",
        "      profile_val = I0/(np.exp(xi)-1) + I0/(np.exp((r/(R0*0.4106))**(3/4))-1)\n",
        "\n",
        "    if model ==\"wavy_hole\":\n",
        "      r = calR(x, xc, y, yc)\n",
        "      # calculates the profile value based on conditions on beta*r\n",
        "      if beta*r < 2*np.pi:\n",
        "          profile_val = I0*beta/(n*np.pi**2)*np.power(np.sin(beta*r),2)/r\n",
        "      else:\n",
        "          profile_val = 0\n",
        "\n",
        "    if model ==\"wavy\":\n",
        "      r = calR(x, xc, y, yc)\n",
        "      if beta*r < np.pi/2:\n",
        "          profile_val = I0*beta/(n*np.pi**2)\n",
        "      elif beta * r < 2 * np.pi and beta * r > np.pi/2:\n",
        "          profile_val = I0*beta/(n*np.pi**2)*np.square(np.sin(beta*r))\n",
        "          \n",
        "    if model == \"sersic\":\n",
        "      r = calR(x, xc, y, yc)\n",
        "      profile_val = I0 * np.exp(-(r / reff_pix) ** (1.0 / sersic_index))\n",
        "    return profile_val\n",
        "\n",
        "def generate2DDataArrays(dims=128):\n",
        "    \"\"\"\n",
        "    Function to generate the 2D data arrays as per required dims\n",
        "    @dims :: sets the size of the 2D data arrays\n",
        "    \"\"\"    \n",
        "    data = np.ones((128,128))\n",
        "    pdata = np.ones((128,128))\n",
        "    gdata = np.ones((128,128))\n",
        "    return data, pdata, gdata\n",
        "\n",
        "def get2dgaussianvalue(x, y, xc, yc, sigma):\n",
        "    \"Convolving the pixels with a Gaussian function (only if necessary)\"\n",
        "    return 1.0 / (2 * np.pi * sigma ** 2) * np.exp(-((x - xc) ** 2 + (y - yc) ** 2) / (2 * sigma ** 2))\n",
        "\n",
        "def get2ddiracvalue(x, y, xc, yc):\n",
        "    \"Convolving the pixels with a Dirac function\"\n",
        "    if x == xc and y ==yc:\n",
        "        return 1\n",
        "    else:\n",
        "        return 0\n",
        "    \n",
        "def outputMapParams(img):\n",
        "    \"Function calculates some of the magnification map paramters\"\n",
        "    map_d = img.data[:, :]\n",
        "    macro_mag = np.mean(map_d)\n",
        "    map_d = map_d / macro_mag\n",
        "    return map_d, macro_mag\n",
        "\n",
        "def blurProfile(pdata, gdata, data):\n",
        "    \"\"\"\n",
        "    Convolves the data and blurs the light profile\n",
        "    \"\"\"\n",
        "    output = convolve_fft(gdata, pdata, normalize_kernel=False)\n",
        "\n",
        "    for lind, line in enumerate(data):\n",
        "        for cind, elt in enumerate(line):\n",
        "            data[lind][cind] = output[lind][cind]\n",
        "    return data\n",
        "\n",
        "def convolve(R0, map_name, model=\"thin_disk\", Rin=0, I0=1, blur=False):\n",
        "    \"\"\"\n",
        "    Input:\n",
        "    @map_name :: fits file of the magnification map\n",
        "    @model :: model of the light source that the magnification map will be convoluted with\n",
        "    @R0 :: scale radius, for thin_disk, R0 ~10^14 cm for 1131,0435 (Units: pixels)\n",
        "    @Rin :: inner radius of the disk (useful only for thin_disk)\n",
        "    @I0 :: Intensity at scale radius\n",
        "    \n",
        "    Returns:: writes data to folder 'storagedir'\n",
        "    \"\"\"\n",
        "    img_name = map_name.split('map')[2].split('.')[0]\n",
        "    img = fits.open(map_name)[0]\n",
        "    map_d, macro_mag  = outputMapParams(img)\n",
        "    \n",
        "    # centre of thin disk, poistion of other node\n",
        "    xc, yc, xn, yn = 256, 256, 128, 128\n",
        "\n",
        "    # generates the profile, gaussian, and toconv fits files from new_canvas.fits\n",
        "    data, pdata, gdata = generate2DDataArrays(dims=128)\n",
        "\n",
        "    # fills the data arrays based of the choice of the model\n",
        "    for lind, line in enumerate(gdata):\n",
        "        for cind, elt in enumerate(line):\n",
        "            gdata[lind][cind] = get2ddiracvalue(cind+1, lind+1, xn, yn)\n",
        "            pdata[lind][cind] = getprofilevalue(cind+1, lind+1, xc, yc, xn, yn, I0, R0, model, Rin)\n",
        "            \n",
        "    if blur:\n",
        "        pdata = blurProfile(pdata, gdata, data)\n",
        "        \n",
        "    # final convolution\n",
        "    out2 = ss.fftconvolve(map_d, pdata, mode=\"valid\")\n",
        "    hdu = fits.PrimaryHDU(out2)\n",
        "\n",
        "    hdu.writeto(storagedir+'/convolved_map_%s_fft_%s_%i_fml09.fits'%(img_name,model,R0))\n",
        "    return\n",
        "\n",
        "def getFilename(rootdir, string_name, params, param_arr=True):\n",
        "    \"\"\"\n",
        "    Function generates the filenames for reading/writing out data\n",
        "    @rootdir, string_name :: root directory containing the file, file name\n",
        "    @params :: parameters that distinguish the file name\n",
        "    \"\"\"\n",
        "    if param_arr:\n",
        "        filename1 = os.path.join(rootdir, string_name%(params[0], params[2]))\n",
        "        filename2 = os.path.join(rootdir, string_name%(params[1], params[2]))\n",
        "        return filename1, filename2\n",
        "    else:\n",
        "        return os.path.join(rootdir, string_name%(params))\n",
        "    \n",
        "def showProgress(idx, n):\n",
        "    \"\"\"\n",
        "    Function prints the progress bar for a running function\n",
        "    @param idx :: iterating index\n",
        "    @param n :: total number of iterating variables/ total length\n",
        "    \"\"\"\n",
        "    j = (idx+1)/n\n",
        "    sys.stdout.write('\\r')\n",
        "    sys.stdout.write(\"[%-20s] %d%%\" % ('='*int(20*j), 100*j))\n",
        "    sys.stdout.flush()\n",
        "    sleep(0.25)\n",
        "    return "
      ],
      "outputs": [],
      "execution_count": 13,
      "metadata": {
        "collapsed": false,
        "jupyter": {
          "source_hidden": false,
          "outputs_hidden": false
        },
        "nteract": {
          "transient": {
            "deleting": false
          }
        },
        "execution": {
          "iopub.status.busy": "2020-03-30T10:14:46.893Z",
          "iopub.execute_input": "2020-03-30T10:14:47.005Z",
          "iopub.status.idle": "2020-03-30T10:14:47.207Z",
          "shell.execute_reply": "2020-03-30T10:14:47.211Z"
        }
      }
    },
    {
      "cell_type": "markdown",
      "source": [
        "### 4.1 Convolving the maps and saving the data"
      ],
      "metadata": {
        "nteract": {
          "transient": {
            "deleting": false
          }
        }
      }
    },
    {
      "cell_type": "code",
      "source": [
        "for img_AB in list_img:\n",
        "    for idx, r0 in enumerate(list_r0):\n",
        "        # generate filename\n",
        "        filename = getFilename(mapdir, 'map%s.fits', img_AB, param_arr=False)\n",
        "        \n",
        "        # convolve the maps\n",
        "        convolve(r0, filename,\"thin_disk\", blur=False)\n",
        "        \n",
        "        # shows progress\n",
        "        showProgress(idx, len(list_r0))"
      ],
      "outputs": [],
      "execution_count": null,
      "metadata": {
        "collapsed": false,
        "jupyter": {
          "source_hidden": false,
          "outputs_hidden": false
        },
        "nteract": {
          "transient": {
            "deleting": false
          }
        },
        "execution": {
          "iopub.status.busy": "2020-03-30T10:14:48.881Z",
          "iopub.execute_input": "2020-03-30T10:14:48.886Z",
          "iopub.status.idle": "2020-03-30T10:15:54.748Z",
          "shell.execute_reply": "2020-03-30T10:15:54.685Z"
        }
      }
    },
    {
      "cell_type": "markdown",
      "source": [
        "### 4.2 Calculates the differences in the magnification maps that are convolved"
      ],
      "metadata": {
        "nteract": {
          "transient": {
            "deleting": false
          }
        }
      }
    },
    {
      "cell_type": "code",
      "source": [
        "string_name = \"convolved_map_%s_fft_thin_disk_%s_fml09.fits\"\n",
        "for i,comb in enumerate(list_comb):\n",
        "    for r0 in list_r0:\n",
        "        #generate filenames for saving it on disk\n",
        "        params = [comb[0], comb[1], r0]\n",
        "        filename1, filename2 = getFilename(storagedir, string_name, params, param_arr=True)\n",
        "        \n",
        "        # calculates the difference between the maps\n",
        "        final_map = mapDiff(filename1, filename2, r0, comb)\n",
        "        \n",
        "    # shows progress\n",
        "    showProgress(i, len(list_comb))"
      ],
      "outputs": [
        {
          "output_type": "stream",
          "name": "stdout",
          "text": [
            "[====================] 100%"
          ]
        }
      ],
      "execution_count": 6,
      "metadata": {
        "collapsed": false,
        "jupyter": {
          "source_hidden": false,
          "outputs_hidden": false
        },
        "nteract": {
          "transient": {
            "deleting": false
          }
        },
        "execution": {
          "iopub.status.busy": "2020-03-09T10:35:54.874Z",
          "iopub.execute_input": "2020-03-09T10:35:54.879Z",
          "iopub.status.idle": "2020-03-09T11:56:44.329Z",
          "shell.execute_reply": "2020-03-09T11:56:44.323Z"
        }
      }
    }
  ],
  "metadata": {
    "kernel_info": {
      "name": "qutip-env"
    },
    "language_info": {
      "name": "python",
      "version": "3.6.7",
      "mimetype": "text/x-python",
      "codemirror_mode": {
        "name": "ipython",
        "version": 3
      },
      "pygments_lexer": "ipython3",
      "nbconvert_exporter": "python",
      "file_extension": ".py"
    },
    "kernelspec": {
      "argv": [
        "D:\\Anaconda2\\envs\\qutip-env\\python.exe",
        "-m",
        "ipykernel_launcher",
        "-f",
        "{connection_file}"
      ],
      "display_name": "Python (qutip-env)",
      "language": "python",
      "name": "qutip-env"
    },
    "nteract": {
      "version": "0.23.3"
    }
  },
  "nbformat": 4,
  "nbformat_minor": 0
}