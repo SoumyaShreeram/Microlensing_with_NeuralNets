{
  "cells": [
    {
      "cell_type": "markdown",
      "source": [
        "## Generation of light-curves for training NNs\n",
        "\n",
        "The scripts is used to generate data sets containing light curves for training neural networks. The script contains:\n",
        "\n",
        "1. Paths to directories and Input parameters\n",
        "2. Extracting data from microlensing light-curves\n",
        "3. Creating mock light-curves fpr a given magnification map and velocity\n",
        "4. Storing the generated light curves \n",
        "\n",
        "Rewritten by: Soumya Shreeram <br>\n",
        "Script adapted from: Eric Paic <br>\n",
        "Date: 02nd March 2020"
      ],
      "metadata": {
        "nteract": {
          "transient": {
            "deleting": false
          }
        }
      }
    },
    {
      "cell_type": "code",
      "source": [
        "import numpy as np\n",
        "import pickle as pkl\n",
        "from astropy.io import fits\n",
        "import glob\n",
        "\n",
        "from time import sleep\n",
        "import os,sys"
      ],
      "outputs": [],
      "execution_count": 1,
      "metadata": {
        "collapsed": false,
        "jupyter": {
          "source_hidden": false,
          "outputs_hidden": false
        },
        "nteract": {
          "transient": {
            "deleting": false
          }
        },
        "execution": {
          "iopub.status.busy": "2020-03-10T11:24:12.882Z",
          "iopub.execute_input": "2020-03-10T11:24:12.888Z",
          "shell.execute_reply": "2020-03-10T11:24:13.151Z",
          "iopub.status.idle": "2020-03-10T11:24:13.161Z"
        }
      }
    },
    {
      "cell_type": "markdown",
      "source": [
        "### 1.1 Paths to directories and Input parameters"
      ],
      "metadata": {
        "nteract": {
          "transient": {
            "deleting": false
          }
        }
      }
    },
    {
      "cell_type": "code",
      "source": [
        "current_dir = os.getcwd()\n",
        "root_dir = os.path.abspath(os.path.join(current_dir, os.pardir))\n",
        "data_dir = os.path.join(root_dir, \"TP4b\")\n",
        "print(\"Does directory exists? \\n>\",os.path.isdir(data_dir))\n",
        "\n",
        "# setting the paths\n",
        "datadir = os.path.join(data_dir,  'Data')\n",
        "resultdir = os.path.join(datadir,  'results')\n",
        "trainingsetdir = os.path.join(resultdir,  'LC_training_set')\n",
        "mapdir = os.path.join(datadir,  'maps', 'unconvolved')\n",
        "storagedir = os.path.join(datadir,  'maps', 'storage')"
      ],
      "outputs": [
        {
          "output_type": "stream",
          "name": "stdout",
          "text": [
            "Does directory exists? \n",
            "> True\n"
          ]
        }
      ],
      "execution_count": 12,
      "metadata": {
        "collapsed": false,
        "jupyter": {
          "source_hidden": false,
          "outputs_hidden": false
        },
        "nteract": {
          "transient": {
            "deleting": false
          }
        },
        "execution": {
          "iopub.status.busy": "2020-03-10T11:26:34.988Z",
          "iopub.execute_input": "2020-03-10T11:26:34.994Z",
          "iopub.status.idle": "2020-03-10T11:26:35.002Z",
          "shell.execute_reply": "2020-03-10T11:26:35.008Z"
        }
      }
    },
    {
      "cell_type": "markdown",
      "source": [
        "### 1.2 Input Parameters\n",
        "\n",
        "* Constants used to convert pixels to physical length\n",
        "\n",
        "* The Einstein radius, $E_R$, is for QJ0158 assumes a mean quasar mass of $\\left<M\\right>=0.3,\\ 0.1$ or $0.001\\ M_{\\odot}$ (defined by choice of `mass_index=0/1/2`). "
      ],
      "metadata": {
        "nteract": {
          "transient": {
            "deleting": false
          }
        }
      }
    },
    {
      "cell_type": "code",
      "source": [
        "einstein_r_1131= 2.5e16 #Einstein ring of RXJ1131 for 0.3 M_sun\n",
        "#Einstein ring of QJ0158 for 0.3, 0.1 and 0.001 M_sun\n",
        "einstein_r_0158_arr = [3.414e16, 3.414e16/np.sqrt(3), 3.414e16/np.sqrt(30)] \n",
        "\n",
        "# choose the mass for which you want QJ0158's Einstein radius\n",
        "mass_idx = 0\n",
        "einstein_r_0158 = einstein_r_0158_arr[mass_idx]\n",
        "\n",
        "# pixel scale assuming the map is 20R_E x 20R_E and 8192 pxl x 8192pxl\n",
        "cm_per_pxl = 20*einstein_r_0158/8192 \n",
        "ld_per_pxl = cm_per_pxl/(30000000000*3600*24) #Light-day per pixel"
      ],
      "outputs": [],
      "execution_count": 3,
      "metadata": {
        "collapsed": false,
        "jupyter": {
          "source_hidden": false,
          "outputs_hidden": false
        },
        "nteract": {
          "transient": {
            "deleting": false
          }
        },
        "execution": {
          "iopub.status.busy": "2020-03-10T11:24:19.094Z",
          "iopub.execute_input": "2020-03-10T11:24:19.098Z",
          "iopub.status.idle": "2020-03-10T11:24:19.108Z",
          "shell.execute_reply": "2020-03-10T11:24:19.114Z"
        }
      }
    },
    {
      "cell_type": "markdown",
      "source": [
        "* Radii for just the microlensed curves are generated\n",
        "* source velocity set to $500\\ {\\rm km\\ s}^{-1}$\n",
        "* boolean `season_gaps` defines if the gaps are included in the light-curves "
      ],
      "metadata": {
        "nteract": {
          "transient": {
            "deleting": false
          }
        }
      }
    },
    {
      "cell_type": "code",
      "source": [
        "#radii of the source in pxl, the reference radius is 15pxl\n",
        "list_r0 = [2,4,10,15,20,30,40,60,80,100] \n",
        "list_comb = [('A1', 'B4'),('A2','B3'),('A3','B2'),('A4','B1'),('A2','B4'),('A1','B3')]\n",
        "n_curves = 100000 #number of generated curves\n",
        "n_good_curves = 10000 #minimum number of curves that are not flat\n",
        "\n",
        "v_source =500 #in km.s^-1\n",
        "v = v_source * np.ones(n_curves)\n",
        "\n",
        "# generate mock light-curves with season gaps?\n",
        "# season_gaps = True"
      ],
      "outputs": [],
      "execution_count": 4,
      "metadata": {
        "collapsed": false,
        "jupyter": {
          "source_hidden": false,
          "outputs_hidden": false
        },
        "nteract": {
          "transient": {
            "deleting": false
          }
        },
        "execution": {
          "iopub.status.busy": "2020-03-10T11:24:28.946Z",
          "iopub.execute_input": "2020-03-10T11:24:28.952Z",
          "iopub.status.idle": "2020-03-10T11:24:28.958Z",
          "shell.execute_reply": "2020-03-10T11:24:28.963Z"
        }
      }
    },
    {
      "cell_type": "markdown",
      "source": [
        "### 2. Extracting the data microlensing light curve"
      ],
      "metadata": {
        "nteract": {
          "transient": {
            "deleting": false
          }
        }
      }
    },
    {
      "cell_type": "code",
      "source": [
        "def projectVelocities(v, angle, cm_per_pxl):\n",
        "    \"\"\"\n",
        "    Function to project the velocity on x and y axis and converts units\n",
        "    @v :: magnitude velocity\n",
        "    @angle :: inclination angle\n",
        "    \"\"\"\n",
        "    v_x = np.multiply(v, np.cos(angle))\n",
        "    v_x = np.divide(np.multiply(100000 * 3600 * 24, v_x), cm_per_pxl)\n",
        "    \n",
        "    v_y = np.multiply(v, np.sin(angle))\n",
        "    v_y = np.divide(np.multiply(100000 * 3600 * 24, v_y), cm_per_pxl)\n",
        "    return v_x, v_y\n",
        "\n",
        "def calTrajectory(params, v_x, v_y, time, mjhd):\n",
        "    \"\"\"\n",
        "    Function calculates the trajectory of the source in the map\n",
        "    @params :: [x_start, y_start, v, angle]\n",
        "    @(v_x, v_y) :: projection of v on x-y axis\n",
        "    Returns:\n",
        "    @(path_x, path_y) :: evolution of the trajectories with time/mjhd\n",
        "    \"\"\"\n",
        "    if v_x == 0:\n",
        "        path_x = params[0] * np.ones(len(time))\n",
        "    else:\n",
        "        path_x = np.add(np.multiply(np.add(time, -time[0]), v_x), params[0])\n",
        "    if v_y == 0:\n",
        "        path_y =  params[1] * np.ones(len(mjhd))\n",
        "    else:\n",
        "        path_y = np.add(np.multiply(np.add(time, -time[0]), v_y), params[1])\n",
        "\n",
        "    path_x = path_x.astype(int)\n",
        "    path_y = path_y.astype(int)\n",
        "    return path_x, path_y\n",
        "\n",
        "def checkTrajectoryCalMag(path_x, path_y, map_name, err_data, add_shut_noise):\n",
        "    \"\"\"\n",
        "    Function does the following:\n",
        "    1. checks if the trajectory is bounded within the map \n",
        "    2. gathers the value of the corresponding pixels which give the flux magnification (Hence 2.5*log() to convert in mag)\n",
        "    \"\"\"\n",
        "    lc = []\n",
        "    if path_x[-1] <= len(map_name)-1 and path_y[-1] <= len(map_name)-1 and path_x[-1] >= 0 and path_y[-1] >= 0:\n",
        "        if add_shut_noise:\n",
        "            temp = np.add(np.multiply(-2.5, np.log10(map[path_y, path_x])),np.random.normal(0, np.mean(err_data), len(path_y)))\n",
        "        else:\n",
        "            temp = np.multiply(-2.5, np.log10(map_name[path_y, path_x]))\n",
        "        lc = temp - temp[0] * np.ones(len(temp))\n",
        "    return lc\n",
        "\n",
        "def drawLightCurves(params, map_name, time, cm_per_pxl , err_data, add_shut_noise):\n",
        "    \"\"\"\n",
        "    Function to draw a light curve in a microlensing map\n",
        "    @params:: list composed with the starting coordinaates of the trajectory, velocity and direction [x_start, y_start, velcity, angle]\n",
        "    @map:: map used to draw the curve\n",
        "    @time:: decides the sampling of the microlensing curve\n",
        "    @cm_per_pxl:: scale of the map that is calculated for a 20 R_e x 20 R_e map \n",
        "    \n",
        "    @Returns:\n",
        "    Light curve, coordinates of the starting and ending point of the trajectory (latter is used only to display the trajectory)\n",
        "    \"\"\"    \n",
        "    v = params[2]\n",
        "    angle= params[3]\n",
        "    \n",
        "    # projects velocities\n",
        "    v_x, v_y = projectVelocities(v, angle, cm_per_pxl)\n",
        "    \n",
        "    # draws the trajectories\n",
        "    path_x, path_y = calTrajectory(params, v_x, v_y, time, mjhd)\n",
        "    \n",
        "    # check if trajectory is bounded & calculates magnification per pixel\n",
        "    lc = checkTrajectoryCalMag(path_x, path_y, map_name, err_data, add_shut_noise)\n",
        "\n",
        "    return lc, [path_x[0], path_y[0], path_x[-1], path_y[-1]]\n"
      ],
      "outputs": [],
      "execution_count": 5,
      "metadata": {
        "collapsed": false,
        "jupyter": {
          "source_hidden": false,
          "outputs_hidden": false
        },
        "nteract": {
          "transient": {
            "deleting": false
          }
        },
        "execution": {
          "iopub.status.busy": "2020-03-10T11:24:31.399Z",
          "iopub.execute_input": "2020-03-10T11:24:31.403Z",
          "iopub.status.idle": "2020-03-10T11:24:31.409Z",
          "shell.execute_reply": "2020-03-10T11:24:31.419Z"
        }
      }
    },
    {
      "cell_type": "markdown",
      "source": [
        "Reading from a sample file and to learn useful information."
      ],
      "metadata": {
        "nteract": {
          "transient": {
            "deleting": false
          }
        }
      }
    },
    {
      "cell_type": "code",
      "source": [
        "def getFilename(rootdir, string_name, params, no_params=False):\n",
        "    \"\"\"\n",
        "    Function generates the filenames for reading/writing out data\n",
        "    @rootdir, string_name :: root directory containing the file, file name\n",
        "    @params :: parameters that distinguish the file name\n",
        "    \"\"\"\n",
        "    if no_params:\n",
        "        return os.path.join(rootdir, string_name)\n",
        "    return os.path.join(rootdir, string_name%params)\n",
        "\n",
        "def readFile(datadir):\n",
        "    \"\"\"\n",
        "    Function reads the sample file and outputs the mjhd, mag_ml and errors on mag_ml\n",
        "    @Returns \n",
        "    @mjhd :: time\n",
        "    @mag_ml :: magnitude of microlensing\n",
        "    @err_mag_ml :: error on the magnitude\n",
        "    \"\"\"\n",
        "    filename = getFilename(datadir, \"J0158_Euler_microlensing_upsampled_B-A.rdb\", '', no_params=True)\n",
        "    # open, read and extract data\n",
        "    f = open(filename,\"r\")\n",
        "    f= f.read()\n",
        "    f=f.split(\"\\n\")\n",
        "    data = f[2:]\n",
        "    \n",
        "    mjhd, mag_ml,  err_mag_ml= [], [], []\n",
        "    \n",
        "    # fills the arrays\n",
        "    for i,elem in enumerate(data):\n",
        "        mjhd = np.append(mjhd,float(elem.split(\"\\t\")[0]))\n",
        "        mag_ml = np.append(mag_ml, float(elem.split(\"\\t\")[1]))\n",
        "        temp = elem.split(\"\\t\")[2]\n",
        "        err_mag_ml= np.append(err_mag_ml,float(temp.split(\"\\r\")[0]))\n",
        "    return mjhd, mag_ml, temp, err_mag_ml"
      ],
      "outputs": [],
      "execution_count": 6,
      "metadata": {
        "collapsed": false,
        "jupyter": {
          "source_hidden": false,
          "outputs_hidden": false
        },
        "nteract": {
          "transient": {
            "deleting": false
          }
        },
        "execution": {
          "iopub.status.busy": "2020-03-10T11:24:35.434Z",
          "iopub.execute_input": "2020-03-10T11:24:35.438Z",
          "iopub.status.idle": "2020-03-10T11:24:35.445Z",
          "shell.execute_reply": "2020-03-10T11:24:35.450Z"
        }
      }
    },
    {
      "cell_type": "code",
      "source": [
        "mjhd, mag_ml, temp, err_mag_ml = readFile(datadir)"
      ],
      "outputs": [],
      "execution_count": 7,
      "metadata": {
        "collapsed": false,
        "jupyter": {
          "source_hidden": false,
          "outputs_hidden": false
        },
        "nteract": {
          "transient": {
            "deleting": false
          }
        },
        "execution": {
          "iopub.status.busy": "2020-03-10T11:24:36.930Z",
          "iopub.execute_input": "2020-03-10T11:24:36.933Z",
          "iopub.status.idle": "2020-03-10T11:24:37.101Z",
          "shell.execute_reply": "2020-03-10T11:24:37.094Z"
        }
      }
    },
    {
      "cell_type": "markdown",
      "source": [
        "### 3. Creating mock light-curves for a given magnification map and velocity"
      ],
      "metadata": {
        "nteract": {
          "transient": {
            "deleting": false
          }
        }
      }
    },
    {
      "cell_type": "code",
      "source": [
        "def getFinalMap(resultdir, comb, r0):\n",
        "    \"Function retrieves covolved, magnification map from results directory\"\n",
        "    map_name = getFilename(resultdir, 'map%s-%s_fml09_R%s_thin_disk.fits', (comb[0],comb[1],r0))\n",
        "    img = fits.open(map_name)[0]\n",
        "    final_map = img.data[:, :]\n",
        "    return final_map\n",
        "\n",
        "def generateRandomVals(final_map, n_curves):\n",
        "    \"Function generates random (x, y) start points for trajectories at random angles\"\n",
        "    x = np.random.randint(200, len(final_map) - 200, n_curves)\n",
        "    y = np.random.randint(200, len(final_map) - 200, n_curves)\n",
        "    angle = np.random.uniform(0, 2 * np.pi, n_curves)\n",
        "    return x, y, angle\n",
        "\n",
        "def checkFlatLCs(temp, i,lc):\n",
        "    \"\"\"\n",
        "    Function considers light curves that are \"not flat\" i.e. difference between min and max is over 1\n",
        "    \"\"\"\n",
        "    if temp is not None:\n",
        "        temp = temp[0]\n",
        "        if np.shape(temp)== (955,) and np.max(temp)-np.min(temp) > 1:\n",
        "            lc.append(temp)\n",
        "            i+=1\n",
        "    return lc, i\n",
        "\n",
        "def showProgress(idx, n):\n",
        "    \"\"\"\n",
        "    Function prints the progress bar for a running function\n",
        "    @param idx :: iterating index\n",
        "    @param n :: total number of iterating variables/ total length\n",
        "    \"\"\"\n",
        "    j = (idx+1)/n\n",
        "    sys.stdout.write('\\r')\n",
        "    sys.stdout.write(\"[%-20s] %d%%\" % ('='*int(20*j), 100*j))\n",
        "    sys.stdout.flush()\n",
        "    sleep(0.25)\n",
        "    return\n",
        "\n",
        "def saveFile(resultdir, n_good_curves, v_source, r0, lc):\n",
        "    with open(getFilename(resultdir, 'simLC_A-B_n%s_v%s_R%s_M0,3.pkl', (n_good_curves, v_source, r0), no_params=False), 'wb') as handle:\n",
        "        pkl.dump((lc), handle, protocol=pkl.HIGHEST_PROTOCOL)"
      ],
      "outputs": [],
      "execution_count": 9,
      "metadata": {
        "collapsed": false,
        "jupyter": {
          "source_hidden": false,
          "outputs_hidden": false
        },
        "nteract": {
          "transient": {
            "deleting": false
          }
        },
        "execution": {
          "iopub.status.busy": "2020-03-10T11:24:48.662Z",
          "iopub.execute_input": "2020-03-10T11:24:48.668Z",
          "iopub.status.idle": "2020-03-10T11:24:48.675Z",
          "shell.execute_reply": "2020-03-10T11:24:48.678Z"
        }
      }
    },
    {
      "cell_type": "markdown",
      "source": [
        "* `mjhd` is the time vector extracted form the data so if you use it to generate mock curves they will already have the season gaps."
      ],
      "metadata": {
        "nteract": {
          "transient": {
            "deleting": false
          }
        }
      }
    },
    {
      "cell_type": "code",
      "source": [
        "for index, r0 in enumerate(list_r0):\n",
        "    # retrive convolved, mmicrolensed magnification map\n",
        "    final_map = getFinalMap(resultdir, list_comb[0], r0)\n",
        "\n",
        "    params = []\n",
        "    # generating random starting coordinates, angles of the trajectories\n",
        "    x, y, angle = generateRandomVals(final_map, n_curves)    \n",
        "    for i in range(len(x)):\n",
        "        params.append([x[i], y[i], v[i], angle[i]])\n",
        "    \n",
        "    # i keeps track of non-flat curves, j increments in params\n",
        "    lc = []\n",
        "    i, j = 0, 0\n",
        "    while i < n_good_curves:\n",
        "        temp = drawLightCurves(params[j], final_map, mjhd, cm_per_pxl, err_mag_ml, add_shut_noise=False)\n",
        "        j+=1\n",
        "\n",
        "        # checks for flat light curves, eliminates them\n",
        "        lc, i = checkFlatLCs(temp, i, lc)\n",
        "    \n",
        "    # saves the file for every R0\n",
        "    saveFile(trainingsetdir, n_good_curves, v_source, r0, lc)\n",
        "    \n",
        "    # shows progress for every radius\n",
        "    print('\\nCurrently processing R0 = %d'%r0)\n",
        "    showProgress(index, len(list_r0))"
      ],
      "outputs": [
        {
          "output_type": "stream",
          "name": "stdout",
          "text": [
            "\n",
            "Currently processing R0 = 2\n",
            "[==                  ] 10%\n",
            "Currently processing R0 = 4\n",
            "[====                ] 20%\n",
            "Currently processing R0 = 10\n",
            "[======              ] 30%\n",
            "Currently processing R0 = 15\n",
            "[========            ] 40%\n",
            "Currently processing R0 = 20\n",
            "[==========          ] 50%\n",
            "Currently processing R0 = 30\n",
            "[============        ] 60%\n",
            "Currently processing R0 = 40\n",
            "[==============      ] 70%\n",
            "Currently processing R0 = 60\n",
            "[================    ] 80%\n",
            "Currently processing R0 = 80\n",
            "[==================  ] 90%\n",
            "Currently processing R0 = 100\n",
            "[====================] 100%"
          ]
        }
      ],
      "execution_count": 13,
      "metadata": {
        "collapsed": false,
        "jupyter": {
          "source_hidden": false,
          "outputs_hidden": false
        },
        "nteract": {
          "transient": {
            "deleting": false
          }
        },
        "execution": {
          "iopub.status.busy": "2020-03-10T11:26:43.623Z",
          "iopub.execute_input": "2020-03-10T11:26:43.628Z",
          "iopub.status.idle": "2020-03-10T16:57:14.357Z",
          "shell.execute_reply": "2020-03-10T16:57:14.371Z"
        }
      }
    }
  ],
  "metadata": {
    "kernel_info": {
      "name": "python3"
    },
    "language_info": {
      "name": "python",
      "version": "3.6.7",
      "mimetype": "text/x-python",
      "codemirror_mode": {
        "name": "ipython",
        "version": 3
      },
      "pygments_lexer": "ipython3",
      "nbconvert_exporter": "python",
      "file_extension": ".py"
    },
    "kernelspec": {
      "argv": [
        "python",
        "-m",
        "ipykernel_launcher",
        "-f",
        "{connection_file}"
      ],
      "display_name": "Python 3",
      "language": "python",
      "name": "python3"
    },
    "nteract": {
      "version": "0.22.0"
    }
  },
  "nbformat": 4,
  "nbformat_minor": 0
}