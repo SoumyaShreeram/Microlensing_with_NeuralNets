{
  "cells": [
    {
      "cell_type": "code",
      "source": [],
      "outputs": [],
      "execution_count": null,
      "metadata": {
        "collapsed": false,
        "jupyter": {
          "source_hidden": false,
          "outputs_hidden": false
        },
        "nteract": {
          "transient": {
            "deleting": false
          }
        }
      }
    }
  ],
  "metadata": {
    "kernel_info": {
      "name": "qutip-env"
    },
    "language_info": {
      "name": "qutip-env"
    },
    "kernelspec": {
      "argv": [
        "D:\\Anaconda2\\envs\\qutip-env\\python.exe",
        "-m",
        "ipykernel_launcher",
        "-f",
        "{connection_file}"
      ],
      "display_name": "Python (qutip-env)",
      "language": "python",
      "name": "qutip-env"
    },
    "nteract": {
      "version": "0.22.0"
    }
  },
  "nbformat": 4,
  "nbformat_minor": 0
}