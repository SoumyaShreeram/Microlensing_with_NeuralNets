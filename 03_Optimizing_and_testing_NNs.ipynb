{
  "nbformat": 4,
  "nbformat_minor": 0,
  "metadata": {
    "colab": {
      "name": "03_Optimizing_and_testing_NNs.ipynb",
      "provenance": [],
      "collapsed_sections": [],
      "toc_visible": true,
      "machine_shape": "hm",
      "authorship_tag": "ABX9TyPsQ7qq3q3OQ6UDWctKwMny",
      "include_colab_link": true
    },
    "kernelspec": {
      "name": "python3",
      "display_name": "Python 3"
    }
  },
  "cells": [
    {
      "cell_type": "markdown",
      "metadata": {
        "id": "view-in-github",
        "colab_type": "text"
      },
      "source": [
        "<a href=\"https://colab.research.google.com/github/SoumyaShreeram/Microlensing_with_NeuralNets/blob/master/03_Optimizing_and_testing_NNs.ipynb\" target=\"_parent\"><img src=\"https://colab.research.google.com/assets/colab-badge.svg\" alt=\"Open In Colab\"/></a>"
      ]
    },
    {
      "cell_type": "markdown",
      "metadata": {
        "id": "Iv0iBoEj6qK3",
        "colab_type": "text"
      },
      "source": [
        "## Testing Neural Network Architecture\n",
        "\n",
        "Author: Soumya Shreeram <br>\n",
        "Script adapted from: Millon Martin & Kevin Müller <br>\n",
        "Date: 23rd February 2020"
      ]
    },
    {
      "cell_type": "markdown",
      "metadata": {
        "id": "deDcrZnEPlzz",
        "colab_type": "text"
      },
      "source": [
        "Import all required python libraries"
      ]
    },
    {
      "cell_type": "code",
      "metadata": {
        "id": "hIOkLVF5WNgW",
        "colab_type": "code",
        "colab": {
          "base_uri": "https://localhost:8080/",
          "height": 82
        },
        "outputId": "4c2455e1-c588-4242-bfdc-eb4a5d723d6b"
      },
      "source": [
        "from google.colab import drive\n",
        "import os\n",
        "import pickle\n",
        "import importlib\n",
        "\n",
        "import numpy as np\n",
        "import matplotlib.pyplot as plt\n",
        "plt.rcParams.update({'font.size': 16})\n",
        "import random\n",
        "import os\n",
        "from IPython.display import Image, SVG\n",
        "\n",
        "from sklearn.model_selection import train_test_split\n",
        "from sklearn.metrics import classification_report\n",
        "\n",
        "import tensorflow as tf\n",
        "\n",
        "from tensorflow.keras.models import Model\n",
        "from tensorflow.keras.layers import Input, Activation, InputSpec\n",
        "from tensorflow.python.keras.layers import Conv1D, Conv2D\n",
        "from tensorflow.python.keras.layers import MaxPooling1D, MaxPooling2D, GlobalMaxPooling2D\n",
        "from tensorflow.keras.layers import Dense, Dropout, Flatten, Add, BatchNormalization, Concatenate\n",
        "from tensorflow.keras.optimizers import SGD, Adam\n",
        "from tensorflow.keras.utils import plot_model\n",
        "from tensorflow.keras import backend as K\n",
        "from tensorflow.keras.layers import Layer"
      ],
      "execution_count": 2,
      "outputs": [
        {
          "output_type": "display_data",
          "data": {
            "text/html": [
              "<p style=\"color: red;\">\n",
              "The default version of TensorFlow in Colab will soon switch to TensorFlow 2.x.<br>\n",
              "We recommend you <a href=\"https://www.tensorflow.org/guide/migrate\" target=\"_blank\">upgrade</a> now \n",
              "or ensure your notebook will continue to use TensorFlow 1.x via the <code>%tensorflow_version 1.x</code> magic:\n",
              "<a href=\"https://colab.research.google.com/notebooks/tensorflow_version.ipynb\" target=\"_blank\">more info</a>.</p>\n"
            ],
            "text/plain": [
              "<IPython.core.display.HTML object>"
            ]
          },
          "metadata": {
            "tags": []
          }
        }
      ]
    },
    {
      "cell_type": "markdown",
      "metadata": {
        "id": "jDf-kPS_OvVQ",
        "colab_type": "text"
      },
      "source": [
        "Mount google drive"
      ]
    },
    {
      "cell_type": "code",
      "metadata": {
        "id": "V7aoHjFTP2s9",
        "colab_type": "code",
        "outputId": "e769025f-8954-407d-d777-6364e54ae044",
        "colab": {
          "base_uri": "https://localhost:8080/",
          "height": 128
        }
      },
      "source": [
        "drive.mount('/content/gdrive')"
      ],
      "execution_count": 3,
      "outputs": [
        {
          "output_type": "stream",
          "text": [
            "Go to this URL in a browser: https://accounts.google.com/o/oauth2/auth?client_id=947318989803-6bn6qk8qdgf4n4g3pfee6491hc0brc4i.apps.googleusercontent.com&redirect_uri=urn%3aietf%3awg%3aoauth%3a2.0%3aoob&response_type=code&scope=email%20https%3a%2f%2fwww.googleapis.com%2fauth%2fdocs.test%20https%3a%2f%2fwww.googleapis.com%2fauth%2fdrive%20https%3a%2f%2fwww.googleapis.com%2fauth%2fdrive.photos.readonly%20https%3a%2f%2fwww.googleapis.com%2fauth%2fpeopleapi.readonly\n",
            "\n",
            "Enter your authorization code:\n",
            "··········\n",
            "Mounted at /content/gdrive\n"
          ],
          "name": "stdout"
        }
      ]
    },
    {
      "cell_type": "markdown",
      "metadata": {
        "id": "CFu89FBF3rYM",
        "colab_type": "text"
      },
      "source": [
        "Directory where the `python` files are stored on Google Drive. These imported files are also available in `.ipynb` format on the GitHub repo with same names (without the dr; stands for drive) <strike>`dr`</strike>`0X_sameFileName`"
      ]
    },
    {
      "cell_type": "code",
      "metadata": {
        "id": "aQmHoYFN3sX1",
        "colab_type": "code",
        "colab": {}
      },
      "source": [
        "os.chdir('/content/gdrive/My Drive/Colab Notebooks')\n",
        "\n",
        "import dr02_preprocessing_data as dat\n",
        "import dr04_neural_network_designs as nnet"
      ],
      "execution_count": 0,
      "outputs": []
    },
    {
      "cell_type": "markdown",
      "metadata": {
        "id": "DJbzcl4A8xJQ",
        "colab_type": "text"
      },
      "source": [
        "Setting up the path to the data directory"
      ]
    },
    {
      "cell_type": "code",
      "metadata": {
        "id": "gl3kJxIDwwxH",
        "colab_type": "code",
        "colab": {}
      },
      "source": [
        "current_dir = os.getcwd()\n",
        "data_dir = r'/content/gdrive/My Drive/training_set_microlensing/'"
      ],
      "execution_count": 0,
      "outputs": []
    },
    {
      "cell_type": "markdown",
      "metadata": {
        "id": "mF4SshagaAw2",
        "colab_type": "text"
      },
      "source": [
        "### 1. Input parameters"
      ]
    },
    {
      "cell_type": "code",
      "metadata": {
        "id": "xYQFOUe7Z-98",
        "colab_type": "code",
        "colab": {
          "base_uri": "https://localhost:8080/",
          "height": 55
        },
        "outputId": "87b159c5-d611-4614-bb2b-54bc6ca46207"
      },
      "source": [
        "v_t = [500, 300] # transverse velcity\n",
        "v_t_idx = 0 # choose index value for the velocity you would like (0 or 1)\n",
        "r_0 = [2,4,10,15,20,30,40,60,80,100] # scale radius\n",
        "\n",
        "# reloads the file if any changes are made in the methods\n",
        "importlib.reload(dat)"
      ],
      "execution_count": 15,
      "outputs": [
        {
          "output_type": "execute_result",
          "data": {
            "text/plain": [
              "<module 'dr02_preprocessing_data' from '/content/gdrive/My Drive/Colab Notebooks/dr02_preprocessing_data.py'>"
            ]
          },
          "metadata": {
            "tags": []
          },
          "execution_count": 15
        }
      ]
    },
    {
      "cell_type": "markdown",
      "metadata": {
        "id": "E9x31ZGmsWsD",
        "colab_type": "text"
      },
      "source": [
        "### 2. Load the data"
      ]
    },
    {
      "cell_type": "markdown",
      "metadata": {
        "id": "f58qKFoTr0TS",
        "colab_type": "text"
      },
      "source": [
        "There are 10 categories into which the light-curves are classified. Each category is represented by the scale radius `r_0`. For every scale radius, there exists a light-curve whose data points are stored in the 3D array `l_curves`."
      ]
    },
    {
      "cell_type": "code",
      "metadata": {
        "id": "EwCb_eMa9AlY",
        "colab_type": "code",
        "colab": {}
      },
      "source": [
        "# sets the sampling parameters\n",
        "sample_params = dat.setSamplingParameters(v_t[v_t_idx], data_dir, euler_sampling=True)\n",
        "\n",
        "# initializes data arrays\n",
        "class_cat, l_curves, out_catergories, out_radii = dat.initializer(r_0, sample_params)\n",
        "\n",
        "for i, rad in enumerate(r_0):\n",
        "  filename = dat.getFilename(data_dir, rad, v_t[v_t_idx], sample_params)\n",
        "  \n",
        "  # load data from the file\n",
        "  l_curves = dat.loadData(filename, l_curves, sample_params, i)\n",
        "  out_catergories[i*sample_params[0]:(i+1)*sample_params[0]] = class_cat[1][i]\n",
        "  out_radii[i*sample_params[0]:(i+1)*sample_params[0]] = r_0[i]"
      ],
      "execution_count": 0,
      "outputs": []
    },
    {
      "cell_type": "markdown",
      "metadata": {
        "id": "c4tKn20MtLo5",
        "colab_type": "text"
      },
      "source": [
        "#### 2.1 Plots of some random light-curves"
      ]
    },
    {
      "cell_type": "code",
      "metadata": {
        "id": "dbfCcU01tQAf",
        "colab_type": "code",
        "outputId": "f8701ce0-0281-4acf-ced8-b4c705e74b2a",
        "colab": {
          "base_uri": "https://localhost:8080/",
          "height": 289
        }
      },
      "source": [
        "fig, ax = plt.subplots(1, 1, figsize=(8,4))\n",
        "n = [5, 1000]\n",
        "ax.plot(l_curves[n[0], :], 'r.', label='Curve %i'%(n[0]))\n",
        "ax.plot(l_curves[n[1], :], 'b.', label='Curve %i'%(n[1]))\n",
        "dat.setLabels(ax, 'Magnitude', 'HJD (days)','')"
      ],
      "execution_count": 10,
      "outputs": [
        {
          "output_type": "display_data",
          "data": {
            "image/png": "[encoded data removed]",
            "text/plain": [
              "<Figure size 576x288 with 1 Axes>"
            ]
          },
          "metadata": {
            "tags": []
          }
        }
      ]
    },
    {
      "cell_type": "markdown",
      "metadata": {
        "id": "n_QsEWkm-3xj",
        "colab_type": "text"
      },
      "source": [
        "### 3. Generate training and testing data sets"
      ]
    },
    {
      "cell_type": "code",
      "metadata": {
        "id": "xT004oTHEMmb",
        "colab_type": "code",
        "colab": {}
      },
      "source": [
        "train_l_curves, test_l_curves, data_sets, onehot_train, \\\n",
        "onehot_test = dat.generateTestTrain(l_curves, out_catergories, out_radii, r_0)"
      ],
      "execution_count": 0,
      "outputs": []
    },
    {
      "cell_type": "markdown",
      "metadata": {
        "id": "6Okkl7tfzhu4",
        "colab_type": "text"
      },
      "source": [
        "### 4. Compiling the 3 networks\n",
        "\n",
        "The three networks compiled here are coded in `04_Neural_Network_Designs.ipynb` that have been saved as `dr04_Neural_Network_Designs.py`, for ease of importing it. The python files can be found in the GitHub repo folder *python files*. \n",
        "\n",
        "Note that if you are running this from colab, need to have these `.py` files in your drive folder *Colab Notebooks*. "
      ]
    },
    {
      "cell_type": "markdown",
      "metadata": {
        "id": "nHoEfwH5C3eE",
        "colab_type": "text"
      },
      "source": [
        "Default constants that can be modified."
      ]
    },
    {
      "cell_type": "code",
      "metadata": {
        "id": "VqVXaRDVC0uB",
        "colab_type": "code",
        "colab": {}
      },
      "source": [
        "# choose which network to use (default CNN2)\n",
        "CNN1, CNN2, ResNet = False, False, True"
      ],
      "execution_count": 0,
      "outputs": []
    },
    {
      "cell_type": "markdown",
      "metadata": {
        "id": "TGINq-rrVXgU",
        "colab_type": "text"
      },
      "source": [
        "The following code block uses the methods defined in the file `dr04_Neural_Network_Designs.py`: imported as **`nnet`**\n",
        "\n",
        "Model parameters are defined in the methods in **`nnet`** additionally some more details:\n",
        "* `num_hidden_nodes`: number of nodes in hidden fully connected layer\n",
        "*`dropout_ratio`: % of nodes in the hidden layer to dropout during back-propagation update of the network weights"
      ]
    },
    {
      "cell_type": "markdown",
      "metadata": {
        "id": "zg4jZomdnLWf",
        "colab_type": "text"
      },
      "source": [
        "#### 4.1 Compiling CNN2"
      ]
    },
    {
      "cell_type": "code",
      "metadata": {
        "id": "KMuhDzuAziUB",
        "colab_type": "code",
        "colab": {}
      },
      "source": [
        "if CNN2:\n",
        "  # reloads the file if any changes are made\n",
        "  importlib.reload(nnet)\n",
        "\n",
        "  \"\"\"--- CNN2 Model Parameters ---\"\"\"\n",
        "  num_filter = (32, 32, 44, 44)\n",
        "  kern_size = (21,21,15,15)\n",
        "  maxpoolsize = (None, 15, None, 15)\n",
        "  shortcut_link = (0,1,2,3)\n",
        "  batch_norm = False\n",
        "  num_hidden_nodes = [1500]\n",
        "  dropout_ratio = 0.4  \n",
        "  sampling = 3\n",
        "  num_pieces = 1\n",
        "  \n",
        "  # prepare the data\n",
        "  data_prep = nnet.prepare_data_sample_cut(test_l_curves, sampling, num_pieces)\n",
        "\n",
        "  # build the model\n",
        "  inputs, outputs = nnet.buildModelCNN2(sample_params[2], num_filter, kern_size, \\\n",
        "                                        maxpoolsize, num_hidden_nodes,\\\n",
        "                                        dropout_ratio, shortcut_link, batch_norm, \\\n",
        "                                        data_prep.shape[1], r_0)\n",
        "\n",
        "  # compile the model\n",
        "  # optimisation algorithm, loss (cost) function\n",
        "  optimizer_type = Adam(lr=5e-4)  \n",
        "  loss = 'categorical_crossentropy'  \n",
        "  #accuracy metric to be determined after each epoch \n",
        "  metrics = ['categorical_accuracy'] \n",
        "\n",
        "  model = nnet.compileDisplayNetwork(inputs, outputs, optimizer_type, loss, \\\n",
        "                                    metrics, 'CNN2', True)\n",
        "\n",
        "  print('Network created')"
      ],
      "execution_count": 0,
      "outputs": []
    },
    {
      "cell_type": "markdown",
      "metadata": {
        "id": "e7tQbQzznRy3",
        "colab_type": "text"
      },
      "source": [
        "#### 4.2 Compiling ResNet"
      ]
    },
    {
      "cell_type": "code",
      "metadata": {
        "id": "-sC8EiXgzTFy",
        "colab_type": "code",
        "colab": {
          "base_uri": "https://localhost:8080/",
          "height": 1000
        },
        "outputId": "6a8e3f47-7872-45a6-959c-514fed4a1329"
      },
      "source": [
        "if ResNet:\n",
        "  # reloads the file if any changes are made\n",
        "  importlib.reload(nnet)\n",
        "\n",
        "  \"\"\"--- ResNet Model Parameters ---\"\"\"\n",
        "  num_filter = (32, 32, 32)\n",
        "  kern_size = (10,20,50)\n",
        "  n_block = 5\n",
        "  maxpoolsize = 3\n",
        "  num_hidden_nodes =[1000.0,]\n",
        "  dropout_ratio = 0.7 \n",
        "  batch_norm = True\n",
        "  #If they are not 1, this network is not correctly defined.\n",
        "  sampling = 1\n",
        "  num_pieces = 1\n",
        "\n",
        "  # build network\n",
        "  inputs, outputs = nnet.defineResnet(sample_params[2], num_filter, \\\n",
        "                                           kern_size, n_block,maxpoolsize,\\\n",
        "                                           num_hidden_nodes, dropout_ratio, r_0,\\\n",
        "                                           batch_norm = batch_norm)\n",
        "  \n",
        "  learning_rate = 1e-4\n",
        "  decay_rate = 0.0\n",
        "  optimizer_type = Adam(lr=learning_rate, decay = decay_rate)  \n",
        "  loss = 'categorical_crossentropy'  \n",
        "  metrics = ['categorical_accuracy'] \n",
        "\n",
        "  model = nnet.compileDisplayNetwork(inputs, outputs, optimizer_type, loss, \\\n",
        "                                     metrics, 'ResNet', True)\n",
        "  \n",
        "  #model.load_weights('/content/gdrive/My Drive/Colab_Notebooks/Deep_learning_for_optical_IMaging/Resnet_weights.h5')\n",
        "\n",
        "  print('Network created')"
      ],
      "execution_count": 72,
      "outputs": [
        {
          "output_type": "stream",
          "text": [
            "Model: \"model_4\"\n",
            "__________________________________________________________________________________________________\n",
            "Layer (type)                    Output Shape         Param #     Connected to                     \n",
            "==================================================================================================\n",
            "input_37 (InputLayer)           [(None, 955, None, 1 0                                            \n",
            "__________________________________________________________________________________________________\n",
            "conv2d_181 (Conv2D)             (None, 955, None, 32 352         input_37[0][0]                   \n",
            "__________________________________________________________________________________________________\n",
            "activation_195 (Activation)     (None, 955, None, 32 0           conv2d_181[0][0]                 \n",
            "__________________________________________________________________________________________________\n",
            "conv2d_182 (Conv2D)             (None, 955, None, 32 20512       activation_195[0][0]             \n",
            "__________________________________________________________________________________________________\n",
            "activation_196 (Activation)     (None, 955, None, 32 0           conv2d_182[0][0]                 \n",
            "__________________________________________________________________________________________________\n",
            "conv2d_183 (Conv2D)             (None, 955, None, 32 51232       activation_196[0][0]             \n",
            "__________________________________________________________________________________________________\n",
            "activation_197 (Activation)     (None, 955, None, 32 0           conv2d_183[0][0]                 \n",
            "__________________________________________________________________________________________________\n",
            "add_81 (Add)                    (None, 955, None, 32 0           activation_197[0][0]             \n",
            "                                                                 input_37[0][0]                   \n",
            "__________________________________________________________________________________________________\n",
            "max_pooling2d_57 (MaxPooling2D) (None, 477, None, 32 0           add_81[0][0]                     \n",
            "__________________________________________________________________________________________________\n",
            "batch_normalization_57 (BatchNo (None, 477, None, 32 128         max_pooling2d_57[0][0]           \n",
            "__________________________________________________________________________________________________\n",
            "conv2d_184 (Conv2D)             (None, 477, None, 32 10272       batch_normalization_57[0][0]     \n",
            "__________________________________________________________________________________________________\n",
            "activation_198 (Activation)     (None, 477, None, 32 0           conv2d_184[0][0]                 \n",
            "__________________________________________________________________________________________________\n",
            "conv2d_185 (Conv2D)             (None, 477, None, 32 20512       activation_198[0][0]             \n",
            "__________________________________________________________________________________________________\n",
            "activation_199 (Activation)     (None, 477, None, 32 0           conv2d_185[0][0]                 \n",
            "__________________________________________________________________________________________________\n",
            "conv2d_186 (Conv2D)             (None, 477, None, 32 51232       activation_199[0][0]             \n",
            "__________________________________________________________________________________________________\n",
            "activation_200 (Activation)     (None, 477, None, 32 0           conv2d_186[0][0]                 \n",
            "__________________________________________________________________________________________________\n",
            "add_82 (Add)                    (None, 477, None, 32 0           activation_200[0][0]             \n",
            "                                                                 batch_normalization_57[0][0]     \n",
            "__________________________________________________________________________________________________\n",
            "max_pooling2d_58 (MaxPooling2D) (None, 238, None, 32 0           add_82[0][0]                     \n",
            "__________________________________________________________________________________________________\n",
            "batch_normalization_58 (BatchNo (None, 238, None, 32 128         max_pooling2d_58[0][0]           \n",
            "__________________________________________________________________________________________________\n",
            "conv2d_187 (Conv2D)             (None, 238, None, 32 10272       batch_normalization_58[0][0]     \n",
            "__________________________________________________________________________________________________\n",
            "activation_201 (Activation)     (None, 238, None, 32 0           conv2d_187[0][0]                 \n",
            "__________________________________________________________________________________________________\n",
            "conv2d_188 (Conv2D)             (None, 238, None, 32 20512       activation_201[0][0]             \n",
            "__________________________________________________________________________________________________\n",
            "activation_202 (Activation)     (None, 238, None, 32 0           conv2d_188[0][0]                 \n",
            "__________________________________________________________________________________________________\n",
            "conv2d_189 (Conv2D)             (None, 238, None, 32 51232       activation_202[0][0]             \n",
            "__________________________________________________________________________________________________\n",
            "activation_203 (Activation)     (None, 238, None, 32 0           conv2d_189[0][0]                 \n",
            "__________________________________________________________________________________________________\n",
            "add_83 (Add)                    (None, 238, None, 32 0           activation_203[0][0]             \n",
            "                                                                 batch_normalization_58[0][0]     \n",
            "__________________________________________________________________________________________________\n",
            "max_pooling2d_59 (MaxPooling2D) (None, 118, None, 32 0           add_83[0][0]                     \n",
            "__________________________________________________________________________________________________\n",
            "batch_normalization_59 (BatchNo (None, 118, None, 32 128         max_pooling2d_59[0][0]           \n",
            "__________________________________________________________________________________________________\n",
            "conv2d_190 (Conv2D)             (None, 118, None, 32 10272       batch_normalization_59[0][0]     \n",
            "__________________________________________________________________________________________________\n",
            "activation_204 (Activation)     (None, 118, None, 32 0           conv2d_190[0][0]                 \n",
            "__________________________________________________________________________________________________\n",
            "conv2d_191 (Conv2D)             (None, 118, None, 32 20512       activation_204[0][0]             \n",
            "__________________________________________________________________________________________________\n",
            "activation_205 (Activation)     (None, 118, None, 32 0           conv2d_191[0][0]                 \n",
            "__________________________________________________________________________________________________\n",
            "conv2d_192 (Conv2D)             (None, 118, None, 32 51232       activation_205[0][0]             \n",
            "__________________________________________________________________________________________________\n",
            "activation_206 (Activation)     (None, 118, None, 32 0           conv2d_192[0][0]                 \n",
            "__________________________________________________________________________________________________\n",
            "add_84 (Add)                    (None, 118, None, 32 0           activation_206[0][0]             \n",
            "                                                                 batch_normalization_59[0][0]     \n",
            "__________________________________________________________________________________________________\n",
            "max_pooling2d_60 (MaxPooling2D) (None, 58, None, 32) 0           add_84[0][0]                     \n",
            "__________________________________________________________________________________________________\n",
            "batch_normalization_60 (BatchNo (None, 58, None, 32) 128         max_pooling2d_60[0][0]           \n",
            "__________________________________________________________________________________________________\n",
            "conv2d_193 (Conv2D)             (None, 58, None, 32) 10272       batch_normalization_60[0][0]     \n",
            "__________________________________________________________________________________________________\n",
            "activation_207 (Activation)     (None, 58, None, 32) 0           conv2d_193[0][0]                 \n",
            "__________________________________________________________________________________________________\n",
            "conv2d_194 (Conv2D)             (None, 58, None, 32) 20512       activation_207[0][0]             \n",
            "__________________________________________________________________________________________________\n",
            "activation_208 (Activation)     (None, 58, None, 32) 0           conv2d_194[0][0]                 \n",
            "__________________________________________________________________________________________________\n",
            "conv2d_195 (Conv2D)             (None, 58, None, 32) 51232       activation_208[0][0]             \n",
            "__________________________________________________________________________________________________\n",
            "activation_209 (Activation)     (None, 58, None, 32) 0           conv2d_195[0][0]                 \n",
            "__________________________________________________________________________________________________\n",
            "add_85 (Add)                    (None, 58, None, 32) 0           activation_209[0][0]             \n",
            "                                                                 batch_normalization_60[0][0]     \n",
            "__________________________________________________________________________________________________\n",
            "max_pooling2d_61 (MaxPooling2D) (None, 28, None, 32) 0           add_85[0][0]                     \n",
            "__________________________________________________________________________________________________\n",
            "batch_normalization_61 (BatchNo (None, 28, None, 32) 128         max_pooling2d_61[0][0]           \n",
            "__________________________________________________________________________________________________\n",
            "global_max_pooling_sp2d_10 (Glo (None, 28, 32)       0           batch_normalization_61[0][0]     \n",
            "__________________________________________________________________________________________________\n",
            "flatten_10 (Flatten)            (None, 896)          0           global_max_pooling_sp2d_10[0][0] \n",
            "__________________________________________________________________________________________________\n",
            "dense_14 (Dense)                (None, 1000)         897000      flatten_10[0][0]                 \n",
            "__________________________________________________________________________________________________\n",
            "activation_210 (Activation)     (None, 1000)         0           dense_14[0][0]                   \n",
            "__________________________________________________________________________________________________\n",
            "dropout_9 (Dropout)             (None, 1000)         0           activation_210[0][0]             \n",
            "__________________________________________________________________________________________________\n",
            "dense_15 (Dense)                (None, 10)           10010       dropout_9[0][0]                  \n",
            "__________________________________________________________________________________________________\n",
            "activation_211 (Activation)     (None, 10)           0           dense_15[0][0]                   \n",
            "==================================================================================================\n",
            "Total params: 1,307,810\n",
            "Trainable params: 1,307,490\n",
            "Non-trainable params: 320\n",
            "__________________________________________________________________________________________________\n",
            "None\n",
            "Network created\n"
          ],
          "name": "stdout"
        }
      ]
    },
    {
      "cell_type": "markdown",
      "metadata": {
        "id": "O48BuqCSnEYH",
        "colab_type": "text"
      },
      "source": [
        "#### 4.3 Compiling CNN1"
      ]
    },
    {
      "cell_type": "code",
      "metadata": {
        "id": "e5I5ahwN9WtT",
        "colab_type": "code",
        "colab": {}
      },
      "source": [
        "if CNN1:\n",
        "  # work in progress\n",
        "  model.compile(optimizer=optimizer_type, loss=loss, metrics=metrics)\n"
      ],
      "execution_count": 0,
      "outputs": []
    },
    {
      "cell_type": "markdown",
      "metadata": {
        "id": "-x_2o3VOUtE2",
        "colab_type": "text"
      },
      "source": [
        "### 5. Training the network\n",
        "\n",
        "Constants used for training the network"
      ]
    },
    {
      "cell_type": "code",
      "metadata": {
        "id": "4im8AyzDU_YC",
        "colab_type": "code",
        "colab": {}
      },
      "source": [
        "validtrain_split_ratio = 0.2  # % of the seen dataset to be put aside for validation, rest is for training\n",
        "max_epochs = 50  # maxmimum number of epochs to be iterated\n",
        "batch_size = 60   # batch size for the training data set\n",
        "num_inputs = 1"
      ],
      "execution_count": 0,
      "outputs": []
    }
  ]
}